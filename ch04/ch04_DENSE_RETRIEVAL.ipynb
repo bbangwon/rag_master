{
 "cells": [
  {
   "cell_type": "markdown",
   "id": "0e159fee",
   "metadata": {},
   "source": [
    "# FAISS: 밀집 검색의 효과적인 구현을 위한 라이브러리\n",
    "- FAISS는 대규모 데이터셋에서 고차원 벡터의 유사도 검색을 빠르게 수행할 수 있도록 설계된 라이브러리입니다.\n",
    "- 도서관에서 책을 찾은 과정을 생각해봅시다.\n",
    "- 책을 주제별로 분류하고 각 주제 안에서 다시 세부 카테고리로 나누어 체계적으로 관리합니다.\n",
    "- FAISS도 이와 유사한 방식으로 작동합니다.\n",
    "- 가장 기본적인 형태의 FAISS 인덱스(Flat 인덱스)는 모든 벡터를 있는 그대로 저장하고 전체 검색을 수행합니다.\n",
    "- 이는 마치 모든 책을 한 줄로 늘어놓은 것과 같습니다. 작은 데이터셋에서는 이 방법이 정확하고 충분히 빠를 수 있지만, 데이터가 많아지면 검색속도가 급격히 느려집니다."
   ]
  },
  {
   "cell_type": "markdown",
   "id": "ee2abd45",
   "metadata": {},
   "source": [
    "- FAISS는 더 발전된 인덱싱 방법을 제공합니다. 그 중 하나가 IVF(Inverted File) 인덱스를 활용하는 방식입니다.\n",
    "- IVF인덱스는 벡터 공간을 여러 개의 클러스터로 나눕니다.\n",
    "- 이는 마치 도서관에서 책을 주제별로 분류하는 것과 비슷합니다.\n",
    "- 검색 시에는 질문 벡터와 가장 가까운 주제를 먼저 파악한 다음, 해당 주제의 책만을 살펴봄으로써 검색 속도를 크게 향상시킵니다.\n"
   ]
  },
  {
   "cell_type": "markdown",
   "id": "30d25964",
   "metadata": {},
   "source": [
    "- 예를들어 100만개의 문서 벡터가 있고, 이를 1000개의 클러스터로 나눴다고 가정해볼 경우\n",
    "- 새로운 검색쿼리가 들어오면 먼저 가장 가까운 클러스터를 찾고, 클러스터내의 벡터들(약 1000개)만 유사도를 계산합니다."
   ]
  },
  {
   "cell_type": "code",
   "execution_count": 1,
   "id": "0ff1bab4",
   "metadata": {},
   "outputs": [],
   "source": [
    "from langchain_community.document_loaders import PyPDFLoader\n",
    "from langchain_text_splitters import RecursiveCharacterTextSplitter\n",
    "\n",
    "file_path = \"data/투자설명서.pdf\"\n",
    "loader = PyPDFLoader(file_path)\n",
    "\n",
    "doc_splitter = RecursiveCharacterTextSplitter(chunk_size=2000, chunk_overlap=200)\n",
    "docs = loader.load_and_split(doc_splitter)"
   ]
  },
  {
   "cell_type": "markdown",
   "id": "9dabc75d",
   "metadata": {},
   "source": [
    "- FAISS DB와 리트리버를 구축하는 단계로 넘어갑니다. 이 과정은 문서의 벡터화, 데이터베이스 생성 및 저장, 리트리버 생성의 세 부분으로 나눌 수 있습니다.\n"
   ]
  },
  {
   "cell_type": "code",
   "execution_count": 3,
   "id": "17bb50ff",
   "metadata": {},
   "outputs": [],
   "source": [
    "from langchain_ollama.embeddings import OllamaEmbeddings\n",
    "embedding = OllamaEmbeddings(model=\"bge-m3\")"
   ]
  },
  {
   "cell_type": "markdown",
   "id": "913c522e",
   "metadata": {},
   "source": [
    "- FAISS 데이터베이스를 생성하고 저장합니다."
   ]
  },
  {
   "cell_type": "code",
   "execution_count": 4,
   "id": "292a2852",
   "metadata": {},
   "outputs": [],
   "source": [
    "# FAISS 라이브러리 임포트\n",
    "from langchain_community.vectorstores import FAISS\n",
    "\n",
    "# FAISS DB 생성 후 저장\n",
    "faiss_store = FAISS.from_documents(docs, embedding)\n",
    "faiss_store.save_local(\"data/DB\")"
   ]
  },
  {
   "cell_type": "markdown",
   "id": "25049cd4",
   "metadata": {},
   "source": [
    "- 저장된 FAISS DB를 다시 로드합니다."
   ]
  },
  {
   "cell_type": "code",
   "execution_count": 7,
   "id": "9ccc6443",
   "metadata": {},
   "outputs": [],
   "source": [
    "# 저장된 DB 경로 지정 후, DB 로드\n",
    "persist_directory = \"data/DB\"\n",
    "vectordb = FAISS.load_local(persist_directory, embeddings=embedding, allow_dangerous_deserialization=True)"
   ]
  },
  {
   "cell_type": "markdown",
   "id": "fbe9dcdb",
   "metadata": {},
   "source": [
    "- allow_dangerous_deserialization=True는 pickle 라이브러리(직렬화, 역직렬화 라이브러리)를 사용하여 DB를 불러오는 것입니다."
   ]
  },
  {
   "cell_type": "code",
   "execution_count": 8,
   "id": "53718eba",
   "metadata": {},
   "outputs": [],
   "source": [
    "# FAISS 리트리버 생성\n",
    "faiss_retriever = vectordb.as_retriever(search_kwargs={\"k\": 2})"
   ]
  },
  {
   "cell_type": "code",
   "execution_count": 10,
   "id": "3b940ba8",
   "metadata": {},
   "outputs": [],
   "source": [
    "from langchain.chains import RetrievalQA, ConversationalRetrievalChain\n",
    "from langchain_openai import ChatOpenAI\n",
    "\n",
    "# 관련 있는 문서 수집 후, 챗GPT로 최종 답변까지 수행\n",
    "qa_chain = RetrievalQA.from_chain_type(\n",
    "    llm=ChatOpenAI(model=\"gpt-4o-mini\", temperature=0.2),\n",
    "    chain_type=\"stuff\",\n",
    "    retriever=faiss_retriever,\n",
    "    return_source_documents=True, # 답변에 사용된 source_document 도 보여주도록 설정\n",
    ")"
   ]
  },
  {
   "cell_type": "code",
   "execution_count": 11,
   "id": "7442ac32",
   "metadata": {},
   "outputs": [
    {
     "data": {
      "text/plain": [
       "{'query': '이 회사가 발행한 주식의 총 발행량이 어느 정도야?',\n",
       " 'result': '이 회사가 발행한 주식의 총 발행량은 13,602,977주입니다.',\n",
       " 'source_documents': [Document(id='600f79ef-e2da-4280-92b4-89ca39d9a9b1', metadata={'producer': 'iText® 5.5.9 ©2000-2015 iText Group NV (AGPL-version)', 'creator': 'PyPDF', 'creationdate': '2024-06-26T16:15:14+09:00', 'moddate': '2024-06-26T16:15:14+09:00', 'source': 'data/투자설명서.pdf', 'total_pages': 514, 'page': 328, 'page_label': '329'}, page_content='나. 자기 주식 \\n \\n당사는 본 보고서 작성기준일 현재 해당 사항이 없습니다. \\n \\n다. 다양한 종류의 주식 \\n \\n당사는 본 보고서 작성기준일 현재 해당 사항이 없습니다. \\n  \\n5. 정관에 관한 사항 \\n \\n가. 정관 변경 이력 \\nⅠ. 발행할 주식의 총수 75,000,000 25,000,000 100,000,000 -\\nⅡ. 현재까지 발행한 주식의 총수 13,602,977 - 13,602,977 -\\nⅢ. 현재까지 감소한 주식의 총수 - - - -\\n1. 감자 - - - -\\n2. 이익소각 - - - -\\n3. 상환주식의 상\\n환 - - - -\\n4. 기타 - - - -\\nⅣ. 발행주식의 총수 (Ⅱ-Ⅲ) 13,602,977 - 13,602,977 -\\nⅤ. 자기주식수 - - - -\\nⅥ. 유통주식수 (Ⅳ-Ⅴ) 13,602,977 - 13,602,977 -\\n정관변\\n경일 해당주총명 주요변경사항 변경이유\\n2020.03\\n.25\\n제14기 정기주\\n주총회\\n제2조(목적)\\n제17조(전환사채의 발\\n행)\\n제18조(신주인수권부사\\n채의 발행)\\n제19조(이익참가부사채\\n의 발행)\\n제20조(교환사채의 발\\n행)\\n- 관련 사업 확장가능성에 따른 신규 목적사업\\n추가\\n- 한도 증액\\n- 한도 증액\\n- 한도 증액\\n- 한도 증액\\n2022.03\\n.23\\n제16기 정기주\\n주총회\\n제2조(목적)\\n제8조의 2(주식 등의 전\\n자등록)\\n제47조(감사의 선임)\\n- 관련 사업 확장가능성에 따른 신규 목적사업\\n추가\\n- 전자증권제도 도입 반영\\n- 감사 선임에 관한 조문 정비 및 전자투표 도입\\n시 결의 요건 내용 반영'),\n",
       "  Document(id='8ddb4358-77af-4ec3-b6fb-ece6315fb1fd', metadata={'producer': 'iText® 5.5.9 ©2000-2015 iText Group NV (AGPL-version)', 'creator': 'PyPDF', 'creationdate': '2024-06-26T16:15:14+09:00', 'moddate': '2024-06-26T16:15:14+09:00', 'source': 'data/투자설명서.pdf', 'total_pages': 514, 'page': 46, 'page_label': '47'}, page_content='II. 증권의 주요 권리내용    \\n당사가 금번 주주배정후 실권주 일반공모 유상증자를 통하여 발행할 증권은 기명식 보통주\\n이며, 동 증권의 주요 권리내용은 다음과 같습니다. \\n  \\n1. 주식에 관한 사항 \\n  \\n제5조(발행예정주식총수) 회사가 발행할 주식의 총수는 100,000,000주로 한다.\\n제6조(설립시에 발행하는 주식의 총수) 회사가 설립시에 발행하는 주식의 총수는 29,600주(1주의\\n금액 5,000원 기준)로 한다.\\n제7조(1주의 금액) 주식 1주의 금액은 500원으로 한다.\\n제8조(주식의 종류) 회사가 발행하는 주식은 기명식으로 한다.\\n제8조의2(주식 등의 전자등록) 회사는 「주식·사채 등의 전자등록에 관한 법률」 제2조 제1호에 따\\n른 주식 등을 발행하는 경우에는 전자등록기관의 전자등록계좌부에 주식 등을 전자등록하여야 한다\\n. 다만, 회사가 법령에 따른 등록의무를 부담하지 않는 주식등의 경우에는 그러하지 아니할 수 있다.\\n제9조(주식의 종류)\\n① 회사가 발행할 주식은 보통주식과 종류주식으로 한다.\\n② 회사가 발행하는 종류주식은 이익배당 또는 잔여재산분배에 관한 우선주식, 의결권 배제 또는 제\\n한에 관한 주식, 상환주식, 전환주식 및 이들의 전부 또는 일부를 혼합한 주식으로 한다.\\n제14조(명의개서대리인)\\n① 회사는 주식의 명의개서대리인을 둔다.\\n② 명의개서대리인 및 그 영업소와 대행업무의 범위는 이사회의 결의로 정한다.\\n③ 회사는 주주명부 또는 그 복본을 명의개서대리인의 사무취급장소에 비치하고, 주식의 전자등록,\\n주주명부의 관리, 기타 주식에 관한 사무는 명의개서대리인으로 하여금 취급케 한다.\\n④ 제3항의 사무취급에 관한 절차는 명의개서대리인의 증권명의개서대행 업무규정에 따른다.')]}"
      ]
     },
     "execution_count": 11,
     "metadata": {},
     "output_type": "execute_result"
    }
   ],
   "source": [
    "qa_chain.invoke(\"이 회사가 발행한 주식의 총 발행량이 어느 정도야?\")"
   ]
  }
 ],
 "metadata": {
  "kernelspec": {
   "display_name": ".venv",
   "language": "python",
   "name": "python3"
  },
  "language_info": {
   "codemirror_mode": {
    "name": "ipython",
    "version": 3
   },
   "file_extension": ".py",
   "mimetype": "text/x-python",
   "name": "python",
   "nbconvert_exporter": "python",
   "pygments_lexer": "ipython3",
   "version": "3.11.12"
  }
 },
 "nbformat": 4,
 "nbformat_minor": 5
}
