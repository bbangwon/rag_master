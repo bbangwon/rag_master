{
 "cells": [
  {
   "cell_type": "markdown",
   "id": "767df5a0",
   "metadata": {},
   "source": [
    "# 크로마\n",
    "- 크로마는 간단하고 직관적인 인터페이스를 제공하므로, 사용자들이 쉽게 설정하고 사용할 수 있어 빠른 프로토타이핑에 적합합니다.\n",
    "- 다양한 데이터 타입을 지원해 데이터 확장성이 뛰어납니다.\n",
    "- 주로 단일 노드 환경에서 사용하기때문에 대규모 데이터셋을 다룰 때는 성능에 한계가 있을 수 있습니다."
   ]
  },
  {
   "cell_type": "code",
   "execution_count": 6,
   "id": "17850e51",
   "metadata": {},
   "outputs": [],
   "source": [
    "from langchain_community.document_loaders import PyPDFLoader\n",
    "from langchain.text_splitter import RecursiveCharacterTextSplitter\n",
    "from langchain_ollama import OllamaEmbeddings\n",
    "from langchain_chroma import Chroma"
   ]
  },
  {
   "cell_type": "code",
   "execution_count": 2,
   "id": "9161486c",
   "metadata": {},
   "outputs": [
    {
     "name": "stdout",
     "output_type": "stream",
     "text": [
      "청크의 수: 84\n"
     ]
    }
   ],
   "source": [
    "# PDF 파일 로드\n",
    "loader = PyPDFLoader(\"2024_KB_부동산_보고서_최종.pdf\")\n",
    "pages = loader.load()\n",
    "print(f\"청크의 수: {len(pages)}\")"
   ]
  },
  {
   "cell_type": "markdown",
   "id": "6e0a8fa2",
   "metadata": {},
   "source": [
    "- chunk_size=1000 : 각 청크는 1000자로 분할\n",
    "- chunk_overlap=200 : 청크 간 200자씩 겹침"
   ]
  },
  {
   "cell_type": "code",
   "execution_count": 3,
   "id": "e037e07f",
   "metadata": {},
   "outputs": [
    {
     "name": "stdout",
     "output_type": "stream",
     "text": [
      "분할된 청크의 수: 135\n"
     ]
    }
   ],
   "source": [
    "# 텍스트 분할\n",
    "text_splitter = RecursiveCharacterTextSplitter(\n",
    "    chunk_size=1000,\n",
    "    chunk_overlap=200,\n",
    ")\n",
    "splits = text_splitter.split_documents(pages)\n",
    "print(f\"분할된 청크의 수: {len(splits)}\")"
   ]
  },
  {
   "cell_type": "code",
   "execution_count": 4,
   "id": "25fcf2fa",
   "metadata": {},
   "outputs": [
    {
     "name": "stdout",
     "output_type": "stream",
     "text": [
      "최대 청크 길이: 1000\n",
      "최소 청크 길이: 56\n",
      "평균 청크 길이: 674.9481481481481\n"
     ]
    }
   ],
   "source": [
    "# 각 청크의 길이(문자 수)를 저장한 리스트 생성\n",
    "chunk_lengths = [len(split.page_content) for split in splits]\n",
    "max_length = max(chunk_lengths)\n",
    "min_length = min(chunk_lengths)\n",
    "avg_length = sum(chunk_lengths) / len(chunk_lengths)\n",
    "\n",
    "print(f\"최대 청크 길이: {max_length}\")\n",
    "print(f\"최소 청크 길이: {min_length}\")\n",
    "print(f\"평균 청크 길이: {avg_length}\")"
   ]
  },
  {
   "cell_type": "markdown",
   "id": "2b19bd0e",
   "metadata": {},
   "source": [
    "### 크로마 데이터베이스 저장\n",
    "persist_directory의 기본값은 'None'이며, 이 경우 크로마는 데이터를 메모리에만 저장하므로 프로그램이 실행되는 동안에만 데이터가 유지됩니다.  \n",
    "persist_directory에 경로를 설정하면 크로마가 해당 디렉토리에서 데이터를 읽거나 쓸 수 있으며, 이를 통해 데이터베이스를 디스크에 저장하여 코드 실행이 종료되어도 데이터를 유지할 수 있습니다.  \n",
    "이 설정이 없으면 메모리에만 남아 세션 종료시 삭제되므로, 데이터를 장기적으로 보존하고 지속적으로 사용하려면 persist_directory 경로를 설정해야 합니다.\n"
   ]
  },
  {
   "cell_type": "code",
   "execution_count": 8,
   "id": "a80c5018",
   "metadata": {},
   "outputs": [],
   "source": [
    "# 임베딩 모델 초기화\n",
    "embedding_function = OllamaEmbeddings(model=\"bge-m3\")"
   ]
  },
  {
   "cell_type": "code",
   "execution_count": null,
   "id": "52e2fb56",
   "metadata": {},
   "outputs": [
    {
     "name": "stdout",
     "output_type": "stream",
     "text": [
      "문서의 수: 135\n"
     ]
    }
   ],
   "source": [
    "# Chroma DB 생성 및 데이터 저장\n",
    "persist_directory = \"chroma_db\"\n",
    "vectordb = Chroma.from_documents(\n",
    "    documents=splits,\n",
    "    embedding=embedding_function,\n",
    "    persist_directory=persist_directory,\n",
    ")\n",
    "print(f\"문서의 수:\", vectordb._collection.count())"
   ]
  },
  {
   "cell_type": "markdown",
   "id": "d345ef6e",
   "metadata": {},
   "source": [
    "- Chroma.from_documents() 메서드를 반복적으로 호출할 경우, 메모리가 중복으로 쌓일 수 있으므로 주의해야 합니다."
   ]
  },
  {
   "cell_type": "code",
   "execution_count": 9,
   "id": "647e34f8",
   "metadata": {},
   "outputs": [
    {
     "name": "stdout",
     "output_type": "stream",
     "text": [
      "문서의 수: 135\n"
     ]
    }
   ],
   "source": [
    "# Chroma DB 불러오기\n",
    "vectordb = Chroma(\n",
    "    embedding_function=embedding_function,\n",
    "    persist_directory=persist_directory,\n",
    ")\n",
    "print(f\"문서의 수:\", vectordb._collection.count())"
   ]
  },
  {
   "cell_type": "markdown",
   "id": "c4719d56",
   "metadata": {},
   "source": [
    "- 데이터베이스 객체를 생성한 후, 사용자 입력과 유사한 문서를 찾으려면 similarity_search()를 사용합니다."
   ]
  },
  {
   "cell_type": "code",
   "execution_count": 13,
   "id": "fafe881d",
   "metadata": {},
   "outputs": [
    {
     "name": "stdout",
     "output_type": "stream",
     "text": [
      "문서 1:\n",
      "내용: 40 \n",
      "2024 KB 부동산 보고서: 수도권 주택시장 점검 \n",
      " \n",
      " \n",
      " \n",
      "주택 매매가격은 2023년 상반기 이후 회복세를 보였으나 상승폭이 크지 않았으며 12월 다시 하락세\n",
      "로 전환되었다. 2023년 연간 주택 매매가격은 4.64% 하락하면서 2022년(1.83% 하락)...\n",
      "메타데이터: {'author': '손은경', 'creationdate': '2024-03-04T15:30:01+09:00', 'creator': 'Microsoft® Word 2016', 'moddate': '2024-03-04T15:30:01+09:00', 'page': 46, 'page_label': '47', 'producer': 'Microsoft® Word 2016', 'source': '2024_KB_부동산_보고서_최종.pdf', 'title': 'Morning Meeting', 'total_pages': 84}\n",
      "--------------------------------------------------\n",
      "문서 2:\n",
      "내용: 28 \n",
      "2024 KB 부동산 보고서: 주택시장 설문조사 \n",
      " \n",
      " \n",
      "1) 2024년 주택시장 전망 \n",
      "■ 주택 매매가격, 2024년에도 하락 전망 우세한 가운데 상승 전망 2023년 대비 증가 \n",
      "부동산시장 전문가와 공인중개사, 자산관리전문가(PB)를 대상으로 한 설문조사 결...\n",
      "메타데이터: {'author': '손은경', 'creationdate': '2024-03-04T15:30:01+09:00', 'creator': 'Microsoft® Word 2016', 'moddate': '2024-03-04T15:30:01+09:00', 'page': 34, 'page_label': '35', 'producer': 'Microsoft® Word 2016', 'source': '2024_KB_부동산_보고서_최종.pdf', 'title': 'Morning Meeting', 'total_pages': 84}\n",
      "--------------------------------------------------\n"
     ]
    }
   ],
   "source": [
    "# similarity 검색\n",
    "question = \"수도권 주택 매매 전망\"\n",
    "top_three_docs = vectordb.similarity_search(question, k=2)\n",
    "for i, doc in enumerate(top_three_docs, 1):\n",
    "    print(f\"문서 {i}:\")\n",
    "    print(f\"내용: {doc.page_content[:150]}...\") # 텍스트의 처음 150자만 출력\n",
    "    print(f\"메타데이터: {doc.metadata}\")\n",
    "    print(\"-\" * 50)"
   ]
  },
  {
   "cell_type": "code",
   "execution_count": 14,
   "id": "36d7f3f5",
   "metadata": {},
   "outputs": [
    {
     "name": "stdout",
     "output_type": "stream",
     "text": [
      "문서 1:\n",
      "유사도 점수: 0.5542737276432206\n",
      "내용: 40 \n",
      "2024 KB 부동산 보고서: 수도권 주택시장 점검 \n",
      " \n",
      " \n",
      " \n",
      "주택 매매가격은 2023년 상반기 이후 회복세를 보였으나 상승폭이 크지 않았으며 12월 다시 하락세\n",
      "로 전환되었다. 2023년 연간 주택 매매가격은 4.64% 하락하면서 2022년(1.83% 하락)...\n",
      "메타데이터: {'author': '손은경', 'creationdate': '2024-03-04T15:30:01+09:00', 'creator': 'Microsoft® Word 2016', 'moddate': '2024-03-04T15:30:01+09:00', 'page': 46, 'page_label': '47', 'producer': 'Microsoft® Word 2016', 'source': '2024_KB_부동산_보고서_최종.pdf', 'title': 'Morning Meeting', 'total_pages': 84}\n",
      "--------------------------------------------------\n",
      "문서 2:\n",
      "유사도 점수: 0.5453653590077154\n",
      "내용: 28 \n",
      "2024 KB 부동산 보고서: 주택시장 설문조사 \n",
      " \n",
      " \n",
      "1) 2024년 주택시장 전망 \n",
      "■ 주택 매매가격, 2024년에도 하락 전망 우세한 가운데 상승 전망 2023년 대비 증가 \n",
      "부동산시장 전문가와 공인중개사, 자산관리전문가(PB)를 대상으로 한 설문조사 결...\n",
      "메타데이터: {'author': '손은경', 'creationdate': '2024-03-04T15:30:01+09:00', 'creator': 'Microsoft® Word 2016', 'moddate': '2024-03-04T15:30:01+09:00', 'page': 34, 'page_label': '35', 'producer': 'Microsoft® Word 2016', 'source': '2024_KB_부동산_보고서_최종.pdf', 'title': 'Morning Meeting', 'total_pages': 84}\n",
      "--------------------------------------------------\n",
      "문서 3:\n",
      "유사도 점수: 0.5162646881317321\n",
      "내용: 18 \n",
      "2024 KB 부동산 보고서: 2024년 주택시장 진단과 전망 \n",
      " \n",
      "그림Ⅰ-30. 수도권 입주물량과 전세가격 변동률 추이  그림Ⅰ-31. 기타지방 입주물량과 전세가격 변동률 추이 \n",
      " \n",
      " \n",
      " \n",
      "자료: KB국민은행, 부동산114  자료: KB국민은행, 부동산114...\n",
      "메타데이터: {'author': '손은경', 'creationdate': '2024-03-04T15:30:01+09:00', 'creator': 'Microsoft® Word 2016', 'moddate': '2024-03-04T15:30:01+09:00', 'page': 24, 'page_label': '25', 'producer': 'Microsoft® Word 2016', 'source': '2024_KB_부동산_보고서_최종.pdf', 'title': 'Morning Meeting', 'total_pages': 84}\n",
      "--------------------------------------------------\n"
     ]
    }
   ],
   "source": [
    "# similarity 검색(with relevance scores)\n",
    "question = \"수도권 주택 매매 전망\"\n",
    "top_three_docs = vectordb.similarity_search_with_relevance_scores(question, k=3)\n",
    "for i, doc in enumerate(top_three_docs, 1):\n",
    "    print(f\"문서 {i}:\")\n",
    "    print(f\"유사도 점수: {doc[1]}\")\n",
    "    print(f\"내용: {doc[0].page_content[:150]}...\") # 텍스트의 처음 150자만 출력\n",
    "    print(f\"메타데이터: {doc[0].metadata}\")\n",
    "    print(\"-\" * 50)"
   ]
  },
  {
   "cell_type": "markdown",
   "id": "2f5acc9f",
   "metadata": {},
   "source": [
    "# 파이스\n",
    "- 파이스는 페이스북 AI리서치 팀이 개발한 고성능 벡터 검색 라이브러리입니다.\n",
    "- 대규모 데이터셋에서 유사성 검색과 클러스터링 작업을 효율적으로 수행할 수 있도록 설계되었습니다.\n",
    "- 파이스는 GPU가속을 통해 수백만 개 이상의 고차원 벡터를 처리하여 매우 빠른 속도를 제공합니다.\n",
    "- 고급 기능을 활용하려면 설정이 복잡하고, 분산 시스템에서는 제약이 있을 수 있다는 단점이 있습니다.\n",
    "- GPU 사용이 가능한 환경이라면 faiss-gpu, 그렇지 않다면 faiss-cpu를 설치합니다."
   ]
  },
  {
   "cell_type": "code",
   "execution_count": 15,
   "id": "d429a4e1",
   "metadata": {},
   "outputs": [],
   "source": [
    "from langchain_community.vectorstores import FAISS"
   ]
  },
  {
   "cell_type": "code",
   "execution_count": null,
   "id": "590a8450",
   "metadata": {},
   "outputs": [
    {
     "name": "stdout",
     "output_type": "stream",
     "text": [
      "문서의 수: 135\n"
     ]
    }
   ],
   "source": [
    "# 파이스 DB 생성\n",
    "faiss_db = FAISS.from_documents(documents=splits, embedding=embedding_function)\n",
    "print(f\"문서의 수: {faiss_db.index.ntotal}\")"
   ]
  },
  {
   "cell_type": "markdown",
   "id": "079faa26",
   "metadata": {},
   "source": [
    "- faiss_db.save_local('파일 경로 및 파일명')을 사용하면 파이스 벡터 데이터베이스를 파일로 저장할 수 있습니다.\n",
    "- FAISS.load_local('파일 경로 및 파일명')을 사용하면 저장한 벡터데이터베이스를 로드할 수 있습니다.\n",
    "- allow_dangerous_deserialization=True 옵션은 파일을 읽을 때 보안 경고를 무시하고 객체를 복원하도록 하는 설정입니다.\n",
    "- 파이썬에서는 파일을 객체로 변환하는 과정에서 보안 위험이 있을 경우 파일 읽기를 거부할 수 있습니다."
   ]
  },
  {
   "cell_type": "code",
   "execution_count": null,
   "id": "2e740993",
   "metadata": {},
   "outputs": [],
   "source": [
    "# 파이스 DB 저장하기\n",
    "faiss_directory = \"faiss_index\"\n",
    "faiss_db.save_local(faiss_directory)\n",
    "\n",
    "# 파이스 DB 불러오기\n",
    "new_db_faiss = FAISS.load_local(faiss_directory,\n",
    "                                embedding_function,\n",
    "                                allow_dangerous_deserialization=True)"
   ]
  },
  {
   "cell_type": "code",
   "execution_count": 18,
   "id": "54923705",
   "metadata": {},
   "outputs": [
    {
     "name": "stdout",
     "output_type": "stream",
     "text": [
      "문서 1:\n",
      "내용: 40 \n",
      "2024 KB 부동산 보고서: 수도권 주택시장 점검 \n",
      " \n",
      " \n",
      " \n",
      "주택 매매가격은 2023년 상반기 이후 회복세를 보였으나 상승폭이 크지 않았으며 12월 다시 하락세\n",
      "로 전환되었다. 2023년 연간 주택 매매가격은 4.64% 하락하면서 2022년(1.83% 하락)...\n",
      "메타데이터: {'producer': 'Microsoft® Word 2016', 'creator': 'Microsoft® Word 2016', 'creationdate': '2024-03-04T15:30:01+09:00', 'title': 'Morning Meeting', 'author': '손은경', 'moddate': '2024-03-04T15:30:01+09:00', 'source': '2024_KB_부동산_보고서_최종.pdf', 'total_pages': 84, 'page': 46, 'page_label': '47'}\n",
      "--------------------------------------------------\n",
      "문서 2:\n",
      "내용: 28 \n",
      "2024 KB 부동산 보고서: 주택시장 설문조사 \n",
      " \n",
      " \n",
      "1) 2024년 주택시장 전망 \n",
      "■ 주택 매매가격, 2024년에도 하락 전망 우세한 가운데 상승 전망 2023년 대비 증가 \n",
      "부동산시장 전문가와 공인중개사, 자산관리전문가(PB)를 대상으로 한 설문조사 결...\n",
      "메타데이터: {'producer': 'Microsoft® Word 2016', 'creator': 'Microsoft® Word 2016', 'creationdate': '2024-03-04T15:30:01+09:00', 'title': 'Morning Meeting', 'author': '손은경', 'moddate': '2024-03-04T15:30:01+09:00', 'source': '2024_KB_부동산_보고서_최종.pdf', 'total_pages': 84, 'page': 34, 'page_label': '35'}\n",
      "--------------------------------------------------\n",
      "문서 3:\n",
      "내용: 18 \n",
      "2024 KB 부동산 보고서: 2024년 주택시장 진단과 전망 \n",
      " \n",
      "그림Ⅰ-30. 수도권 입주물량과 전세가격 변동률 추이  그림Ⅰ-31. 기타지방 입주물량과 전세가격 변동률 추이 \n",
      " \n",
      " \n",
      " \n",
      "자료: KB국민은행, 부동산114  자료: KB국민은행, 부동산114...\n",
      "메타데이터: {'producer': 'Microsoft® Word 2016', 'creator': 'Microsoft® Word 2016', 'creationdate': '2024-03-04T15:30:01+09:00', 'title': 'Morning Meeting', 'author': '손은경', 'moddate': '2024-03-04T15:30:01+09:00', 'source': '2024_KB_부동산_보고서_최종.pdf', 'total_pages': 84, 'page': 24, 'page_label': '25'}\n",
      "--------------------------------------------------\n",
      "문서 4:\n",
      "내용: 3 \n",
      "2024 KB 부동산 보고서: 2024년 주택시장 진단과 전망 \n",
      " \n",
      "  \n",
      " \n",
      " \n",
      "Executive Summary 3 \n",
      " 수도권 주택시장 전반적 침체, 강남권 등 선호 지역 상대적 강세 \n",
      "과거와는 달리 높은 기준금리와 주택 매매가격, DSR 규제 등으로 매수자들의...\n",
      "메타데이터: {'producer': 'Microsoft® Word 2016', 'creator': 'Microsoft® Word 2016', 'creationdate': '2024-03-04T15:30:01+09:00', 'title': 'Morning Meeting', 'author': '손은경', 'moddate': '2024-03-04T15:30:01+09:00', 'source': '2024_KB_부동산_보고서_최종.pdf', 'total_pages': 84, 'page': 3, 'page_label': '4'}\n",
      "--------------------------------------------------\n"
     ]
    }
   ],
   "source": [
    "# 검색할 질문 정의\n",
    "question = \"수도권 주택 매매 전망\"\n",
    "# similarity 검색\n",
    "docs = new_db_faiss.similarity_search(question)\n",
    "for i, doc in enumerate(docs, 1):\n",
    "    print(f\"문서 {i}:\")\n",
    "    print(f\"내용: {doc.page_content[:150]}...\") # 텍스트의 처음 150자만 출력\n",
    "    print(f\"메타데이터: {doc.metadata}\")\n",
    "    print(\"-\" * 50)"
   ]
  },
  {
   "cell_type": "markdown",
   "id": "837aede3",
   "metadata": {},
   "source": [
    "- 챗봇에서 벡터 DB를 사용할 때는 as_retriever() 메서드를 호출하여 검색기로 활용할 수 있습니다."
   ]
  }
 ],
 "metadata": {
  "kernelspec": {
   "display_name": ".venv",
   "language": "python",
   "name": "python3"
  },
  "language_info": {
   "codemirror_mode": {
    "name": "ipython",
    "version": 3
   },
   "file_extension": ".py",
   "mimetype": "text/x-python",
   "name": "python",
   "nbconvert_exporter": "python",
   "pygments_lexer": "ipython3",
   "version": "3.11.12"
  }
 },
 "nbformat": 4,
 "nbformat_minor": 5
}
