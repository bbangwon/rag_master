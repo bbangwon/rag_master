{
 "cells": [
  {
   "cell_type": "markdown",
   "id": "c1b7dddd",
   "metadata": {},
   "source": [
    "## 3.1 길이와 구분자로 분할하는 재귀적 문자 텍스트 분할\n",
    "- RecursiveCharacterTextSplitter는 긴 텍스트를 사용자가 지정한 최대 길이를 초과하지 앟는 짧은 청크로 반복적으로 분할하는 도구입니다.\n",
    "- 분할 작업은 내부적으로 지정된 구분자를 사용하여 이루어지며, 기본 구분자는 [\"\\n\\n\", \"\\n\", \" \", \"\"] 순서로 적용됩니다.\n",
    "- 가장 큰 구분자로 나누고, 분할된 청크가 여전히 길다면 다음 구분자 \"\\n\"을 적용하여 점진적으로 더 작은 청크로 나누어 나갑니다."
   ]
  },
  {
   "cell_type": "code",
   "execution_count": 1,
   "id": "f7beaeb8",
   "metadata": {},
   "outputs": [],
   "source": [
    "# 라이브러리 불러오기\n",
    "from langchain.text_splitter import RecursiveCharacterTextSplitter\n",
    "from langchain_community.document_loaders import PyPDFLoader"
   ]
  },
  {
   "cell_type": "code",
   "execution_count": 3,
   "id": "2d6d3310",
   "metadata": {},
   "outputs": [
    {
     "name": "stdout",
     "output_type": "stream",
     "text": [
      "총 글자 수: 82384\n"
     ]
    }
   ],
   "source": [
    "# PyPDFLoader를 사용하여 PDF 파일 로드\n",
    "loader = PyPDFLoader(\"./2024_KB_부동산_보고서_최종.pdf\")\n",
    "pages = loader.load()\n",
    "\n",
    "# PDF 파일의 모든 페이지에서 텍스트를 추출하여 총 글자 수 계산\n",
    "print(\"총 글자 수:\", len(''.join([i.page_content for i in pages])))"
   ]
  },
  {
   "cell_type": "markdown",
   "id": "9b658475",
   "metadata": {},
   "source": [
    "RecursiveCharacterTextSplitter()의 파라미터  \n",
    "- chunk_size: 각 분할 문서의 최대 문자 수를 지정합니다.\n",
    "- chunk_overlap: 연속된 분할 문서 간에 중복되는 문자 수를 지정합니다. 0으로 설정한다면 분할 문서간 중복이 없습니다."
   ]
  },
  {
   "cell_type": "markdown",
   "id": "746c2f6e",
   "metadata": {},
   "source": [
    "문맥의 연속성을 유지하려면 일반적으로 약간의 overlap을 두는 것이 좋습니다."
   ]
  },
  {
   "cell_type": "code",
   "execution_count": null,
   "id": "2871d1b8",
   "metadata": {},
   "outputs": [
    {
     "name": "stdout",
     "output_type": "stream",
     "text": [
      "분할된 청크의 수: 218\n"
     ]
    }
   ],
   "source": [
    "# RecursiveCharacterTextSplitter 초기화\n",
    "text_splitter = RecursiveCharacterTextSplitter(chunk_size=500, chunk_overlap=50)\n",
    "\n",
    "#문서 분할\n",
    "texts = text_splitter.split_documents(pages)\n",
    "print('분할된 청크의 수:', len(texts))"
   ]
  },
  {
   "cell_type": "markdown",
   "id": "1d4eba71",
   "metadata": {},
   "source": [
    "- split_document() 메서는 Document 객체의 리스트를 입력으로 받아 각 문서의 내용을 설정된 청크 크기로 분할합니다.\n",
    "- 파일 종류에 따라 적합한 메서드를 선택할 수 있습니다.\n",
    "- 텍스트 파일의 경우, 단순히 긴 무자열을 분할할 때는 .split_text()를 사용할 수 있습니다."
   ]
  },
  {
   "cell_type": "code",
   "execution_count": 5,
   "id": "0d99bbcb",
   "metadata": {},
   "outputs": [
    {
     "data": {
      "text/plain": [
       "Document(metadata={'producer': 'Microsoft® Word 2016', 'creator': 'Microsoft® Word 2016', 'creationdate': '2024-03-04T15:30:01+09:00', 'title': 'Morning Meeting', 'author': '손은경', 'moddate': '2024-03-04T15:30:01+09:00', 'source': './2024_KB_부동산_보고서_최종.pdf', 'total_pages': 84, 'page': 1, 'page_label': '2'}, page_content='변수가 될 것이다. 기준금리 인하 시기와 인하 폭에 따라 주택 수요는 영향을 받을 수밖에 없기 때문이다. \\n한편, 수요 위축으로 거래가 급감한 상황에서 실수요자 금융 지원, 관련 규제 완화 등 수요 회복을 위한 \\n정부 정책도 중요한 변수가 될 전망이다. \\n \\n\\uf06e 7대 이슈를 통해 바라보는 2024년 주택시장 \\n1 역대 최저 수준이 지속되고 있는 주택 거래 \\n \\n주택 매매 거래는 2022년에 이어 2년 연속 침체. 총선 이후 정책 불확실성 해소와 금리 인하로 인한 회\\n복 가능성이 있으나 일부 지역 수요 쏠림 현상과 금리 인하 속도가 더딜 경우 회복세는 제한적일 전망 \\n2 주택공급 급격한 감소로 인한 공급 부족 가능성 \\n \\n분양물량과 함께 장기적인 주택 공급 기반인 인허가물량까지 급감. 청약 수요 위축으로 분양 지연이 장기\\n화될 가능성이 높은 가운데 정부의 공급 정책 구체화가 매우 중요 \\n3 노후계획도시 특별법과 재건축 시장 영향')"
      ]
     },
     "execution_count": 5,
     "metadata": {},
     "output_type": "execute_result"
    }
   ],
   "source": [
    "# 1 번째 청크 출력\n",
    "texts[1]"
   ]
  },
  {
   "cell_type": "code",
   "execution_count": 6,
   "id": "9bb26587",
   "metadata": {},
   "outputs": [
    {
     "data": {
      "text/plain": [
       "'변수가 될 것이다. 기준금리 인하 시기와 인하 폭에 따라 주택 수요는 영향을 받을 수밖에 없기 때문이다. \\n한편, 수요 위축으로 거래가 급감한 상황에서 실수요자 금융 지원, 관련 규제 완화 등 수요 회복을 위한 \\n정부 정책도 중요한 변수가 될 전망이다. \\n \\n\\uf06e 7대 이슈를 통해 바라보는 2024년 주택시장 \\n1 역대 최저 수준이 지속되고 있는 주택 거래 \\n \\n주택 매매 거래는 2022년에 이어 2년 연속 침체. 총선 이후 정책 불확실성 해소와 금리 인하로 인한 회\\n복 가능성이 있으나 일부 지역 수요 쏠림 현상과 금리 인하 속도가 더딜 경우 회복세는 제한적일 전망 \\n2 주택공급 급격한 감소로 인한 공급 부족 가능성 \\n \\n분양물량과 함께 장기적인 주택 공급 기반인 인허가물량까지 급감. 청약 수요 위축으로 분양 지연이 장기\\n화될 가능성이 높은 가운데 정부의 공급 정책 구체화가 매우 중요 \\n3 노후계획도시 특별법과 재건축 시장 영향'"
      ]
     },
     "execution_count": 6,
     "metadata": {},
     "output_type": "execute_result"
    }
   ],
   "source": [
    "texts[1].page_content"
   ]
  },
  {
   "cell_type": "code",
   "execution_count": 7,
   "id": "5c726ea2",
   "metadata": {},
   "outputs": [
    {
     "data": {
      "text/plain": [
       "'3 노후계획도시 특별법과 재건축 시장 영향 \\n \\n2023년 말 국회를 통과한 「노후계획도시 특별법」 시행을 앞두고 당초 51곳이었던 대상 지역이 108곳으\\n로 확대. 단기적 효과는 제한적이나 사업진행이 구체화되면 시장 영향도 커질 것  \\n4 전세 수요 아파트 집중, 입주물량 부족으로 가격 상승 가능성 확대 \\n \\n비아파트 전세 사기와 보증금 미반환 이슈 등으로 아파트로 전세 수요가 집중되는 가운데 수도권을 중심\\n으로 아파트 입주물량이 크게 감소함에 따라 다시 전세가격 상승세가 확대될 가능성이 존재 \\n5 주택 경기에 최대 화두로 부각되는 금리 인하 가능성 \\n \\n금리 인하에 따른 매수 심리 회복에 대한 기대감이 높아지고 있지만 가계 부채 관리 강화와 경기 불확실\\n성 확대 등이 존재하는 시장에서 금리 인하 시기와 인하폭이 관건 \\n6 주택경기 위축에도 늘어나는 주택담보대출 \\n \\n주택담보대출 증가세는 다소 둔화될 것으로 전망되나 가계부채에 대한 우려가 지속될 경우 매수세 회복을'"
      ]
     },
     "execution_count": 7,
     "metadata": {},
     "output_type": "execute_result"
    }
   ],
   "source": [
    "texts[2].page_content"
   ]
  },
  {
   "cell_type": "markdown",
   "id": "c0d768fb",
   "metadata": {},
   "source": [
    "- chunk_overlap 값이 50으로 설정되어 있어 일부 텍스트 내용이 겹쳐 1번 청크의 마지막 부분과 2번 청크의 시작 부분과 연결됩니다."
   ]
  },
  {
   "cell_type": "code",
   "execution_count": 8,
   "id": "74389096",
   "metadata": {},
   "outputs": [
    {
     "name": "stdout",
     "output_type": "stream",
     "text": [
      "1번 청크의 길이: 468\n",
      "2번 청크의 길이: 491\n"
     ]
    }
   ],
   "source": [
    "print('1번 청크의 길이:', len(texts[1].page_content))\n",
    "print('2번 청크의 길이:', len(texts[2].page_content))"
   ]
  },
  {
   "cell_type": "markdown",
   "id": "faeda9a7",
   "metadata": {},
   "source": [
    "- 텍스트의 문맥을 고려하지 않고 단순히 길이에 맞춰 잘라내기 때문에 내용이 중간에 끊어지는 느낌을 받을수 있습니다.\n",
    "- 빠르게 결과를 얻을 수 있다는 장점이 있지만 문맥이 이어지지 않는 불완전한 청크가 생겨 RAG 챗봇을 개발할때 성능 저하의 원인이 될 수 있습니다.\n",
    "- 많은 AI기업들은 청크 분할 시 의미를 고려해 문맥에 맞게 나누려는 노력을 하고 있으며, 랭체인에서도 이런 기능을 지원합니다."
   ]
  },
  {
   "cell_type": "markdown",
   "id": "42dd7b80",
   "metadata": {},
   "source": [
    "## 3.2 의미 기반으로 분할하는 시맨틱 청킹\n",
    "- SemanticChunker는 단순히 길이에 따라 나누는 것이 아닌, 의미적으로 유사한 내용을 가진 청크로 분할하는 도구입니다.\n",
    "- 텍스트를 문장 단위로 분할한 후, 서로 유사한 의미를 가진 문장들을 그룹화하여 하나의 청크로 구성합니다.\n",
    "- 청크가 문맥적으로 일관성을 갖도록 하여 이후의 자연어 처리나 정보 검색에서 더욱 정확한 결과를 얻을수 있습니다."
   ]
  },
  {
   "cell_type": "code",
   "execution_count": 9,
   "id": "3cffc71a",
   "metadata": {},
   "outputs": [],
   "source": [
    "from langchain_experimental.text_splitter import SemanticChunker\n",
    "from langchain_openai.embeddings import OpenAIEmbeddings\n",
    "from langchain_community.document_loaders import PyPDFLoader"
   ]
  },
  {
   "cell_type": "markdown",
   "id": "88ca81ca",
   "metadata": {},
   "source": [
    "- 내부적으로 오픈AI Embedding API를 사용하므로 OpenAIEmbeddings와 SemanticChunk를 불러옵니다.\n",
    "- 객체를 생성할때 OpenAIEmbeddings()를 전달하여 오픈AI의 Embedding API를 사용하도록 설정합니다.\n",
    "- SemanticChunker의 기본 파라미터는 breakpoint_threshold_type='percentile'과 breakpoint_threshold_amount=95로 설정되어 있습니다.\n",
    "- 의미적 차이의 분포에서 95번째 백분위수를 초과하는 지점, 즉 상위 5%에 해당하는 큰 차이가 발생하는 지점을 분할 기준으로 선택합니다.\n",
    "- 이를 통해 의미적으로 큰 전환이 일어나는 곳에서 자연스럽게 텍스트를 나눌 수 있습니다."
   ]
  },
  {
   "cell_type": "code",
   "execution_count": 10,
   "id": "ea08ab67",
   "metadata": {},
   "outputs": [
    {
     "name": "stdout",
     "output_type": "stream",
     "text": [
      "분할된 청크의 수: 164\n"
     ]
    }
   ],
   "source": [
    "# PyPDFLoader를 사용하여 PDF 파일 로드\n",
    "loader = PyPDFLoader(\"./2024_KB_부동산_보고서_최종.pdf\")\n",
    "pages = loader.load()\n",
    "\n",
    "#SemanticChunker 초기화\n",
    "text_splitter = SemanticChunker(embeddings=OpenAIEmbeddings())\n",
    "\n",
    "# 텍스트를 의미 단위로 분할\n",
    "chunks = text_splitter.split_documents(pages)\n",
    "\n",
    "# 분할된 청크 수\n",
    "print('분할된 청크의 수:', len(chunks))"
   ]
  },
  {
   "cell_type": "code",
   "execution_count": 11,
   "id": "d729e83f",
   "metadata": {},
   "outputs": [
    {
     "data": {
      "text/plain": [
       "Document(metadata={'producer': 'Microsoft® Word 2016', 'creator': 'Microsoft® Word 2016', 'creationdate': '2024-03-04T15:30:01+09:00', 'title': 'Morning Meeting', 'author': '손은경', 'moddate': '2024-03-04T15:30:01+09:00', 'source': './2024_KB_부동산_보고서_최종.pdf', 'total_pages': 84, 'page': 2, 'page_label': '3'}, page_content='2 \\n2024 KB 부동산 보고서: 2024년 주택시장 진단과 전망 \\n \\n \\n \\nExecutive Summary 2 \\n\\uf06e 주택 매매시장 하락 전망 우세, 부동산 투자 선호도 하락 \\n• 2024년 주택 매매가격 지난해에 이어 올해도 하락 전망 우세, 높은 금리가 가장 큰 부담 \\n부동산시장 전문가와 공인중개사, 자산관리전문가(PB)를 대상으로 한 설문 조사 결과, 2024년 전국 주택 \\n매매가격은 하락세가 이어질 것이라는 전망이 우세하였다. 다만 시장 급락에 대한 우려는 다소 완화된 \\n것으로 보인다.')"
      ]
     },
     "execution_count": 11,
     "metadata": {},
     "output_type": "execute_result"
    }
   ],
   "source": [
    "chunks[3]"
   ]
  },
  {
   "cell_type": "markdown",
   "id": "28a3b7ca",
   "metadata": {},
   "source": [
    "- 3번 청크에서는 주택 매매시장과 전세시장에 대한 전망을 다룹니다."
   ]
  },
  {
   "cell_type": "code",
   "execution_count": 12,
   "id": "c9ccef96",
   "metadata": {},
   "outputs": [
    {
     "data": {
      "text/plain": [
       "Document(metadata={'producer': 'Microsoft® Word 2016', 'creator': 'Microsoft® Word 2016', 'creationdate': '2024-03-04T15:30:01+09:00', 'title': 'Morning Meeting', 'author': '손은경', 'moddate': '2024-03-04T15:30:01+09:00', 'source': './2024_KB_부동산_보고서_최종.pdf', 'total_pages': 84, 'page': 2, 'page_label': '3'}, page_content='상승에 대한 전망이 2023년 대비 크게 증가했기 때문이다(전문가 21%p, 공인중개사 \\n17%p, PB 13%p  증가). 매매가격 하락요인으로는 높은 금리에 따른 이자부담이 가장 중요한 이유로 \\n조사되었다. • 2024년 주택 전세가격, 비수도권은 하락 전망이 우세하나 수도권 전망은 엇갈려  \\n2024년 전국 주택 전세가격에 대해 전문가의 53%, 공인중개사의 61%가 하락을 전망하였다. 하락폭에 \\n대해서는 3% 이하가 될 것이라는 의견이 많았다. 다만 2023년 하락 전망이 압도적으로 우세했던 것과 \\n달리 2024년에는 상승과 하락 전망에 격차가 크지 않았다. 지역별로 수도권에서는 주택 전세가격이 \\n상승과 하락 의견이 엇갈렸으나 비수도권에서는 하락 전망이 우세하였다. • 경기 회복을 위해서는 금리 인하와 대출 규제 완화가 중요 변수 \\n주택 경기 회복을 위해 필요한 핵심 정책으로 전문가와 공인중개사, PB 모두 금리 인하를 꼽았다. 다음으로 주택담보대출 지원, LTV·DSR 등 금융 규제 완화가 필요하다는 의견이 많았다. 특히 공인중개사 \\n그룹에서 금리와 대출 관련 정책의 필요성을 높게 평가하였다. 이는 현재 주택시장 침체가 수요 감소에 \\n따른 영향이 크며 수요 회복 여부가 향후 시장 흐름을 결정할 핵심 요인이라는 인식이 반영된 결과로 \\n풀이된다. • 투자 유망 부동산으로 아파트 분양과 신축 아파트, 재건축 \\n전문가, 공인중개사, PB 는 공통적으로 2024년 투자 유망 부동산으로 아파트 분양과 신축 아파트, \\n재건축을 꼽았다. 아파트 분양과 신축 아파트는 지난해 비해 선호도가 높아졌으며, 재건축은 꾸준히 투자 \\n유망 부동산으로 주목을 받을 것으로 보인다. 전문가는 아파트 분양(28%), 공인중개사는 신축 \\n아파트(23%), PB는 재건축(27%)을 1순위 투자유망 부동산으로 꼽았다. • 고자산가는 투자 자산으로 예금과 채권을 선호, 부동산 경기 위축 및 고금리로 부동산 선호도는 하락  \\nPB 대상 설문조사에서 고자산가가 선호하는 투자 자산은 예금(29%), 채권(24%), 부동산(23%) 순으로 \\n나타났다. 부동산은 2017년 조사 이래 고자산가들이 가장 선호하는 투자 자산 부동의 1위 자리를 지켜 \\n왔으나 부동산시장이 위축되고 고금리 상황이 지속되면서 순위가 하락하였다. • 부동산 세무에 대한 상담 수요가 가장 높으며, 보유 부동산 처분에 대한 관심도 증가 \\n고자산가의 2023년 부동산 관련 상담 및 자문 1위는 지난해에 이어 부동산 세무(40%)가 차지했는데, \\n이는 여전히 높은 부동산 세금 부담 때문으로 판단된다. 이어서 수익형 부동산 구입(23%)과 보유 부동산 \\n처분(22%)에 관한 상담이 주를 이루었다.')"
      ]
     },
     "execution_count": 12,
     "metadata": {},
     "output_type": "execute_result"
    }
   ],
   "source": [
    "chunks[4]"
   ]
  },
  {
   "cell_type": "markdown",
   "id": "cd54d24d",
   "metadata": {},
   "source": [
    "- 4번 청크에서는 매매가격 하락 요인으로 높은 금리에 따른 이자 부담을 언급하며, 투자 유망 부동산과 고자산가들의 투자 성향에 대해 설명하고 있습니다."
   ]
  },
  {
   "cell_type": "code",
   "execution_count": 13,
   "id": "4056999f",
   "metadata": {},
   "outputs": [
    {
     "data": {
      "text/plain": [
       "Document(metadata={'producer': 'Microsoft® Word 2016', 'creator': 'Microsoft® Word 2016', 'creationdate': '2024-03-04T15:30:01+09:00', 'title': 'Morning Meeting', 'author': '손은경', 'moddate': '2024-03-04T15:30:01+09:00', 'source': './2024_KB_부동산_보고서_최종.pdf', 'total_pages': 84, 'page': 3, 'page_label': '4'}, page_content='3 \\n2024 KB 부동산 보고서: 2024년 주택시장 진단과 전망 \\n \\n  \\n \\n \\nExecutive Summary 3 \\n\\uf06e 수도권 주택시장 전반적 침체, 강남권 등 선호 지역 상대적 강세 \\n과거와는 달리 높은 기준금리와 주택 매매가격, DSR 규제 등으로 매수자들의 구매 여력은 회복되지 \\n못하고 있으나, 2023년 이후 정부의 다양한 규제 완화로 매도자들의 기대 심리는 높아지고 있다. 재건축 \\n규제 완화, 광역급행철도(GTX, Great Train Express) 개통 등에 따라 지역별로 호재가 존재하며 부동산 \\nPF대출 부실, 전세보증금 반환 문제 등 전반적인 주택 경기 위축 요소들도 상존하고 있다. 구분 지역명 주요 이슈 \\n서울 \\n한강 \\n이남 \\n강남구 정부 규제 완화와 주택 수요 집중으로 긍정적 기대감 유지 \\n서초구 높은 분양가에도 청약 수요는 많으나 진행 중인 정비사업은 차별화 예상 \\n송파구 전세가격 하락에 영향을 줄 수 있는 대규모 단지 입주 예정 \\n양천구 재건축 사업 진행은 긍정적이나 토지거래허가구역으로 매매시장 위축 지속 \\n서울 \\n한강 \\n이북 \\n마포구 지역 내에서 매수세 변화가 나타나면서 지역간 매매가격 격차 확대 \\n용산구 한남뉴타운 사업 진행은 양호하나 여전히 큰 매도자와 매수자 간 간극 \\n성동구 대기 수요는 많으나 실제 매수 가담 여부가 중요한 요소로 작용할 것 \\n수도권 \\n위례 위례선 개통 예정과 위례신사선 착공 지연으로 긍정적·부정적 요인이 혼재 \\n과천 지식정보타운의 본격적인 입주와 교통 개발로 지역 확대 \\n동탄 교통 개선과 반도체 관련 수요보다 수도권 주택시장 및 금리 영향이 클 전망 \\n \\n\\uf06e 상업용 부동산시장  \\n고금리와 경기 불확실성 확대 영향으로 2023년 상업용 부동산시장은 거래량이 크게 감소하고 평균 \\n매매가격 역시 하락하였다. 거래량 감소와 함께 매매가격이 하락하면서 2023년 상업용 부동산 거래총액은 \\n2022년 대비 34.8% 감소했다.')"
      ]
     },
     "execution_count": 13,
     "metadata": {},
     "output_type": "execute_result"
    }
   ],
   "source": [
    "chunks[5]"
   ]
  },
  {
   "cell_type": "markdown",
   "id": "0e6ef86b",
   "metadata": {},
   "source": [
    "- 5번 청크에서는 수도권 주택 시장의 침체 상황을 다룹니다.\n",
    "- 각 청크가 고유의 주제에 집중하도록 적절히 분할된 것으로 보입니다."
   ]
  },
  {
   "cell_type": "markdown",
   "id": "d961a6a9",
   "metadata": {},
   "source": [
    "- SemanticChunker에서는 문서를 의미 단위로 분할하는 세 가지 주요 방식을 제공합니다.  \n",
    "  - 백분위수 방식(기본값)\n",
    "  - 표준편차 방식\n",
    "  - 사분위수 방식\n",
    "- 이 방식들은 모두 코사인 거리를 사용하여 문장 간 의미적 차이를 측정합니다."
   ]
  },
  {
   "cell_type": "markdown",
   "id": "3b9b727a",
   "metadata": {},
   "source": [
    "- 코사인 유사도는 수학적으로 -1~1범위지만, 문장 임베딩 모델은 양수 값만 생성하기 때문에 0~1값만 생성됩니다.\n",
    "- 코사인 거리는 코사인 유사도를 거리 개념으로 변환한 것으로, 작을 수록 가깝다고 볼 수 있습니다.\n",
    "  - 코사인 거리 =  1 - 코사인 유사도"
   ]
  },
  {
   "cell_type": "markdown",
   "id": "cfb865d5",
   "metadata": {},
   "source": [
    "### 의미 단위로 분할 과정\n",
    "SemanticChunker가 문서를 의미 단위로 분할하는 과정은 다음과 같습니다.\n",
    "1. 문장을 임베딩 벡터로 변환하여 각 문장의 의미를 숫자로 표현합니다.\n",
    "2. 인접한 문장 쌍 사이의 코사인 거리를 계산하여, 문장 간의 의미적 차이가 어느 정도인지 파악합니다.  \n",
    "  코사인 거리는 두 문장이 얼마나 비슷하거나 다른지 수치로 나타내는데, 0에 가까울수록 문장들이 비슷하고 1에 가까울수록 서로 다르다는 뜻입니다.  \n",
    "3. 다음 중 선택한 방식에 따라 분할 지점을 결정합니다.\n",
    "  - 백분위수 방식: 코사인 거리 값이 설정한 백분위수를 초과하는 지점을 분할 지점으로 선택합니다.  \n",
    "    극단적인 변화에 초점을 맞춥니다.\n",
    "  - 표준편차 방식: 코사인 거리가 평균보다 특정 표준편차 이상 크게 떨어진 지점을 분할 지점으로 선택합니다.  \n",
    "    전체 데이터의 분포를 고려합니다.\n",
    "  - 사분위수 방식: 코사인 거리의 사분위 범위에 따라 분할 지점을 결정합니다.  \n",
    "    중간 50% 데이터의 분포를 중심으로 분할 지점을 판단합니다."
   ]
  },
  {
   "cell_type": "markdown",
   "id": "49471498",
   "metadata": {},
   "source": [
    "### 백분위수 방식\n",
    "- SemanticChunker가 기본으로 사용하는 분할방식입니다.\n",
    "- 기본 설정인 breadkpoint_threshold_amout=95로 설정되어 있다는 것은 문장 간의미적 차이가 가장 큰 상위 5% 지점에서 텍스트를 분할한다는 의미입니다.\n",
    "- 텍스트 내에서 문맥이 크게 달라지는 지점만 선택하여 청크를 나누게 됩니다.\n",
    "- 특정 부분에서 새로운 주제나 큰 의미 변화가 시작된다면 그 지점에서 분할이 이루어집니다.\n",
    "- 만약 breakpoint_threshold_amout값을 80으로 낮추면, 문장간 의미 차이가 있는 지점을 더 많이 찾아내므로 짧은 청크들이 많이 생성됩니다.\n",
    "- 99로 높이면 문맥 변화가 극단적으로 큰 지점에서만 나뉘어 긴 청크들이 만들어 집니다."
   ]
  },
  {
   "cell_type": "code",
   "execution_count": 14,
   "id": "04485357",
   "metadata": {},
   "outputs": [
    {
     "name": "stdout",
     "output_type": "stream",
     "text": [
      "분할된 청크의 수: 164\n"
     ]
    }
   ],
   "source": [
    "text_splitter = SemanticChunker(\n",
    "    OpenAIEmbeddings(),\n",
    "    breakpoint_threshold_type=\"percentile\",\n",
    "    breakpoint_threshold_amount=95,\n",
    ")\n",
    "chunks = text_splitter.split_documents(pages)\n",
    "print('분할된 청크의 수:', len(chunks))"
   ]
  },
  {
   "cell_type": "markdown",
   "id": "188405f9",
   "metadata": {},
   "source": [
    "- breakpoint_threshold_type을 \"percentile\"로 breadpoint_threshold_amount를 95로 설정합니다.\n",
    "- 백분위수 방식의 장점은 의미적 차이가 극단적으로 큰 지점에서만 텍스트를 분할하므로, 주요 주제가 바뀌는 부분을 효과적으로 찾아낼 수 있다는 점입니다."
   ]
  },
  {
   "cell_type": "markdown",
   "id": "597471e5",
   "metadata": {},
   "source": [
    "### 표준편차 방식\n",
    "- 텍스트 내에서 문장 간의 의미적 차이가 표준편차 범위를 초과하는 지점을 기준으로 텍스트를 나눕니다.\n",
    "- 표준 편차 방식은 문장 간의 의미 변화가 평균에서 얼마나 벗어나는지에 따라 분할 지점을 설정합니다.\n",
    "- 표준편차 방식을 사용할 때는 breakpoint_threshold_type을 \"standard_deviation\"으로 설정하고 breakpoint_threshild_amount값을 지정합니다.\n",
    "- 예를 들어, breakpoint_threshold_amout=3으로 설정하면, 기준값은 \"평균 코사인 거리 + (3 * 표준편차)\" 가 됩니다.\n",
    "- 이 기준값을 초과하는 코사인 거리를 가진 지점에서 텍스트가 분할됩니다.\n",
    "- 평균 코사인 거리에서 기준값만큼 차이가 나는 지점에서 의미적 변화가 일어났다고 간주하고 텍스트를 독립적이고 논리적인 단위로 나눌 수 있습니다.\n",
    "- breadkpoint_threshold_amount값을 낮추면 분할 지점이 많아져 더 짧은 청크들이 생성되고, 값을 높이면 분할 지점이 줄어들어 더 큰 청크들이 만들어집니다."
   ]
  },
  {
   "cell_type": "code",
   "execution_count": 15,
   "id": "1391859a",
   "metadata": {},
   "outputs": [
    {
     "name": "stdout",
     "output_type": "stream",
     "text": [
      "분할된 청크의 수: 84\n"
     ]
    }
   ],
   "source": [
    "text_splitter = SemanticChunker(\n",
    "    OpenAIEmbeddings(),\n",
    "    breakpoint_threshold_type=\"standard_deviation\",\n",
    "    breakpoint_threshold_amount=3,\n",
    ")\n",
    "chunks = text_splitter.split_documents(pages)\n",
    "print('분할된 청크의 수:', len(chunks))"
   ]
  },
  {
   "cell_type": "markdown",
   "id": "72c06193",
   "metadata": {},
   "source": [
    "- 이 방식을 사용하면 텍스트 전체의 의미적 흐름을 파악하면서, 문장 간 차이가 평균보다 훨씬 큰 지점에서 분할이 이루어집니다.\n",
    "- 이를 통해 새로운 주제가 시작되거나 논점이 바뀌거나 이야기의 주요 전화점이 나타나는 부분을 효과적으로 감지할 수 있게 됩니다."
   ]
  },
  {
   "cell_type": "markdown",
   "id": "60e9549b",
   "metadata": {},
   "source": [
    "### 사분위수 방식\n",
    "- 텍스트 내에서 중간 정도의 의미적 변화를 감지하여 분할 지점을 설정합니다.\n",
    "- 이 방식은 중간 50%의 데이터 분포를 분석하고, 이 범위에서 벗어나는 지점을 기준으로 텍스트를 분할합니다.\n",
    "- breakpoint_threshold_type을 interquartile로 설정하고, breakpoint_threshold_amount값을 지정합니다.\n",
    "- 예를들어 breakpoint_threshold_amount=1.로 설정하면 기준값은 'Q3(3사분위) + 1.5 * IQR(사분위 범위)이 됩니다.\n",
    "- 이 기준값을 초과하는 코사인 거리를 가진 지점에서 텍스트를 분할하여, 문장 간 의미적 차이가 중간 범위에서 크게 벗어나는 지점에서 청크를 나누게 됩니다.\n",
    "- 텍스트의 문맥 변화가 발생하는 지점을 세밀하게 반영하여, 주요 주제가 전환되거나 새로운 주제가 시작되는 부분에서 분할이 이루어집니다.\n",
    "- 각 청크가 논리적으로 완결된 정보를 담아 문맥이 자연스럽게 연결될 수 있습니다.\n",
    "- breakpoint_threshold_amout 값을 낮추면 의미 변화가 조금만 생겨도 분할이 이루어져 짧은 청크가 생기게 됩니다. 값을 높이면 문맥 변화가 더 극단적인 지점에서만 분할이 이루어져 긴 청크가 만들어집니다."
   ]
  },
  {
   "cell_type": "code",
   "execution_count": 16,
   "id": "57323291",
   "metadata": {},
   "outputs": [
    {
     "name": "stdout",
     "output_type": "stream",
     "text": [
      "분할된 청크의 수: 142\n"
     ]
    }
   ],
   "source": [
    "text_splitter = SemanticChunker(\n",
    "    OpenAIEmbeddings(),\n",
    "    breakpoint_threshold_type=\"interquartile\",\n",
    "    breakpoint_threshold_amount=1.5,\n",
    ")\n",
    "chunks = text_splitter.split_documents(pages)\n",
    "print('분할된 청크의 수:', len(chunks))"
   ]
  },
  {
   "cell_type": "markdown",
   "id": "583d1adb",
   "metadata": {},
   "source": [
    "- 텍스트의 전체 구조를 고려하면서도 지나치게 예민하게 반응하지 않도록 분할 지점을 찾는데 유리합니다.\n",
    "- 특히 긴 문서의 주요 섹션의 경계를 효과적으로 식별할 수 있으며, 이상치(극단적으로 다른 부분)에 덜 민감하기 때문에 텍스트의 흐름을 유지하면서도 중요한 주제 전환을 자연스럽게 포착할 수 있습니다."
   ]
  }
 ],
 "metadata": {
  "kernelspec": {
   "display_name": ".venv",
   "language": "python",
   "name": "python3"
  },
  "language_info": {
   "codemirror_mode": {
    "name": "ipython",
    "version": 3
   },
   "file_extension": ".py",
   "mimetype": "text/x-python",
   "name": "python",
   "nbconvert_exporter": "python",
   "pygments_lexer": "ipython3",
   "version": "3.11.12"
  }
 },
 "nbformat": 4,
 "nbformat_minor": 5
}
