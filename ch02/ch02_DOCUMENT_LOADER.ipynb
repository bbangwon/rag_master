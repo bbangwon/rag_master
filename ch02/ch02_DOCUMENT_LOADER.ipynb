{
 "cells": [
  {
   "cell_type": "markdown",
   "id": "f235ebbe",
   "metadata": {},
   "source": [
    "## 2.1 웹 페이지 로더\n",
    "- HTML 콘텐츠를 로드하고 파싱하여 문서 형식으로 변환하는 다양한 도구를 제공합니다."
   ]
  },
  {
   "cell_type": "markdown",
   "id": "17c065f4",
   "metadata": {},
   "source": [
    "### WebBaseLoader\n",
    "- 단일 또는 여러 웹페이지에서 텍스트를 로드할 수 있으며, BeautifulSoup을 활용해 HTML을 세부적으로 파싱할 수 있습니다.\n",
    "- 비동기 로딩(여러 페이지를 동시에 빠르게 처리)과 지연 로딩(Lazy Loading, 필요한 페이지만 순차적으로 처리)으로 성능을 높일 수 있습니다."
   ]
  },
  {
   "cell_type": "code",
   "execution_count": 2,
   "id": "690abad6",
   "metadata": {},
   "outputs": [],
   "source": [
    "import os\n",
    "# 사용자 에이전트 설정\n",
    "os.environ[\"USER_AGENT\"] = \"MyApp/1.0 (Custom LangChain Application)\"\n",
    "#라이브러리 불러오기\n",
    "from langchain_community.document_loaders import WebBaseLoader\n",
    "#단일 URL 초기화\n",
    "loader = WebBaseLoader(\"https://docs.smith.langchain.com/\")\n",
    "#다중 URL 초기화\n",
    "loader_multiple_pages = WebBaseLoader(\n",
    "    [\n",
    "        \"https://python.langchain.com/docs/introduction/\",\n",
    "        \"https://langchain-ai.github.io/langgraph/\"\n",
    "    ]\n",
    ")"
   ]
  },
  {
   "cell_type": "markdown",
   "id": "2107a0e1",
   "metadata": {},
   "source": [
    "- USER_AGENT 환경 변수를 설정하는 이유는 서버가 클라이언트 요청을 더 쉽게 식별하고 추적하기 위함입니다. 설정하지 않으면 경고 메시지를 표시합니다.\n",
    "- 단일 웹페이지를 불러올 때는 String타입으로 불러올 수 있고, 다중 웹 페이지는 리스트 형식으로 전달하여 처리할 수 있습ㄴ디ㅏ."
   ]
  },
  {
   "cell_type": "code",
   "execution_count": 3,
   "id": "e195583f",
   "metadata": {},
   "outputs": [
    {
     "name": "stdout",
     "output_type": "stream",
     "text": [
      "{'source': 'https://docs.smith.langchain.com/', 'title': 'Get started with LangSmith | 🦜️🛠️ LangSmith', 'description': 'LangSmith is a platform for building production-grade LLM applications.', 'language': 'en'}\n"
     ]
    }
   ],
   "source": [
    "# 단일 문서 로드\n",
    "single_doc = loader.load()\n",
    "# 문서의 메타데이터 확인\n",
    "print(single_doc[0].metadata)"
   ]
  },
  {
   "cell_type": "code",
   "execution_count": 4,
   "id": "51d2625f",
   "metadata": {},
   "outputs": [
    {
     "name": "stdout",
     "output_type": "stream",
     "text": [
      "\n",
      "\n",
      "\n",
      "\n",
      "\n",
      "Introduction | 🦜️🔗 LangChain\n",
      "\n",
      "\n",
      "\n",
      "\n",
      "\n",
      "\n",
      "Skip to main contentJoin us at  Interrupt: The Agent AI Conference by LangChain on May 13 & 14 in San Francisco!IntegrationsAPI ReferenceMoreContributingPeopleError referenceLangSmithLangGraphLangChain HubLangChain JS/TSv0.3v0.3v0.2v0.1💬SearchIntroductionTutorialsBuild a Question Answering application over a Graph DatabaseTutorialsBuild a simple LLM application with chat models and prompt templatesBuild a ChatbotBuild a Retrieval Augmented Generation (RAG) App: Part 2Build an Extraction ChainBuild an AgentTaggingBuild a Retrieval Augmented Generation (RAG) App: Part 1Build a semantic search engineBuild a Question/Answering system over SQL dataSummarize TextHow-to guidesHow-to guidesHow to use tools in a chainHow to use a vectorstore as a retrieverHow to add memory to chatbotsHow to use example selectorsHow to add a semantic layer over graph databaseHow to invoke runnables in parallelHow to stream chat model responsesHow to add default invocation args to a RunnableHow to add retrieval to chatbotsHow to use few shot examples in chat modelsHow to do tool/function callingHow to install LangChain packagesHow to add examples to the prompt for query analysisHow to use few shot examplesHow to run custom functionsHow to use output parsers to parse an LLM response into structured formatHow to handle cases where no queries are generatedHow to route between sub-chainsHow to return structured data from a modelHow to summarize text through parallelizationHow to summarize text through iterative refinementHow to summarize text in a single LLM callHow to use toolkitsHow to add ad-hoc tool calling capability to LLMs and Chat ModelsBuild an Agent with AgentExecutor (Legacy)How to construct knowledge graphsHow to partially format prompt templatesHow to handle multiple queries when doing query analysisHow to use built-in tools and toolkitsHow to pass through arguments from one step to the nextHow to compose prompts togetherHow to handle multiple retrievers when doing query analysisHow to add values to a chain's stateHow to construct filters for query analysisHow to configure runtime chain internalsHow deal with high cardinality categoricals when doing query analysisCustom Document LoaderHow to use the MultiQueryRetrieverHow to add scores to retriever resultsCachingHow to use callbacks in async environmentsHow to attach callbacks to a runnableHow to propagate callbacks  constructorHow to dispatch custom callback eventsHow to pass callbacks in at runtimeHow to split by characterHow to cache chat model responsesHow to handle rate limitsHow to init any model in one lineHow to track token usage in ChatModelsHow to add tools to chatbotsHow to split codeHow to do retrieval with contextual compressionHow to convert Runnables to ToolsHow to create custom callback handlersHow to create a custom chat model classCustom EmbeddingsHow to create a custom LLM classCustom RetrieverHow to create toolsHow to debug your LLM appsHow to load CSVsHow to load documents from a directoryHow to load HTMLHow to load JSONHow to load MarkdownHow to load Microsoft Office filesHow to load PDFsHow to load web pagesHow to create a dynamic (self-constructing) chainText embedding modelsHow to combine results from multiple retrieversHow to select examples from a LangSmith datasetHow to select examples by lengthHow to select examples by maximal marginal relevance (MMR)How to select examples by n-gram overlapHow to select examples by similarityHow to use reference examples when doing extractionHow to handle long text when doing extractionHow to use prompting alone (no tool calling) to do extractionHow to add fallbacks to a runnableHow to filter messagesHybrid SearchHow to use the LangChain indexing APIHow to inspect runnablesLangChain Expression Language CheatsheetHow to cache LLM responsesHow to track token usage for LLMsRun models locallyHow to get log probabilitiesHow to reorder retrieved results to mitigate the \"lost in the middle\" effectHow to split Markdown by HeadersHow to merge consecutive messages of the same typeHow to add message historyHow to migrate from legacy LangChain agents to LangGraphHow to retrieve using multiple vectors per documentHow to pass multimodal data to modelsHow to use multimodal promptsHow to create a custom Output ParserHow to use the output-fixing parserHow to parse JSON outputHow to retry when a parsing error occursHow to parse text from message objectsHow to parse XML outputHow to parse YAML outputHow to use the Parent Document RetrieverHow to use LangChain with different Pydantic versionsHow to add chat historyHow to get a RAG application to add citationsHow to do per-user retrievalHow to get your RAG application to return sourcesHow to stream results from your RAG applicationHow to split JSON dataHow to recursively split text by charactersResponse metadataHow to pass runtime secrets to runnablesHow to do \"self-querying\" retrievalHow to split text based on semantic similarityHow to chain runnablesHow to save and load LangChain objectsHow to split text by tokensHow to split HTMLHow to do question answering over CSVsHow to deal with large databases when doing SQL question-answeringHow to better prompt when doing SQL question-answeringHow to do query validation as part of SQL question-answeringHow to stream runnablesHow to stream responses from an LLMHow to use a time-weighted vector store retrieverHow to return artifacts from a toolHow to use chat models to call toolsHow to disable parallel tool callingHow to force models to call a toolHow to access the RunnableConfig from a toolHow to pass tool outputs to chat modelsHow to pass run time values to toolsHow to stream events from a toolHow to stream tool callsHow to convert tools to OpenAI FunctionsHow to handle tool errorsHow to use few-shot prompting with tool callingHow to add a human-in-the-loop for toolsHow to bind model-specific toolsHow to trim messagesHow to create and query vector storesConceptual guideAgentsArchitectureAsync programming with langchainCallbacksChat historyChat modelsDocument loadersEmbedding modelsEvaluationExample selectorsFew-shot promptingConceptual guideKey-value storesLangChain Expression Language (LCEL)MessagesMultimodalityOutput parsersPrompt TemplatesRetrieval augmented generation (RAG)RetrievalRetrieversRunnable interfaceStreamingStructured outputsTestingString-in, string-out llmsText splittersTokensTool callingToolsTracingVector storesWhy LangChain?Ecosystem🦜🛠️ LangSmith🦜🕸️ LangGraphVersionsv0.3v0.2Pydantic compatibilityMigrating from v0.0 chainsHow to migrate from v0.0 chainsMigrating from ConstitutionalChainMigrating from ConversationalChainMigrating from ConversationalRetrievalChainMigrating from LLMChainMigrating from LLMMathChainMigrating from LLMRouterChainMigrating from MapReduceDocumentsChainMigrating from MapRerankDocumentsChainMigrating from MultiPromptChainMigrating from RefineDocumentsChainMigrating from RetrievalQAMigrating from StuffDocumentsChainUpgrading to LangGraph memoryHow to migrate to LangGraph memoryHow to use BaseChatMessageHistory with LangGraphMigrating off ConversationBufferMemory or ConversationStringBufferMemoryMigrating off ConversationBufferWindowMemory or ConversationTokenBufferMemoryMigrating off ConversationSummaryMemory or ConversationSummaryBufferMemoryA Long-Term Memory AgentRelease policySecurity PolicyIntroductionOn this pageIntroduction\n",
      "LangChain is a framework for developing applications powered by large language models (LLMs).\n",
      "LangChain simplifies every stage of the LLM application lifecycle:\n",
      "\n",
      "Development: Build your applications using LangChain's open-source components and third-party integrations.\n",
      "Use LangGraph to build stateful agents with first-class streaming and human-in-the-loop support.\n",
      "Productionization: Use LangSmith to inspect, monitor and evaluate your applications, so that you can continuously optimize and deploy with confidence.\n",
      "Deployment: Turn your LangGraph applications into production-ready APIs and Assistants with LangGraph Platform.\n",
      "\n",
      "\n",
      "\n",
      "LangChain implements a standard interface for large language models and related\n",
      "technologies, such as embedding models and vector stores, and integrates with\n",
      "hundreds of providers. See the integrations page for\n",
      "more.\n",
      "\n",
      "Select chat model:OpenAI▾OpenAIAnthropicAzureGoogle GeminiGoogle VertexAWSGroqCohereNVIDIAFireworks AIMistral AITogether AIIBM watsonxDatabricksxAIPerplexitypip install -qU \"langchain[openai]\"import getpassimport osif not os.environ.get(\"OPENAI_API_KEY\"):  os.environ[\"OPENAI_API_KEY\"] = getpass.getpass(\"Enter API key for OpenAI: \")from langchain.chat_models import init_chat_modelmodel = init_chat_model(\"gpt-4o-mini\", model_provider=\"openai\")\n",
      "model.invoke(\"Hello, world!\")\n",
      "noteThese docs focus on the Python LangChain library. Head here for docs on the JavaScript LangChain library.\n",
      "Architecture​\n",
      "The LangChain framework consists of multiple open-source libraries. Read more in the\n",
      "Architecture page.\n",
      "\n",
      "langchain-core: Base abstractions for chat models and other components.\n",
      "Integration packages (e.g. langchain-openai, langchain-anthropic, etc.): Important integrations have been split into lightweight packages that are co-maintained by the LangChain team and the integration developers.\n",
      "langchain: Chains, agents, and retrieval strategies that make up an application's cognitive architecture.\n",
      "langchain-community: Third-party integrations that are community maintained.\n",
      "langgraph: Orchestration framework for combining LangChain components into production-ready applications with persistence, streaming, and other key features. See LangGraph documentation.\n",
      "\n",
      "Guides​\n",
      "Tutorials​\n",
      "If you're looking to build something specific or are more of a hands-on learner, check out our tutorials section.\n",
      "This is the best place to get started.\n",
      "These are the best ones to get started with:\n",
      "\n",
      "Build a Simple LLM Application\n",
      "Build a Chatbot\n",
      "Build an Agent\n",
      "Introduction to LangGraph\n",
      "\n",
      "Explore the full list of LangChain tutorials here, and check out other LangGraph tutorials here. To learn more about LangGraph, check out our first LangChain Academy course, Introduction to LangGraph, available here.\n",
      "How-to guides​\n",
      "Here you’ll find short answers to “How do I….?” types of questions.\n",
      "These how-to guides don’t cover topics in depth – you’ll find that material in the Tutorials and the API Reference.\n",
      "However, these guides will help you quickly accomplish common tasks using chat models,\n",
      "vector stores, and other common LangChain components.\n",
      "Check out LangGraph-specific how-tos here.\n",
      "Conceptual guide​\n",
      "Introductions to all the key parts of LangChain you’ll need to know! Here you'll find high level explanations of all LangChain concepts.\n",
      "For a deeper dive into LangGraph concepts, check out this page.\n",
      "Integrations​\n",
      "LangChain is part of a rich ecosystem of tools that integrate with our framework and build on top of it.\n",
      "If you're looking to get up and running quickly with chat models, vector stores,\n",
      "or other LangChain components from a specific provider, check out our growing list of integrations.\n",
      "API reference​\n",
      "Head to the reference section for full documentation of all classes and methods in the LangChain Python packages.\n",
      "Ecosystem​\n",
      "🦜🛠️ LangSmith​\n",
      "Trace and evaluate your language model applications and intelligent agents to help you move from prototype to production.\n",
      "🦜🕸️ LangGraph​\n",
      "Build stateful, multi-actor applications with LLMs. Integrates smoothly with LangChain, but can be used without it. LangGraph powers production-grade agents, trusted by Linkedin, Uber, Klarna, GitLab, and many more.\n",
      "Additional resources​\n",
      "Versions​\n",
      "See what changed in v0.3, learn how to migrate legacy code, read up on our versioning policies, and more.\n",
      "Security​\n",
      "Read up on security best practices to make sure you're developing safely with LangChain.\n",
      "Contributing​\n",
      "Check out the developer's guide for guidelines on contributing and help getting your dev environment set up.Edit this pageWas this page helpful?NextTutorialsArchitectureGuidesTutorialsHow-to guidesConceptual guideIntegrationsAPI referenceEcosystem🦜🛠️ LangSmith🦜🕸️ LangGraphAdditional resourcesVersionsSecurityContributingCommunityTwitterGitHubOrganizationPythonJS/TSMoreHomepageBlogYouTubeCopyright © 2025 LangChain, Inc.\n",
      "\n",
      "\n"
     ]
    }
   ],
   "source": [
    "# 다중 문서 로드\n",
    "docs = loader_multiple_pages.load()\n",
    "# 첫 번째 문서의 페이지 콘텐츠 확인\n",
    "print(docs[0].page_content)"
   ]
  },
  {
   "cell_type": "markdown",
   "id": "8a2a833f",
   "metadata": {},
   "source": [
    "## 2.2 PDF 로더\n",
    "- PyPDFLoader : 간단하고 사용하기 쉬우나 복잡한 레이아웃의 PDF에서는 정확도가 떨어질 수 있습니다.\n",
    "- PyMuPDFLoader : PyPDFLoader보다 빠르고 정확한 텍스트 추출이 가능하며, 이미지나 표, 레이아웃 정보 등도 추출할 수 있습니다.\n",
    "- PDFPlumberLoader : 표와 같은 구조화된 데이터 추출에 특화되어 있습니다.\n",
    "\n",
    "### PyPDFLoader\n",
    "- PDF 문서를 페이지 단위로 로드하는 데 자주 사용하는 도구입니다.\n",
    "- 30페이지로 구성된 PDF는 원칙적으로 30개의 청크로 나누어 로드됩니다.\n",
    "- 모든 페이지가 청크로 변환되는 것은 아닙니다. 일부 페이지가 텍스트 없이 이미지만 포함되어 있거나 완전히 빈 페이지인 경우 해당 페이지는 로드 과정에서 제외될 수 있습니다.\n",
    "- 실제로 로드된 청크 수는 PDF 페이지 수보다 적을 수 있습니다."
   ]
  },
  {
   "cell_type": "code",
   "execution_count": 5,
   "id": "51a67eae",
   "metadata": {},
   "outputs": [],
   "source": [
    "from langchain_community.document_loaders import PyPDFLoader\n",
    "from langchain_community.document_loaders import PyMuPDFLoader\n",
    "from langchain_community.document_loaders import PDFPlumberLoader"
   ]
  },
  {
   "cell_type": "code",
   "execution_count": 8,
   "id": "0b74915a",
   "metadata": {},
   "outputs": [
    {
     "name": "stdout",
     "output_type": "stream",
     "text": [
      "청크의 수 83\n",
      "CPU times: total: 3.95 s\n",
      "Wall time: 4.06 s\n"
     ]
    }
   ],
   "source": [
    "%%time\n",
    "# PDF 파일 로더 초기화\n",
    "loader = PyPDFLoader(\"./2024_KB_부동산_보고서_최종.pdf\")\n",
    "# PDF 파일 로드 및 페이지 분할\n",
    "pages = loader.load_and_split()\n",
    "print(f'청크의 수 {len(pages)}')"
   ]
  },
  {
   "cell_type": "markdown",
   "id": "5fd63f2a",
   "metadata": {},
   "source": [
    "- load_and_split() 메서드는 각 행을 Document로 로드한 후, 지정된 텍스트 분할기(기본값은 RecursiveCharacterTextSplitter)를 사용하여 각 Document를 더 작은 청크로 나눕니다.\n",
    "- 결과에는 실행 속도를 측정한 CPU시간과 Wall 시간 정보도 포함되어 있습니다.\n",
    "- CPU시간은 사용자(user)시간과 시스템(sys) 시간으로 나뉩니다.\n",
    "- 사용자 시간 : 컴퓨터가 사용자의 코드 실행에 집중한 시간. 코드가 실제로 계산이나 작업을 수행하는데 사용한 시간입니다.\n",
    "- 시스템 시간 : 시스템 작업에 소요된 시간으로 파일 열기나 네트워크 작업등 코드 외적인 처리에 사용한 시간입니다.\n",
    "- 벽시계 시간 : 프로그램 시작부터 끝까지 걸린 시간으로 사용자가 체감한 전체 실행 시간으로 대부분의 시간이 코드 실행에 사용되었습니다."
   ]
  },
  {
   "cell_type": "code",
   "execution_count": 12,
   "id": "33a45bae",
   "metadata": {},
   "outputs": [
    {
     "data": {
      "text/plain": [
       "Document(metadata={'producer': 'Microsoft® Word 2016', 'creator': 'Microsoft® Word 2016', 'creationdate': '2024-03-04T15:30:01+09:00', 'title': 'Morning Meeting', 'author': '손은경', 'moddate': '2024-03-04T15:30:01+09:00', 'source': './2024_KB_부동산_보고서_최종.pdf', 'total_pages': 84, 'page': 11, 'page_label': '12'}, page_content='5 \\n2024 KB 부동산 보고서: 2024년 주택시장 진단과 전망 \\n \\n표Ⅰ-1. 공급 확대 정책 주요 내용 \\n날짜 주요 내용 \\n2023년 9월 \\n공공 부문 공급물량 확대: 3기 신도시를 포함한 공급물량 확대 및 조기 공급 방안 마련 \\n사업 여건 개선: 전매 제한 완화 및 규제 정상화, 조기 인허가 인센티브 및 절차 개선, 공사비 증액 \\n기준 마련 및 인력 확충, 분양 사업의 임대 사업 전환 촉진 \\n원활한 자금 지원: PF대출 보증 확대, 중도금 대출 지원 \\n비아파트 자금 조달 지원 및 규제 개선 \\n도심 공급 기반 확충: 정비사업 절차 및 소규모 사업 사업성 개선 \\n2024년 1월 \\n도심 공급 확대: 재건축·재개발 패스트트랙 도입 및 재건축 부담금 합리화, 1기 신도시 재정비사업의 \\n신속하고 내실 있는 계획 수립, 소규모 정비·도심 복합 사업 속도 개선 및 자금 지원 강화 \\n다양한 유형의 주택 공급 확대: 도시·건축 규제 완화 및 세제·금융 지원, 등록 임대 사업 여건 개선 \\n및 기업형 장기임대 활성화, 신축 매입 약정 확대, 전세 사기 예방 및 피해 지원 \\n신도시 등 공공주택 공급: 2024년 공공주택 14만 호 이상 공급, 신도시 조성 속도 제고 \\n건설 경기 활력 회복: PF대출 지원 및 유동성 지원, 공공 임대 참여 지분 조기 매각, 민간 사업장 \\n공공 인수, 재정 조기 집행 및 민자 사업 확대 \\n \\n자료: 국토교통부 보도자료 요약 \\n \\n■ 2024년 주택시장 3대 변수는 공급과 금리, 그리고 정책 \\n주택시장이 상승과 하락을 반복하면서 주택 경기 불확실성이 확대되고 있다. 특히 매수 수요 위축으\\n로 주택 매매 거래량이 급감하면서 향후 주택 경기에 대한 부정적 시각이 팽배하다. 무엇보다 여전히 \\n높은 금리가 부담으로 작용하고 있다. 주택 경기 불황기에 고금리로 인한 대출 부담은 주택 수요를 크\\n게 위축시킬 수밖에 없기 때문이다. \\n \\n그림Ⅰ-11. 매수우위지수 추이  표Ⅰ-2. 주요 금융기관 주택담보대출 금리(2024년 2월) \\n \\n \\n상품명 \\n당월 \\n최저 \\n당월 \\n최고 \\n전월 \\n평균 \\nKB주택담보대출 4.24 5.14 4.85 \\n신한주택대출 3.79 5.29 4.58 \\n우리아파트론 4.74 5.94 5.06 \\n하나원큐 아파트론 4.90 5.30 5.39 \\nNH주택담보대출 4.40 6.40 5.39 \\n카카오주택담보대출 4.54 5.19 4.82 \\n \\n자료: KB국민은행 \\n \\n 주: 아파트, 변동금리, 원리금 분할 상환 기준 \\n자료: 은행연합회')"
      ]
     },
     "execution_count": 12,
     "metadata": {},
     "output_type": "execute_result"
    }
   ],
   "source": [
    "pages[10]"
   ]
  },
  {
   "cell_type": "markdown",
   "id": "74a8166c",
   "metadata": {},
   "source": [
    "- PyPDFLoader를 사용하면 page_content에 분할된 텍스트 본문이 저장되고, metadata의 source에는 해당 본문의 원본 파일명이 저장됩니다.\n",
    "- 본문 내용에만 접근하려면 각 청크에서 .page_content를 호출하면 됩니다.\n",
    "- load_and_split()메서드는 기본적으로 RecursiveCharacterTextSplitter를 사용하여, PDF를 청크로 분할합니다.\n",
    "  - 청크 크기(chunk_size), 중복 범위(chunk_overlap), 분할 우선순위 문자(separators)를 조정하면 더 세밀한 분할이 가능합니다."
   ]
  },
  {
   "cell_type": "markdown",
   "id": "8ed1b183",
   "metadata": {},
   "source": [
    "### PyMuPDFLoader\n",
    "- 빠른 속도와 다양한 메타데이터 추출 기능을 제공하여, 다수의 PDF파일이나 대용량 PDF를 처리할 때 효율적입니다.\n",
    "- PyPDFLoader에 비해 더 다양한 메타데이터를 추출할 수 있는 특징이 있습니다.\n",
    "- 청크 분할 방식이 다른 PDF로더와 다를 수 있으므로 결과를 비교한 후 적합한 로드를 선택하는 것이 좋습니다."
   ]
  },
  {
   "cell_type": "code",
   "execution_count": 14,
   "id": "e6ae5f73",
   "metadata": {},
   "outputs": [
    {
     "name": "stdout",
     "output_type": "stream",
     "text": [
      "청크의 수 83\n",
      "CPU times: total: 641 ms\n",
      "Wall time: 675 ms\n"
     ]
    }
   ],
   "source": [
    "%%time\n",
    "loader = PyMuPDFLoader(\"./2024_KB_부동산_보고서_최종.pdf\")\n",
    "pages = loader.load_and_split()\n",
    "print(f'청크의 수 {len(pages)}')"
   ]
  },
  {
   "cell_type": "code",
   "execution_count": 15,
   "id": "155a2994",
   "metadata": {},
   "outputs": [
    {
     "data": {
      "text/plain": [
       "Document(metadata={'producer': 'Microsoft® Word 2016', 'creator': 'Microsoft® Word 2016', 'creationdate': '2024-03-04T15:30:01+09:00', 'source': './2024_KB_부동산_보고서_최종.pdf', 'file_path': './2024_KB_부동산_보고서_최종.pdf', 'total_pages': 84, 'format': 'PDF 1.5', 'title': 'Morning Meeting', 'author': '손은경', 'subject': '', 'keywords': '', 'moddate': '2024-03-04T15:30:01+09:00', 'trapped': '', 'modDate': \"D:20240304153001+09'00'\", 'creationDate': \"D:20240304153001+09'00'\", 'page': 11}, page_content='5 \\n2024 KB 부동산 보고서: 2024년 주택시장 진단과 전망 \\n표Ⅰ-1. 공급 확대 정책 주요 내용 \\n날짜 \\n주요 내용 \\n2023년 9월 \\n공공 부문 공급물량 확대: 3기 신도시를 포함한 공급물량 확대 및 조기 공급 방안 마련 \\n사업 여건 개선: 전매 제한 완화 및 규제 정상화, 조기 인허가 인센티브 및 절차 개선, 공사비 증액 \\n기준 마련 및 인력 확충, 분양 사업의 임대 사업 전환 촉진 \\n원활한 자금 지원: PF대출 보증 확대, 중도금 대출 지원 \\n비아파트 자금 조달 지원 및 규제 개선 \\n도심 공급 기반 확충: 정비사업 절차 및 소규모 사업 사업성 개선 \\n2024년 1월 \\n도심 공급 확대: 재건축·재개발 패스트트랙 도입 및 재건축 부담금 합리화, 1기 신도시 재정비사업의 \\n신속하고 내실 있는 계획 수립, 소규모 정비·도심 복합 사업 속도 개선 및 자금 지원 강화 \\n다양한 유형의 주택 공급 확대: 도시·건축 규제 완화 및 세제·금융 지원, 등록 임대 사업 여건 개선 \\n및 기업형 장기임대 활성화, 신축 매입 약정 확대, 전세 사기 예방 및 피해 지원 \\n신도시 등 공공주택 공급: 2024년 공공주택 14만 호 이상 공급, 신도시 조성 속도 제고 \\n건설 경기 활력 회복: PF대출 지원 및 유동성 지원, 공공 임대 참여 지분 조기 매각, 민간 사업장 \\n공공 인수, 재정 조기 집행 및 민자 사업 확대 \\n자료: 국토교통부 보도자료 요약 \\n \\n■ 2024년 주택시장 3대 변수는 공급과 금리, 그리고 정책 \\n주택시장이 상승과 하락을 반복하면서 주택 경기 불확실성이 확대되고 있다. 특히 매수 수요 위축으\\n로 주택 매매 거래량이 급감하면서 향후 주택 경기에 대한 부정적 시각이 팽배하다. 무엇보다 여전히 \\n높은 금리가 부담으로 작용하고 있다. 주택 경기 불황기에 고금리로 인한 대출 부담은 주택 수요를 크\\n게 위축시킬 수밖에 없기 때문이다. \\n \\n그림Ⅰ-11. 매수우위지수 추이 \\n표Ⅰ-2. 주요 금융기관 주택담보대출 금리(2024년 2월) \\n \\n \\n상품명 \\n당월 \\n최저 \\n당월 \\n최고 \\n전월 \\n평균 \\nKB주택담보대출 \\n4.24 \\n5.14 \\n4.85 \\n신한주택대출 \\n3.79 \\n5.29 \\n4.58 \\n우리아파트론 \\n4.74 \\n5.94 \\n5.06 \\n하나원큐 아파트론 \\n4.90 \\n5.30 \\n5.39 \\nNH주택담보대출 \\n4.40 \\n6.40 \\n5.39 \\n카카오주택담보대출 \\n4.54 \\n5.19 \\n4.82 \\n자료: KB국민은행 \\n주: 아파트, 변동금리, 원리금 분할 상환 기준 \\n자료: 은행연합회')"
      ]
     },
     "execution_count": 15,
     "metadata": {},
     "output_type": "execute_result"
    }
   ],
   "source": [
    "pages[10]"
   ]
  },
  {
   "cell_type": "markdown",
   "id": "5932e908",
   "metadata": {},
   "source": [
    "- PyPDFLoader로 수행했을 때와 비교해보면, page_content 값이 거의 유사하지만 줄바꿈 등에서 일부 차이가 있습니다.\n",
    "- metadata에 파일 경로, 키워드, 제목, 문서 포맷 등 더 다양한 정보가 포함되어 있습니다."
   ]
  },
  {
   "cell_type": "markdown",
   "id": "81b1ab50",
   "metadata": {},
   "source": [
    "### PDFPlumberLoader\n",
    "- PyMuPDFLoader와 마찬가지로 더 다양하고 상세한 메타데이터를 제공하여 PDF 문서의 구조와 내용을 깊이 이해하는데 유리합니다.\n",
    "- 상세한 분석을 수행하기 때문에 PyMuPDFLoader에 비해 처리 속도가 다소 느린 편입니다."
   ]
  },
  {
   "cell_type": "code",
   "execution_count": 17,
   "id": "84c2ecac",
   "metadata": {},
   "outputs": [
    {
     "name": "stderr",
     "output_type": "stream",
     "text": [
      "CropBox missing from /Page, defaulting to MediaBox\n",
      "CropBox missing from /Page, defaulting to MediaBox\n",
      "CropBox missing from /Page, defaulting to MediaBox\n",
      "CropBox missing from /Page, defaulting to MediaBox\n",
      "CropBox missing from /Page, defaulting to MediaBox\n",
      "CropBox missing from /Page, defaulting to MediaBox\n",
      "CropBox missing from /Page, defaulting to MediaBox\n",
      "CropBox missing from /Page, defaulting to MediaBox\n",
      "CropBox missing from /Page, defaulting to MediaBox\n",
      "CropBox missing from /Page, defaulting to MediaBox\n",
      "CropBox missing from /Page, defaulting to MediaBox\n",
      "CropBox missing from /Page, defaulting to MediaBox\n",
      "CropBox missing from /Page, defaulting to MediaBox\n",
      "CropBox missing from /Page, defaulting to MediaBox\n",
      "CropBox missing from /Page, defaulting to MediaBox\n",
      "CropBox missing from /Page, defaulting to MediaBox\n",
      "CropBox missing from /Page, defaulting to MediaBox\n",
      "CropBox missing from /Page, defaulting to MediaBox\n",
      "CropBox missing from /Page, defaulting to MediaBox\n",
      "CropBox missing from /Page, defaulting to MediaBox\n",
      "CropBox missing from /Page, defaulting to MediaBox\n",
      "CropBox missing from /Page, defaulting to MediaBox\n",
      "CropBox missing from /Page, defaulting to MediaBox\n",
      "CropBox missing from /Page, defaulting to MediaBox\n",
      "CropBox missing from /Page, defaulting to MediaBox\n",
      "CropBox missing from /Page, defaulting to MediaBox\n",
      "CropBox missing from /Page, defaulting to MediaBox\n",
      "CropBox missing from /Page, defaulting to MediaBox\n",
      "CropBox missing from /Page, defaulting to MediaBox\n",
      "CropBox missing from /Page, defaulting to MediaBox\n",
      "CropBox missing from /Page, defaulting to MediaBox\n",
      "CropBox missing from /Page, defaulting to MediaBox\n",
      "CropBox missing from /Page, defaulting to MediaBox\n",
      "CropBox missing from /Page, defaulting to MediaBox\n",
      "CropBox missing from /Page, defaulting to MediaBox\n",
      "CropBox missing from /Page, defaulting to MediaBox\n",
      "CropBox missing from /Page, defaulting to MediaBox\n",
      "CropBox missing from /Page, defaulting to MediaBox\n",
      "CropBox missing from /Page, defaulting to MediaBox\n",
      "CropBox missing from /Page, defaulting to MediaBox\n",
      "CropBox missing from /Page, defaulting to MediaBox\n",
      "CropBox missing from /Page, defaulting to MediaBox\n",
      "CropBox missing from /Page, defaulting to MediaBox\n",
      "CropBox missing from /Page, defaulting to MediaBox\n",
      "CropBox missing from /Page, defaulting to MediaBox\n",
      "CropBox missing from /Page, defaulting to MediaBox\n",
      "CropBox missing from /Page, defaulting to MediaBox\n",
      "CropBox missing from /Page, defaulting to MediaBox\n",
      "CropBox missing from /Page, defaulting to MediaBox\n",
      "CropBox missing from /Page, defaulting to MediaBox\n",
      "CropBox missing from /Page, defaulting to MediaBox\n",
      "CropBox missing from /Page, defaulting to MediaBox\n",
      "CropBox missing from /Page, defaulting to MediaBox\n",
      "CropBox missing from /Page, defaulting to MediaBox\n",
      "CropBox missing from /Page, defaulting to MediaBox\n",
      "CropBox missing from /Page, defaulting to MediaBox\n",
      "CropBox missing from /Page, defaulting to MediaBox\n",
      "CropBox missing from /Page, defaulting to MediaBox\n",
      "CropBox missing from /Page, defaulting to MediaBox\n",
      "CropBox missing from /Page, defaulting to MediaBox\n",
      "CropBox missing from /Page, defaulting to MediaBox\n",
      "CropBox missing from /Page, defaulting to MediaBox\n",
      "CropBox missing from /Page, defaulting to MediaBox\n",
      "CropBox missing from /Page, defaulting to MediaBox\n",
      "CropBox missing from /Page, defaulting to MediaBox\n",
      "CropBox missing from /Page, defaulting to MediaBox\n",
      "CropBox missing from /Page, defaulting to MediaBox\n",
      "CropBox missing from /Page, defaulting to MediaBox\n",
      "CropBox missing from /Page, defaulting to MediaBox\n",
      "CropBox missing from /Page, defaulting to MediaBox\n",
      "CropBox missing from /Page, defaulting to MediaBox\n",
      "CropBox missing from /Page, defaulting to MediaBox\n",
      "CropBox missing from /Page, defaulting to MediaBox\n",
      "CropBox missing from /Page, defaulting to MediaBox\n",
      "CropBox missing from /Page, defaulting to MediaBox\n",
      "CropBox missing from /Page, defaulting to MediaBox\n",
      "CropBox missing from /Page, defaulting to MediaBox\n",
      "CropBox missing from /Page, defaulting to MediaBox\n",
      "CropBox missing from /Page, defaulting to MediaBox\n",
      "CropBox missing from /Page, defaulting to MediaBox\n",
      "CropBox missing from /Page, defaulting to MediaBox\n",
      "CropBox missing from /Page, defaulting to MediaBox\n",
      "CropBox missing from /Page, defaulting to MediaBox\n",
      "CropBox missing from /Page, defaulting to MediaBox\n"
     ]
    },
    {
     "name": "stdout",
     "output_type": "stream",
     "text": [
      "청크의 수 83\n",
      "CPU times: total: 7 s\n",
      "Wall time: 7.08 s\n"
     ]
    }
   ],
   "source": [
    "%%time\n",
    "loader = PDFPlumberLoader(\"./2024_KB_부동산_보고서_최종.pdf\")\n",
    "pages = loader.load_and_split()\n",
    "print(f'청크의 수 {len(pages)}')"
   ]
  },
  {
   "cell_type": "code",
   "execution_count": 18,
   "id": "2387b6cd",
   "metadata": {},
   "outputs": [
    {
     "data": {
      "text/plain": [
       "Document(metadata={'source': './2024_KB_부동산_보고서_최종.pdf', 'file_path': './2024_KB_부동산_보고서_최종.pdf', 'page': 11, 'total_pages': 84, 'Title': 'Morning Meeting', 'Author': '손은경', 'Creator': 'Microsoft® Word 2016', 'CreationDate': \"D:20240304153001+09'00'\", 'ModDate': \"D:20240304153001+09'00'\", 'Producer': 'Microsoft® Word 2016'}, page_content='2024 KB 부동산 보고서: 2024년 주택시장 진단과 전망\\n표Ⅰ-1. 공급 확대 정책 주요 내용\\n날짜 주요 내용\\n공공 부문 공급물량 확대: 3기 신도시를 포함한 공급물량 확대 및 조기 공급 방안 마련\\n사업 여건 개선: 전매 제한 완화 및 규제 정상화, 조기 인허가 인센티브 및 절차 개선, 공사비 증액\\n기준 마련 및 인력 확충, 분양 사업의 임대 사업 전환 촉진\\n2023년 9월\\n원활한 자금 지원: PF대출 보증 확대, 중도금 대출 지원\\n비아파트 자금 조달 지원 및 규제 개선\\n도심 공급 기반 확충: 정비사업 절차 및 소규모 사업 사업성 개선\\n도심 공급 확대: 재건축·재개발 패스트트랙 도입 및 재건축 부담금 합리화, 1기 신도시 재정비사업의\\n신속하고 내실 있는 계획 수립, 소규모 정비·도심 복합 사업 속도 개선 및 자금 지원 강화\\n다양한 유형의 주택 공급 확대: 도시·건축 규제 완화 및 세제·금융 지원, 등록 임대 사업 여건 개선\\n2024년 1월 및 기업형 장기임대 활성화, 신축 매입 약정 확대, 전세 사기 예방 및 피해 지원\\n신도시 등 공공주택 공급: 2024년 공공주택 14만 호 이상 공급, 신도시 조성 속도 제고\\n건설 경기 활력 회복: PF대출 지원 및 유동성 지원, 공공 임대 참여 지분 조기 매각, 민간 사업장\\n공공 인수, 재정 조기 집행 및 민자 사업 확대\\n자료: 국토교통부 보도자료 요약\\n■ 2024년 주택시장 3대 변수는 공급과 금리, 그리고 정책\\n주택시장이 상승과 하락을 반복하면서 주택 경기 불확실성이 확대되고 있다. 특히 매수 수요 위축으\\n로 주택 매매 거래량이 급감하면서 향후 주택 경기에 대한 부정적 시각이 팽배하다. 무엇보다 여전히\\n높은 금리가 부담으로 작용하고 있다. 주택 경기 불황기에 고금리로 인한 대출 부담은 주택 수요를 크\\n게 위축시킬 수밖에 없기 때문이다.\\n그림Ⅰ-11. 매수우위지수 추이 표Ⅰ-2. 주요 금융기관 주택담보대출 금리(2024년 2월)\\n당월 당월 전월\\n상품명\\n최저 최고 평균\\nKB주택담보대출 4.24 5.14 4.85\\n신한주택대출 3.79 5.29 4.58\\n우리아파트론 4.74 5.94 5.06\\n하나원큐 아파트론 4.90 5.30 5.39\\nNH주택담보대출 4.40 6.40 5.39\\n카카오주택담보대출 4.54 5.19 4.82\\n자료: KB국민은행 주: 아파트, 변동금리, 원리금 분할 상환 기준\\n자료: 은행연합회\\n5')"
      ]
     },
     "execution_count": 18,
     "metadata": {},
     "output_type": "execute_result"
    }
   ],
   "source": [
    "pages[10]"
   ]
  },
  {
   "cell_type": "markdown",
   "id": "fc0207ba",
   "metadata": {},
   "source": [
    "- PyPDFLoader와 마찬가지로 텍스트 추출 시 줄바꿈 등에서 약간의 차이를 보이고, 메타데이터 부분에서 훨신 떠 다양한 정보를 포함한다는 점에서 큰 차이가 있습니다.\n",
    "- 텍스트 뿐만 아니라 PDF 내 이미지도 추출할 수 있는 기능을 제공하여 이미지 정보가 필요한 경우에도 유용하게 사용할 수 있습니다."
   ]
  },
  {
   "cell_type": "markdown",
   "id": "86d92565",
   "metadata": {},
   "source": [
    "## 2.3 CSV 로더\n",
    "- 랭체인에서 제공하는 주요 CSV로더는 기본적인 CSVLoader와 CSV 파일을 좀 더 유연하게 처리할 수 있는 UnstructuredCSVLoader가 있습니다.\n",
    "### CSVLoader\n",
    "- CSV 파일을 행 단위로 로드하여 각 행을 독립적인 문서로 변환합니다.\n",
    "- 빈 행이 포함되어 있더라도, 해당 빈 행은 하나의 청크로 처리됩니다.\n",
    "  - 1000개의 행으로 구성된 CSV파일에 빈 행이 포함되어 있다면, 빈 행을 포함한 1000개의 청크로 나뉘게 됩니다."
   ]
  },
  {
   "cell_type": "code",
   "execution_count": 19,
   "id": "00317ec0",
   "metadata": {},
   "outputs": [],
   "source": [
    "# 라이브러리 불러오기\n",
    "from langchain_community.document_loaders import CSVLoader\n",
    "from langchain_community.document_loaders import UnstructuredCSVLoader"
   ]
  },
  {
   "cell_type": "code",
   "execution_count": 22,
   "id": "30e38249",
   "metadata": {},
   "outputs": [
    {
     "name": "stdout",
     "output_type": "stream",
     "text": [
      "청크의 수 2001\n",
      "CPU times: total: 15.6 ms\n",
      "Wall time: 19.9 ms\n"
     ]
    }
   ],
   "source": [
    "%%time\n",
    "# CSV 파일 로더 초기화\n",
    "loader = CSVLoader(\"./서울시_부동산_실거래가_정보.csv\", encoding=\"utf-8\")\n",
    "# CSV 파일 로드 및 행 분할\n",
    "documents = loader.load()\n",
    "print(f'청크의 수 {len(documents)}')"
   ]
  },
  {
   "cell_type": "code",
   "execution_count": 25,
   "id": "d19ca9dd",
   "metadata": {},
   "outputs": [
    {
     "data": {
      "text/plain": [
       "Document(metadata={'source': './서울시_부동산_실거래가_정보.csv', 'row': 5}, page_content='\\ufeff접수연도: 2024\\n자치구코드: 11410\\n자치구명: 서대문구\\n법정동코드: 11600\\n법정동명: 창천동\\n지번구분: \\n지번구분명: \\n본번: \\n부번: \\n건물명: \\n계약일: 20241031\\n물건금액(만원): 340000\\n건물면적(㎡): 421.83\\n토지면적(㎡): 284\\n층: \\n권리구분: \\n취소일: \\n건축년도: 2014\\n건물용도: 단독다가구\\n신고구분: 직거래\\n신고한 개업공인중개사 시군구명: ')"
      ]
     },
     "execution_count": 25,
     "metadata": {},
     "output_type": "execute_result"
    }
   ],
   "source": [
    "documents[5]"
   ]
  },
  {
   "cell_type": "markdown",
   "id": "4e1a0c9d",
   "metadata": {},
   "source": [
    "- page_content에 각 행의 데이터가 저장되고, metadata의 source에는 원본 파일명, row에는 해당 행 번호가 저장됩니다.\n",
    "- 더 작은 단위로 데이터를 반할해야 한다면 RecursiveCharacterTextSplitter의 파라미터를 조정하여 세밀하게 나눌수 있습니다."
   ]
  },
  {
   "cell_type": "markdown",
   "id": "6535111d",
   "metadata": {},
   "source": [
    "### UnstructuredCSVLoader\n",
    "- CSV파일을 유연하게 처리할 수 있는 도구로 'single' 모드와 'elements' 모드를 통해 다양한 방식으로 CSV 데이터를 로드할 수 있습니다.\n",
    "- CSVLoader와 달리 unstructured 라이브러리를 사용하여 CSV 파일 전체를 하나의 문서로 로드하거나, 요소별로 분리할 수 있는 유연한 기능을 제공합니다.\n",
    "- CSV파일의 구조가 일정하지 않거나 특수한 처리가 필요한 경우 특히 유용합니다.\n",
    "- 객체를 초기화할때 mode 매개변수를 'single' 또는 'elements' 모드로 선택할 수 있습니다.\n",
    "- 'single'모드는 파일 전체를 하나의 문서로 취급하는 반면, 'elememts'모드는 각 CSV행을 독립적인 요소로 분리하여 처리합니다.\n",
    "- 'elements'모드를 사용할 경우, 테이블의 HTML 표현이 text_as_html 키에 저장되어 HTML 데이터를 활용할 수도 있습니다."
   ]
  },
  {
   "cell_type": "code",
   "execution_count": 27,
   "id": "5f75593b",
   "metadata": {},
   "outputs": [
    {
     "name": "stdout",
     "output_type": "stream",
     "text": [
      "청크의 수 1\n",
      "CPU times: total: 891 ms\n",
      "Wall time: 4.08 s\n"
     ]
    }
   ],
   "source": [
    "%%time\n",
    "# CSV 파일 로더 초기화\n",
    "loader = UnstructuredCSVLoader(\"./서울시_부동산_실거래가_정보.csv\", encoding=\"utf-8\", mode=\"elements\")\n",
    "# CSV 파일 로드\n",
    "documents = loader.load()\n",
    "print(f'청크의 수 {len(documents)}')"
   ]
  },
  {
   "cell_type": "markdown",
   "id": "fe78dd32",
   "metadata": {},
   "source": [
    "- 결과를 보면 청크 수가 1개로 나타나, 단일 문서로 처리되었음을 알수 있습니다.\n",
    "- CSVLoader보다 느린 속도입니다.\n",
    "- 'elements'모드는 CSV파일을 단일의 비구조화된 텍스트 문서로 로드합니다.\n",
    "- 파일 내용을 HTML형식으로 구조화한 테이블 표현도 문서 메타데이터의 text_as_html키에 포함되어 있어, 파일의 원래 구조를 유지하면서 시각화하기에 유용합니다."
   ]
  }
 ],
 "metadata": {
  "kernelspec": {
   "display_name": ".venv",
   "language": "python",
   "name": "python3"
  },
  "language_info": {
   "codemirror_mode": {
    "name": "ipython",
    "version": 3
   },
   "file_extension": ".py",
   "mimetype": "text/x-python",
   "name": "python",
   "nbconvert_exporter": "python",
   "pygments_lexer": "ipython3",
   "version": "3.11.12"
  }
 },
 "nbformat": 4,
 "nbformat_minor": 5
}
