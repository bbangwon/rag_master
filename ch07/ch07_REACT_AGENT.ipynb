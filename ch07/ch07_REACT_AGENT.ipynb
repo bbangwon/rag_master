{
 "cells": [
  {
   "cell_type": "markdown",
   "id": "c2b957c3",
   "metadata": {},
   "source": [
    "# 2. 에이전트 RAG\n"
   ]
  },
  {
   "cell_type": "markdown",
   "id": "115709bf",
   "metadata": {},
   "source": [
    "- 에이전트 RAG는 RAG에 LLM의 의사결정 능력을 결합한 시스템입니다.\n",
    "- ReAct 방법론은 대표적인 에이전트 구현 방식 중 하나입니다.\n",
    "- 2개의 서로 다른 PDF파일로부터 2개의 검색기를 만들어 ReAct 에이전트와 연결하여 복잡한 질문을 처리할 수 있는 에이전트 RAG를 구현해보겠습니다.\n"
   ]
  },
  {
   "cell_type": "code",
   "execution_count": null,
   "id": "d1488d9a",
   "metadata": {},
   "outputs": [],
   "source": [
    "from langchain.text_splitter import RecursiveCharacterTextSplitter\n",
    "from langchain_ollama import OllamaEmbeddings\n",
    "from langchain_community.document_loaders import PyMuPDFLoader\n",
    "from langchain_community.vectorstores import Chroma\n",
    "from langchain.tools.retriever import create_retriever_tool\n",
    "from langchain import hub\n",
    "from langchain_openai import ChatOpenAI\n",
    "from langchain.agents import AgentExecutor, create_react_agent\n",
    "from langchain_core.prompts import PromptTemplate"
   ]
  },
  {
   "cell_type": "markdown",
   "id": "813d09ce",
   "metadata": {},
   "source": [
    "- PyMuPDFLoader: PDF 문서를 읽어들이고 텍스트를 추출하는 도구입니다.\n",
    "- RecursiveCharacterTextSplitter: 긴 문서를 의미 있는 단위로 분할하는 도구로, 문장과 단락의 문맥을 보존하며 텍스트를 청크 단위로 나눕니다.\n",
    "- OllamaEmbeddings: 임베딩 모델을 사용해 텍스트를 벡터로 변환합니다.\n",
    "- Chroma: 벡터화된 텍스트를 저장하고 검색하기 위한 벡터 데이터베이스입니다.\n",
    "- create_retriever_tool: 벡터 검색을 ReAct에이전트의 도구로 변환합니다.\n",
    "- hub: LangChain의 프롬프트 템플릿 저장소에 접근합니다.\n",
    "- ChatOpenAI: 오픈AI의 챗GPT 모델을 활용하기 위한 인터페이스입니다.\n",
    "- AgentExecutor, create_react_agent: ReAct 에이전트를 생성하고 실행하는 핵심 컴포넌트입니다.\n",
    "- PromptTemplate: 에이전트의 프롬프트를 템플릿화하여 관리합니다.\n"
   ]
  }
 ],
 "metadata": {
  "kernelspec": {
   "display_name": ".venv",
   "language": "python",
   "name": "python3"
  },
  "language_info": {
   "name": "python",
   "version": "3.11.12"
  }
 },
 "nbformat": 4,
 "nbformat_minor": 5
}
