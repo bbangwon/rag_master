{
 "cells": [
  {
   "cell_type": "markdown",
   "id": "cf2a3093",
   "metadata": {},
   "source": [
    "# 랭그래프 활용\n",
    "\n",
    "- 웹 검색 결과를 활용하여 일반적인 질문이나 최신 정보가 필요한 질문에 답변하기\n",
    "- 이전 대화와 사용자 설정을 저장하여 대화의 맥락 유지하기\n",
    "- 인간의 개임이 필요한 복잡한 질문의 경우, 인간에게 라우팅하기\n",
    "- 필요에 따라 커스텀 상태 값을 사용하여 챗봇의 동작을 유연하게 제어하기\n",
    "- 이전 대화로 되돌아가 수정하는 기능 지원하기\n"
   ]
  },
  {
   "cell_type": "code",
   "execution_count": 10,
   "id": "7db57a2d",
   "metadata": {},
   "outputs": [
    {
     "data": {
      "text/plain": [
       "True"
      ]
     },
     "execution_count": 10,
     "metadata": {},
     "output_type": "execute_result"
    }
   ],
   "source": [
    "from dotenv import load_dotenv\n",
    "load_dotenv()"
   ]
  },
  {
   "cell_type": "markdown",
   "id": "06c1b1dc",
   "metadata": {},
   "source": [
    "- add_messages 기능을 활용하여 메시지를 누적합니다.\n"
   ]
  },
  {
   "cell_type": "code",
   "execution_count": 2,
   "id": "a13505be",
   "metadata": {},
   "outputs": [],
   "source": [
    "from typing import Annotated\n",
    "from typing_extensions import TypedDict\n",
    "from langgraph.graph import StateGraph, START, END\n",
    "from langgraph.graph.message import add_messages\n",
    "\n",
    "# 실습에서 사용할 그래프의 상태 정의\n",
    "class State(TypedDict):\n",
    "    messages: Annotated[list, add_messages]\n",
    "\n",
    "# 실습에서 사용할 그래프 인스턴스\n",
    "graph_builder = StateGraph(State)"
   ]
  },
  {
   "cell_type": "markdown",
   "id": "86a17edd",
   "metadata": {},
   "source": [
    "## 2.1 루프 구현하기\n",
    "\n",
    "- 챗봇 노드를 추가합니다.\n",
    "- 이 노드는 LLM이 사용자의 질의를 받아 응답을 생성하는 역할을 합니다.\n"
   ]
  },
  {
   "cell_type": "code",
   "execution_count": 3,
   "id": "a0154077",
   "metadata": {},
   "outputs": [
    {
     "data": {
      "text/plain": [
       "<langgraph.graph.state.StateGraph at 0x13ef8aa5e10>"
      ]
     },
     "execution_count": 3,
     "metadata": {},
     "output_type": "execute_result"
    }
   ],
   "source": [
    "from langchain_openai import ChatOpenAI\n",
    "\n",
    "llm = ChatOpenAI(model=\"gpt-4o-mini\")\n",
    "\n",
    "# 챗봇 함수 정의\n",
    "def chatbot(state: State):\n",
    "    return {\"messages\": [llm.invoke(state[\"messages\"])]}\n",
    "\n",
    "# 챗봇 노드 정의\n",
    "graph_builder.add_node(\"chatbot\", chatbot)"
   ]
  },
  {
   "cell_type": "markdown",
   "id": "1b20ccdb",
   "metadata": {},
   "source": [
    "- 그래프의 시작과 종료를 나타내는 진입지점, 종료지점을 지정합니다.\n"
   ]
  },
  {
   "cell_type": "code",
   "execution_count": 5,
   "id": "205e6242",
   "metadata": {},
   "outputs": [
    {
     "data": {
      "text/plain": [
       "<langgraph.graph.state.StateGraph at 0x13ef8aa5e10>"
      ]
     },
     "execution_count": 5,
     "metadata": {},
     "output_type": "execute_result"
    }
   ],
   "source": [
    "#진입지점\n",
    "graph_builder.add_edge(START, \"chatbot\")\n",
    "\n",
    "# 종료지점\n",
    "graph_builder.add_edge(\"chatbot\", END)"
   ]
  },
  {
   "cell_type": "markdown",
   "id": "7ad21e01",
   "metadata": {},
   "source": [
    "- 그래프가 완성되었으면 compile() 함수를 호출하여 실행 가능한 형태로 변환합니다.\n",
    "- 정의한 노드와 흐름을 실제 실행할 수 있는 구조로 만드는 것을 의미합니다.\n"
   ]
  },
  {
   "cell_type": "code",
   "execution_count": 6,
   "id": "e9007223",
   "metadata": {},
   "outputs": [],
   "source": [
    "graph = graph_builder.compile()"
   ]
  },
  {
   "cell_type": "markdown",
   "id": "fab3f25f",
   "metadata": {},
   "source": [
    "- 사용자의 입력은 graph.stream() 함수를 통해 미리 구성한 챗봇 워크플로우에 전달하면 되며, 생성된 응답은 event에 누적되어 확인할 수 있습니다.\n"
   ]
  },
  {
   "cell_type": "code",
   "execution_count": 8,
   "id": "a0d10a59",
   "metadata": {},
   "outputs": [
    {
     "name": "stdout",
     "output_type": "stream",
     "text": [
      "User:  너는 누구야?\n",
      "Assistant: 저는 AI 언어 모델인 ChatGPT입니다. 질문에 답하고, 정보 제공, 대화에 참여하는 등의 역할을 합니다. 무엇을 도와드릴까요?\n",
      "User:  반가워!\n",
      "Assistant: 반가워요! 어떻게 도와드릴까요?\n",
      "User:  exit\n",
      "Exiting the chatbot. Goodbye!\n"
     ]
    }
   ],
   "source": [
    "while True:\n",
    "    #사용자의 질문 입력받기\n",
    "    user_input = input(\"User: \")\n",
    "    print(\"User: \", user_input)\n",
    "\n",
    "    #사용자가 quit 또는 exit, q를 입력하였다면 루프 종료\n",
    "    if user_input.lower() in [\"quit\", \"exit\", \"q\"]:\n",
    "        print(\"Exiting the chatbot. Goodbye!\")\n",
    "        break\n",
    "\n",
    "    # 사용자의 입력을 그래프에 전달하여 정의된 흐름 실행\n",
    "    for event in graph.stream({\"messages\": (\"user\", user_input)}):\n",
    "        for value in event.values():\n",
    "            print(\"Assistant:\", value[\"messages\"][-1].content)\n"
   ]
  },
  {
   "cell_type": "markdown",
   "id": "be02e01e",
   "metadata": {},
   "source": [
    "- 현재까지 구성한 그래프를 시각화합니다.\n",
    "- draw_mermaid_png() 함수를 이용해 이미지로 출력할 수 있습니다.\n"
   ]
  },
  {
   "cell_type": "code",
   "execution_count": 9,
   "id": "a07d3e7b",
   "metadata": {},
   "outputs": [
    {
     "data": {
      "image/png": "[encoded data removed]",
      "text/plain": [
       "<IPython.core.display.Image object>"
      ]
     },
     "metadata": {},
     "output_type": "display_data"
    }
   ],
   "source": [
    "from IPython.display import Image, display\n",
    "display(Image(graph.get_graph().draw_mermaid_png()))"
   ]
  },
  {
   "cell_type": "code",
   "execution_count": 1,
   "id": "772dc23d",
   "metadata": {},
   "outputs": [
    {
     "data": {
      "text/plain": [
       "[{'title': '서울 실시간 날씨 정보 | 서울 공식 관광정보 웹사이트',\n",
       "  'url': 'https://korean.visitseoul.net/weather',\n",
       "  'content': '## [visitseoul.net](https://korean.visitseoul.net \"visitseoul.net\")\\n\\n#### 3일 예보\\n\\n3일 예보 : 날짜, 날씨, 최저/최고기온(℃), 강수확률\\n\\n|  |  |  |  |\\n| --- | --- | --- | --- |\\n| 날짜 | **오늘 : 2025-05-30** | **내일 : 2025-05-31** | **모레 : 2025-06-01** |\\n| 날씨 | 맑음 | 맑음 | 구름많음 |\\n| 맑음 | 맑음 | 구름많음 |\\n| 최저/최고기온 (℃) | 16℃ / 0℃ | 16℃ / 29℃ | 16℃ / 29℃ |\\n| 강수확률 | 0% / 0% | 0% / 0% | - | [...] |  |  |  |  |  |  |\\n| --- | --- | --- | --- | --- | --- |\\n| 날짜 | **2025-05-30** | **2025-05-31** | **2025-06-01** | **2025-06-02** | **2025-06-03** |\\n| 날씨 | 맑음 | 맑음 | 구름많음 | 흐림 | 흐림 |\\n| 맑음 | 맑음 | 구름많음 | 흐림 | 흐림 |\\n| 최저/최고기온 (℃) | 16℃ / 0℃ | 16℃ / 29℃ | 16℃ / 29℃ | 18℃ / 23℃ | 17℃ / 23℃ |',\n",
       "  'score': 0.81347597},\n",
       " {'title': '서울특별시, 서울시, 대한민국 3일 날씨 예보 - AccuWeather',\n",
       "  'url': 'https://www.accuweather.com/ko/kr/seoul/226081/weather-forecast/226081',\n",
       "  'content': '3%](https://www.accuweather.com/ko/kr/seoul/226081/weather-tomorrow/226081)[수 5\\\\. 14. ![Image 32](https://www.awxcdn.com/adc-assets/images/weathericons/5.svg) 80° 60° 흐릿함 ![Image 33](https://www.awxcdn.com/adc-assets/images/weathericons/15.svg)대체로 흐림; 밤 늦게 때때로 강한 뇌우가 내림 1%](https://www.accuweather.com/ko/kr/seoul/226081/daily-weather-forecast/226081?day=3)[목 5\\\\. 15. ![Image 34](https://www.awxcdn.com/adc-assets/images/weathericons/12.svg) 70° 59° 오전에 거센 소나기; 대체로 흐림 ![Image [...] 서울특별시, 서울시, 대한민국 3일 날씨 예보 | AccuWeather\\n===============\\n\\n[돌아가기](https://www.accuweather.com/pwa)\\n\\n[](https://www.accuweather.com/)[서울특별시, 서울시 ========== 65°F](https://www.accuweather.com/ko/kr/seoul/226081/weather-forecast/226081)\\n\\n현재 위치 사용\\n\\n최신\\n\\n[서울특별시 서울시 65°](https://www.accuweather.com/web-api/three-day-redirect?key=226081&target=)\\n\\n결과를 찾을 수 없습니다.\\n\\n도시나 우편번호, 관심 지역을 검색해 보세요.\\n\\n[](https://www.accuweather.com/ko/videos)\\n\\n[설정](https://www.accuweather.com/ko/settings)\\n\\n서울특별시, 서울시 날씨 [...] 38](https://www.awxcdn.com/adc-assets/images/weathericons/8.svg) 79° 61° 대체로 흐림 ![Image 39](https://www.awxcdn.com/adc-assets/images/weathericons/15.svg)흐리고 소나기나 뇌우가 내림 25%](https://www.accuweather.com/ko/kr/seoul/226081/daily-weather-forecast/226081?day=6)[일 5\\\\. 18. ![Image 40](https://www.awxcdn.com/adc-assets/images/weathericons/12.svg) 80° 68° 흐리고 때때로 비와 뇌우가 내림 ![Image 41](https://www.awxcdn.com/adc-assets/images/weathericons/38.svg)저녁 중 일부 지역에 뇌우; 대체로 흐림',\n",
       "  'score': 0.78631157}]"
      ]
     },
     "execution_count": 1,
     "metadata": {},
     "output_type": "execute_result"
    }
   ],
   "source": [
    "from langchain_community.tools.tavily_search import TavilySearchResults\n",
    "\n",
    "# Tavily 검색 엔진을 도구로 정의\n",
    "tool = TavilySearchResults(max_results=2)\n",
    "tools  = [tool]\n",
    "\n",
    "#호출 예시\n",
    "r = tool.invoke(\"내일 대한민국 서울의 날씨는?\")\n",
    "r"
   ]
  },
  {
   "cell_type": "markdown",
   "id": "4af2de78",
   "metadata": {},
   "source": [
    "- 정의한 도구를 llm.bind_tools(tools) 함수를 사용하여 LLM과 연결합니다.\n"
   ]
  },
  {
   "cell_type": "code",
   "execution_count": 2,
   "id": "389425ef",
   "metadata": {},
   "outputs": [
    {
     "data": {
      "text/plain": [
       "<langgraph.graph.state.StateGraph at 0x1ddddeac3d0>"
      ]
     },
     "execution_count": 2,
     "metadata": {},
     "output_type": "execute_result"
    }
   ],
   "source": [
    "from typing import Annotated\n",
    "\n",
    "from langchain_openai import ChatOpenAI\n",
    "from typing_extensions import TypedDict\n",
    "\n",
    "from langgraph.graph import StateGraph, START, END\n",
    "from langgraph.graph.message import add_messages\n",
    "\n",
    "#그래프 상태 정의\n",
    "class State(TypedDict):\n",
    "    messages: Annotated[list, add_messages]\n",
    "\n",
    "#그래프 정의\n",
    "graph_builder = StateGraph(State)\n",
    "\n",
    "llm = ChatOpenAI(model=\"gpt-4o-mini\")\n",
    "#오픈AI 클래이언트에 Tavily 검색 엔진 도구 할당\n",
    "llm_with_tools = llm.bind_tools(tools)\n",
    "\n",
    "# 챗봇 함수 정의\n",
    "def chatbot(state: State):\n",
    "    return {\"messages\": [llm_with_tools.invoke(state[\"messages\"])]}\n",
    "\n",
    "# 그래프에 챗봇 노드 추가\n",
    "graph_builder.add_node(\"chatbot\", chatbot)"
   ]
  },
  {
   "cell_type": "markdown",
   "id": "5e1b818c",
   "metadata": {},
   "source": [
    "- 이제 챗봇은 LLM의 응답에 따라 두 가지 상황에 대응해야 합니다.\n",
    "- LLM이 도구를 활용해야 한다고 판단하고 도구에 필요한 파라미터를 응답한 경우 도구를 호출해야 합니다.\n",
    "- LLM이 단순 답변을 응답한 경우 사용자에게 응답을 반환하고 종료해야 합니다.\n"
   ]
  },
  {
   "cell_type": "code",
   "execution_count": 3,
   "id": "50147117",
   "metadata": {},
   "outputs": [
    {
     "data": {
      "text/plain": [
       "<langgraph.graph.state.StateGraph at 0x1ddddeac3d0>"
      ]
     },
     "execution_count": 3,
     "metadata": {},
     "output_type": "execute_result"
    }
   ],
   "source": [
    "import json\n",
    "\n",
    "from langchain_core.messages import ToolMessage\n",
    "\n",
    "#도구 노드를 사용할 클래스\n",
    "class BasicToolNode:\n",
    "    #도구 노드에서 사용할 초기 파라미터 정의\n",
    "    def __init__(self, tools: list) -> None:\n",
    "        self.tools_by_name = {tool.name: tool for tool in tools}\n",
    "\n",
    "    #도구 노드가 호출될 때의 행동 정의\n",
    "    def __call__(self, inputs: dict):\n",
    "        #입력된 상태의 가장 마지막 메시지 획득\n",
    "        if messages := inputs.get(\"messages\", []):\n",
    "            message = messages[-1]\n",
    "        else:\n",
    "            raise ValueError(\"No message found in input\")\n",
    "\n",
    "        # 메시지의 tool_calls에 도구 정보가 존재한다면 이를 활용해 도구 호출\n",
    "        outputs = []\n",
    "        for tool_call in message.tool_calls:\n",
    "            tool_result = self.tools_by_name[tool_call[\"name\"]].invoke(tool_call[\"args\"])\n",
    "\n",
    "            #도구 호출 결과를 ToolMessage로 정의하여 출력값에 저장\n",
    "            outputs.append(\n",
    "                ToolMessage(\n",
    "                    content=json.dumps(tool_result, ensure_ascii=False),\n",
    "                    name=tool_call[\"name\"],\n",
    "                    tool_call_id=tool_call[\"id\"],\n",
    "                )\n",
    "            )\n",
    "        #출력값을 상태값 형식에 맞춰 반환\n",
    "        return {\"messages\": outputs}\n",
    "\n",
    "#도구 노드 정의\n",
    "tool_node = BasicToolNode(tools=[tool])\n",
    "#도구 노드 그래프에 추가\n",
    "graph_builder.add_node(\"tools\", tool_node)\n",
    "\n"
   ]
  },
  {
   "cell_type": "markdown",
   "id": "ce3a4677",
   "metadata": {},
   "source": [
    "- 도구 노드는 항상 실행되는 것이 아니라, LLM응답에 도구 호출 정보, 즉 tool_calls가 포함된 경우에만 활성화되어야 합니다.\n",
    "- hasattr(ai_message, \"tool_calls\")와 len(ai_messages.tool_calls) > 0 조건을 검사하여 LLM 응답에 tool_calls 응답이 있으면 도구 노드를 의마하는 tools를, 없다면 종료를 의미하는 ** end ** 를 반환합니다.\n"
   ]
  },
  {
   "cell_type": "code",
   "execution_count": 4,
   "id": "cae62cab",
   "metadata": {},
   "outputs": [
    {
     "data": {
      "text/plain": [
       "<langgraph.graph.state.StateGraph at 0x1ddddeac3d0>"
      ]
     },
     "execution_count": 4,
     "metadata": {},
     "output_type": "execute_result"
    }
   ],
   "source": [
    "from typing import Literal\n",
    "\n",
    "#도구 노드 호출 여부를 결정하는 함수 정의\n",
    "def route_tools(state: State) -> Literal[\"tools\", END]:\n",
    "    #상태값의 최근 메시지를 정의\n",
    "    if isinstance(state, list):\n",
    "        ai_message = state[-1]\n",
    "    elif message := state.get(\"messages\", []):\n",
    "        ai_message = message[-1]\n",
    "    else:\n",
    "        raise ValueError(\"No messages found in input state to tool_edge: {state}\")\n",
    "\n",
    "    # 가장 최근 메시지에 tool_calls 속성이 있다면 tools 노드를 아니라면 종료지점을 반환\n",
    "    if hasattr(ai_message, \"tool_calls\") and len(ai_message.tool_calls) > 0:\n",
    "        return \"tools\"\n",
    "    return END\n",
    "\n",
    "# 챗봇 노드 조건부 에지를 정의\n",
    "graph_builder.add_conditional_edges(\n",
    "    \"chatbot\",\n",
    "    route_tools,\n",
    "    {\"tools\": \"tools\",\n",
    "     END: END}\n",
    ")"
   ]
  },
  {
   "cell_type": "markdown",
   "id": "39c7ceeb",
   "metadata": {},
   "source": [
    "- 도구 노드가 실행된 이후에는 다시 챗봇 노드로 이동하여 검색 결과를 바탕으로 최종 응답을 생성합니다.\n"
   ]
  },
  {
   "cell_type": "code",
   "execution_count": 5,
   "id": "f7c509c1",
   "metadata": {},
   "outputs": [
    {
     "data": {
      "text/plain": [
       "<langgraph.graph.state.StateGraph at 0x1ddddeac3d0>"
      ]
     },
     "execution_count": 5,
     "metadata": {},
     "output_type": "execute_result"
    }
   ],
   "source": [
    "# 도구 노드와 챗봇 노드 연결\n",
    "graph_builder.add_edge(\"tools\", \"chatbot\")\n",
    "# 진입지점으로 챗봇 노드 지정\n",
    "graph_builder.add_edge(START, \"chatbot\")"
   ]
  },
  {
   "cell_type": "markdown",
   "id": "4138e050",
   "metadata": {},
   "source": [
    "- 챗봇 그래프를 확인해봅니다.\n"
   ]
  },
  {
   "cell_type": "code",
   "execution_count": 7,
   "id": "30d6a90c",
   "metadata": {},
   "outputs": [
    {
     "data": {
      "image/png": "[encoded data removed]",
      "text/plain": [
       "<IPython.core.display.Image object>"
      ]
     },
     "metadata": {},
     "output_type": "display_data"
    }
   ],
   "source": [
    "from IPython.display import Image, display\n",
    "#그래프 컴파일\n",
    "graph = graph_builder.compile()\n",
    "#그래프 이미지화\n",
    "display(Image(graph.get_graph().draw_mermaid_png()))"
   ]
  },
  {
   "cell_type": "markdown",
   "id": "b329e28b",
   "metadata": {},
   "source": [
    "## 2.3 스트리밍\n",
    "\n",
    "- 랭그래프에서 실시간으로 데이터를 지속적으로 전송하는 스트리밍 기능을 지원합니다.\n",
    "- 이 기능을 활용하면 대규모 작업이나 연산이 진행 중일 때도 중간 결과를 즉시 확인할 수 있으며, 전체 결과가 준비되기 전에도 사용자와 상호작용할 수 있습니다.\n",
    "- 스트리밍은 graph.stream() 함수를 호출 할때 stream_mode 파라미터 값을 다음과 같이 지정해 동작 방식을 선택할 수 있습니다.\n",
    "  - values: 각 노드가 실행된 후, 그래프의 전체 상태를 실시간으로 반환합니다. 전체 워크플로우의 상태 변화를 추적할 때 유용합니다.\n",
    "  - updates: 각 노드가 실행된 후, 상태값에 어떤 변경이 발생했는지만 반환합니다. 변경된 부분만 빠르게 확인할 수 있습니다.\n"
   ]
  },
  {
   "cell_type": "code",
   "execution_count": 11,
   "id": "094b8608",
   "metadata": {},
   "outputs": [
    {
     "name": "stdout",
     "output_type": "stream",
     "text": [
      "User:  24년 9월 9일 서울 날씨\n",
      "Assistant: \n",
      "Assistant: [{\"title\": \"[날씨] 2024년 9월 9일 날씨 / 아주TV X 케이웨더 - YouTube\", \"url\": \"https://www.youtube.com/watch?v=xO8yHWbubHc\", \"content\": \"[날씨] 2024년 9월 9일 날씨 / 아주TV X 케이웨더\\n아주ABC\\n64500 subscribers\\n6 likes\\n198 views\\n9 Sep 2024\\n안녕하세요 케이웨더 라이프 스타일 예보 신지수입니다.\\n\\n\\n현재 전국이 대체로 구름 많은 가운데 늦은 더위가 이어지고 있는데요.\\n\\n높은 기온에 대기가 불안정해지면서 오늘 저녁까지 일부 내륙은 5~30mm의 소나기가 지나는 곳이 있겠습니다.\\n\\n화요일인 내일도 전국이 구름 많겠고 제주도는 저녁부터 비가 내리겠습니다.\\n\\n서울의 낮 기온은 34도까지 오르면서 늦더위가 계속되겠고요.\\n\\n서울을 비롯한 곳곳으로 최저 기온이 열대야 기준인 25도 안팎을 보이면서 다시 밤사이 더위가 나타날 가능성이 있습니다.\\n\\n더위에 지치지 않도록 건강 관리에 유의하셔야겠습니다.\\n\\n다음은 자세한 지역별 날씨입니다. 중부지방 아침 기온 서울과 청주 25도로 출발해 낮에는 서울과 대전이 34도로 무덥겠습니다.\\n\\n동해안 지방은 강릉의 아침 기온 22도 보이겠고, 낮에는 강릉과 속초 30도 예상됩니다.\\n\\n남부지방의 아침 기온은 광주 24도, 대구 23도로 시작해 낮 기온 광주와 대구 34도까지 오르겠습니다.\\n\\n바다의 물결은 서해와 남해상에서 최고 3~3.5m로 높게 일겠습니다.\\n\\n목요일 중부지방을 중심으로 비가 내리면서 주 후반으로 갈수록 더위가 한풀 꺾이겠습니다.\\n\\n\\n날씨였습니다.\\n\\n\\n신지수 기상캐스터\\n\\n\\n#날씨  #아주경제 #아주tv #소나기 #늦더위 #서울날씨 #열대야 #제주날씨 #나절예보 #오늘날씨 #내일날씨 #주간날씨 #케이웨더 #라이프스타일 #예보\\n1 comments\\n\", \"score\": 0.935964}, {\"title\": \"오늘의 날씨 - 오전 (2024년 09월 09일) - 국민일보\", \"url\": \"https://www.kmib.co.kr/article/view.asp?arcid=0020505824\", \"content\": \"9월 9일 월요일, 아침 날씨입니다.아침 최저기온은 서울 24.0도, 인천 23.0도, 수원 24.0도, 춘천 22.0도, 강릉 22.0도, 청주 24.0도, 대전 24.0도,\", \"score\": 0.921591}]\n",
      "Assistant: 2024년 9월 9일 서울의 날씨는 대체로 구름 많고, 늦더위가 이어질 것으로 예상됩니다. 아침 최저 기온은 약 24도였으며, 낮에는 기온이 34도까지 오르겠습니다. 이 날 저녁까지 일부 지역에서 5~30mm의 소나기가 예상됩니다. 특히, 서울은 열대야 기준인 25도 안팎의 기온으로 인해 밤에도 더위가 계속될 가능성이 있습니다.\n",
      "\n",
      "자세한 내용을 보시려면 아래 링크를 확인하시기 바랍니다:\n",
      "- [아주TV 날씨 예보](https://www.youtube.com/watch?v=xO8yHWbubHc)\n",
      "- [국민일보 기상정보](https://www.kmib.co.kr/article/view.asp?arcid=0020505824)\n",
      "User:  q\n",
      "Exiting the chatbot. Goodbye!\n"
     ]
    }
   ],
   "source": [
    "from langchain_core.messages import BaseMessage\n",
    "\n",
    "while True:\n",
    "    #사용자 질문 입력받기\n",
    "    user_input = input(\"User: \")\n",
    "    print(\"User: \", user_input)\n",
    "    if user_input.lower() in [\"quit\", \"exit\", \"q\"]:\n",
    "        print(\"Exiting the chatbot. Goodbye!\")\n",
    "        break\n",
    "\n",
    "    #업데이트된 내용을 확인할 수 있는 그래프 스트리밍 정의\n",
    "    events = graph.stream({\"messages\": [(\"user\", user_input)]}, stream_mode=\"updates\")\n",
    "\n",
    "    #그래프 이벤트 내의 메시지를 출력\n",
    "    for event in events:\n",
    "        for value in event.values():\n",
    "            if isinstance(value[\"messages\"][-1], BaseMessage):\n",
    "                print(\"Assistant:\", value[\"messages\"][-1].content)\n"
   ]
  },
  {
   "cell_type": "markdown",
   "id": "910968c8",
   "metadata": {},
   "source": [
    "- 스트림 모드를 update로 지정했기 때문에 Assiatant 에 출력되는 결과는 매번 상태가 변경될 때마다 업데이트된 마지막 메시지를 실시간으로 보여줍니다.\n",
    "- 따라서 전체 대화 내역이 아니라, 최신 응답만을 확인할 수 있습니다.\n"
   ]
  }
 ],
 "metadata": {
  "kernelspec": {
   "display_name": ".venv",
   "language": "python",
   "name": "python3"
  },
  "language_info": {
   "codemirror_mode": {
    "name": "ipython",
    "version": 3
   },
   "file_extension": ".py",
   "mimetype": "text/x-python",
   "name": "python",
   "nbconvert_exporter": "python",
   "pygments_lexer": "ipython3",
   "version": "3.11.12"
  }
 },
 "nbformat": 4,
 "nbformat_minor": 5
}
