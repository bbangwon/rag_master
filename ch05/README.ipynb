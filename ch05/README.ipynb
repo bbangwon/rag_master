{
 "cells": [
  {
   "cell_type": "markdown",
   "id": "9994abfc",
   "metadata": {},
   "source": [
    "# 1. 그래프 RAG 개요\n",
    "- 그래프 RAG는 기존 RAG 시스템의 한계를 극복하기 위해 새롭게 개발된 모델로, 지식 그래프를 활용하여 정보 간의 관계를 더 깊이 이해하고 처리하는 방식입니다.\n",
    "- 복잡한 데이터 간의 연결성을 파악하여 다층적인 질의응답이 가능하도록 합니다."
   ]
  },
  {
   "cell_type": "markdown",
   "id": "a536b52c",
   "metadata": {},
   "source": [
    "## 1.1 기존 RAG 방식의 한계\n",
    "### 1. 정보 연결의 어려움\n",
    "- 기존 RAG는 질문에 답하기 위해 개별 문서에서 정보를 검색할 수 있지만, 데이터 간의 관계를 부넉하여 새로운 통찰을 제공하는데 한계가 있습니다.\n",
    "- 정보 조각을 연결하여 전체적인 의미를 도출하는 능력이 부족합니다.\n",
    "- 예) 이 문서의 주요 주제는 무엇인가요?\n",
    "- 기존 RAG시스템에서는 나누어진 개별 문서에서 특정 소주제나 키워드를 검색할 수 있습니다.\n",
    "- 검색된 정보들은 각각 개별적으로 제공될 뿐, 데이터셋 전체에서 이러한 정보들이 어떻게 연결되고 전반적인 패턴이 무엇인지에 대해서는 알지 못합니다.\n",
    "### 2. 대규모 데이터 이해의 한계\n",
    "- 기존 RAG 시스템은 데이터의 규모가 클수록 개념들을 전체적으로 파악하는 데 어려움을 겪습니다. 다음 질문이 주어졌다고 생각해 봅시다.\n",
    "- 예) \"지난 10년간의 연간 보고서를 바탕으로 회사의 지속가능성 전략 변화를 설명해주세요.\"\n",
    "- 기존 RAG는 연간 보고서에서 개별 문서들을 얻을수 있지만, 독립적으로 이루어져 있으며, 각 문서 안의 내용들이 다른 문서들과 어떻게 연결되는지 알 수 없습니다.\n",
    "\n",
    "### Graph RAG\n",
    "- 그래프 RAG는 전체 텍스트 코퍼스에 대한 질문에 답하기 위해 지식 그래프와 RAG를 결합한 접근 방식입니다.\n",
    "- 그래프 RAG는 지식 그래프를 활용해 개별 정보 조각들 간의 관계를 모델링함으로써, 데이터셋 전체에서 연결성과 패턴을 파악할 수 있습니다.\n",
    "- 대규모 데이터셋의 구조적 관계를 분석함으로써, 시간 경과에 따른 변화나 전체적인 개념을 더 효과적으로 이해할 수 있습니다.\n"
   ]
  },
  {
   "cell_type": "markdown",
   "id": "23b1318e",
   "metadata": {},
   "source": [
    "## 1.2 지식 그래프란?\n",
    "- 그래프는 개체(노드)와 그들 사이의 관계(엣지)로 구성되어 있습니다.\n",
    "- 단순한 연결 구조뿐만 아니라, 방향성과 가중치도 표현할 수 있습니다.\n",
    "- 지식 그래프는 정보와 지식을 보다 구조화하여 표현하는 특별한 형태의 그래프로 확장되었습니다.\n",
    "- 일반 그래프는 노드와 엣지만을 사용하여 연결 구조를 나타내긴 하지만, 의미나 속성 보다는 연결되어 있다는 사실만 표현하는 경우가 많습니다.\n",
    "- 지식 그래프는 개체와 관계에 의미론적 정보를 부여하여 각 요소가 무엇을 의미하는지 명확하게 정의합니다.\n",
    "    - 예) \"아이폰\", \"애플\" - 연결을 \"개발\"이라는 명확한 관계로 정의함\n",
    "- 지식 그래프는 관계에 풍부한 속성을 부여할 수 있다는 점에서 일반 그래프와 차별화됩니다.\n",
    "    - 예) 아이폰 - 출시일: 2007년, 운영체제: iOS, 디스플레이 크기:3.5인치\n",
    "    - 예) '개발' - 개발시기: 2007년 이후, 개발 조건: iOS기반"
   ]
  },
  {
   "cell_type": "markdown",
   "id": "fa2bc9f4",
   "metadata": {},
   "source": [
    "#### 지식그래프 특징\n",
    "- 단순한 관계 연결을 넘어 복잡한 정보 구조를 표헌할 수 있다는 점입니다. 또한 속성을 통해 관계를 더 풍부하게 표현할 수 있습니다.\n",
    "- 직접적으로 연결되지 않은 정보 사이의 관계를 유추할 수 있습니다.\n",
    "    - 예) 스티브 잡스가 애플을 공동 창업했다. 스티브 잡스가 픽사의 CEO였다\n",
    "    - 스티브 잡스라는 노드를 중심으로 애플과 픽사가 연결되어 있음을 한눈에 파악할 수 있습니다.\n",
    "    - 애플과 픽사 사이의 간접적인 연관성을 쉽게 추론할 수 있으며, 두 회사의 혁신적인 기업 문화나 창의적인 제품 개발 철학과 같은 공통점을 예측해볼 수도 있습니다.\n",
    "- 효율적인 정보 검색입니다.\n",
    "    - 예) 애플 노드에서 시작하여 이웃 노드인 맥북, 스티브 잡스, 팀 쿡등의 정보를 쉽게 검색할 수 있습니다."
   ]
  },
  {
   "cell_type": "code",
   "execution_count": 17,
   "id": "67b29a33",
   "metadata": {},
   "outputs": [
    {
     "data": {
      "text/html": [
       "<svg id=\"mermaid-svg\" width=\"100%\" xmlns=\"http://www.w3.org/2000/svg\" class=\"flowchart\" style=\"max-width: 424.125px;\" viewBox=\"0 0 424.125 208\" role=\"graphics-document document\" aria-roledescription=\"flowchart-v2\" xmlns:xlink=\"http://www.w3.org/1999/xlink\"><style xmlns=\"http://www.w3.org/1999/xhtml\">@import url(\"https://cdnjs.cloudflare.com/ajax/libs/font-awesome/6.7.2/css/all.min.css\");</style><style>#mermaid-svg{font-family:\"trebuchet ms\",verdana,arial,sans-serif;font-size:16px;fill:#ccc;}@keyframes edge-animation-frame{from{stroke-dashoffset:0;}}@keyframes dash{to{stroke-dashoffset:0;}}#mermaid-svg .edge-animation-slow{stroke-dasharray:9,5!important;stroke-dashoffset:900;animation:dash 50s linear infinite;stroke-linecap:round;}#mermaid-svg .edge-animation-fast{stroke-dasharray:9,5!important;stroke-dashoffset:900;animation:dash 20s linear infinite;stroke-linecap:round;}#mermaid-svg .error-icon{fill:#a44141;}#mermaid-svg .error-text{fill:#ddd;stroke:#ddd;}#mermaid-svg .edge-thickness-normal{stroke-width:1px;}#mermaid-svg .edge-thickness-thick{stroke-width:3.5px;}#mermaid-svg .edge-pattern-solid{stroke-dasharray:0;}#mermaid-svg .edge-thickness-invisible{stroke-width:0;fill:none;}#mermaid-svg .edge-pattern-dashed{stroke-dasharray:3;}#mermaid-svg .edge-pattern-dotted{stroke-dasharray:2;}#mermaid-svg .marker{fill:lightgrey;stroke:lightgrey;}#mermaid-svg .marker.cross{stroke:lightgrey;}#mermaid-svg svg{font-family:\"trebuchet ms\",verdana,arial,sans-serif;font-size:16px;}#mermaid-svg p{margin:0;}#mermaid-svg .label{font-family:\"trebuchet ms\",verdana,arial,sans-serif;color:#ccc;}#mermaid-svg .cluster-label text{fill:#F9FFFE;}#mermaid-svg .cluster-label span{color:#F9FFFE;}#mermaid-svg .cluster-label span p{background-color:transparent;}#mermaid-svg .label text,#mermaid-svg span{fill:#ccc;color:#ccc;}#mermaid-svg .node rect,#mermaid-svg .node circle,#mermaid-svg .node ellipse,#mermaid-svg .node polygon,#mermaid-svg .node path{fill:#1f2020;stroke:#ccc;stroke-width:1px;}#mermaid-svg .rough-node .label text,#mermaid-svg .node .label text,#mermaid-svg .image-shape .label,#mermaid-svg .icon-shape .label{text-anchor:middle;}#mermaid-svg .node .katex path{fill:#000;stroke:#000;stroke-width:1px;}#mermaid-svg .rough-node .label,#mermaid-svg .node .label,#mermaid-svg .image-shape .label,#mermaid-svg .icon-shape .label{text-align:center;}#mermaid-svg .node.clickable{cursor:pointer;}#mermaid-svg .root .anchor path{fill:lightgrey!important;stroke-width:0;stroke:lightgrey;}#mermaid-svg .arrowheadPath{fill:lightgrey;}#mermaid-svg .edgePath .path{stroke:lightgrey;stroke-width:2.0px;}#mermaid-svg .flowchart-link{stroke:lightgrey;fill:none;}#mermaid-svg .edgeLabel{background-color:hsl(0, 0%, 34.4117647059%);text-align:center;}#mermaid-svg .edgeLabel p{background-color:hsl(0, 0%, 34.4117647059%);}#mermaid-svg .edgeLabel rect{opacity:0.5;background-color:hsl(0, 0%, 34.4117647059%);fill:hsl(0, 0%, 34.4117647059%);}#mermaid-svg .labelBkg{background-color:rgba(87.75, 87.75, 87.75, 0.5);}#mermaid-svg .cluster rect{fill:hsl(180, 1.5873015873%, 28.3529411765%);stroke:rgba(255, 255, 255, 0.25);stroke-width:1px;}#mermaid-svg .cluster text{fill:#F9FFFE;}#mermaid-svg .cluster span{color:#F9FFFE;}#mermaid-svg div.mermaidTooltip{position:absolute;text-align:center;max-width:200px;padding:2px;font-family:\"trebuchet ms\",verdana,arial,sans-serif;font-size:12px;background:hsl(20, 1.5873015873%, 12.3529411765%);border:1px solid rgba(255, 255, 255, 0.25);border-radius:2px;pointer-events:none;z-index:100;}#mermaid-svg .flowchartTitleText{text-anchor:middle;font-size:18px;fill:#ccc;}#mermaid-svg rect.text{fill:none;stroke-width:0;}#mermaid-svg .icon-shape,#mermaid-svg .image-shape{background-color:hsl(0, 0%, 34.4117647059%);text-align:center;}#mermaid-svg .icon-shape p,#mermaid-svg .image-shape p{background-color:hsl(0, 0%, 34.4117647059%);padding:2px;}#mermaid-svg .icon-shape rect,#mermaid-svg .image-shape rect{opacity:0.5;background-color:hsl(0, 0%, 34.4117647059%);fill:hsl(0, 0%, 34.4117647059%);}#mermaid-svg :root{--mermaid-font-family:\"trebuchet ms\",verdana,arial,sans-serif;}</style><g><marker id=\"mermaid-svg_flowchart-v2-pointEnd\" class=\"marker flowchart-v2\" viewBox=\"0 0 10 10\" refX=\"5\" refY=\"5\" markerUnits=\"userSpaceOnUse\" markerWidth=\"8\" markerHeight=\"8\" orient=\"auto\"><path d=\"M 0 0 L 10 5 L 0 10 z\" class=\"arrowMarkerPath\" style=\"stroke-width: 1; stroke-dasharray: 1, 0;\"/></marker><marker id=\"mermaid-svg_flowchart-v2-pointStart\" class=\"marker flowchart-v2\" viewBox=\"0 0 10 10\" refX=\"4.5\" refY=\"5\" markerUnits=\"userSpaceOnUse\" markerWidth=\"8\" markerHeight=\"8\" orient=\"auto\"><path d=\"M 0 5 L 10 10 L 10 0 z\" class=\"arrowMarkerPath\" style=\"stroke-width: 1; stroke-dasharray: 1, 0;\"/></marker><marker id=\"mermaid-svg_flowchart-v2-circleEnd\" class=\"marker flowchart-v2\" viewBox=\"0 0 10 10\" refX=\"11\" refY=\"5\" markerUnits=\"userSpaceOnUse\" markerWidth=\"11\" markerHeight=\"11\" orient=\"auto\"><circle cx=\"5\" cy=\"5\" r=\"5\" class=\"arrowMarkerPath\" style=\"stroke-width: 1; stroke-dasharray: 1, 0;\"/></marker><marker id=\"mermaid-svg_flowchart-v2-circleStart\" class=\"marker flowchart-v2\" viewBox=\"0 0 10 10\" refX=\"-1\" refY=\"5\" markerUnits=\"userSpaceOnUse\" markerWidth=\"11\" markerHeight=\"11\" orient=\"auto\"><circle cx=\"5\" cy=\"5\" r=\"5\" class=\"arrowMarkerPath\" style=\"stroke-width: 1; stroke-dasharray: 1, 0;\"/></marker><marker id=\"mermaid-svg_flowchart-v2-crossEnd\" class=\"marker cross flowchart-v2\" viewBox=\"0 0 11 11\" refX=\"12\" refY=\"5.2\" markerUnits=\"userSpaceOnUse\" markerWidth=\"11\" markerHeight=\"11\" orient=\"auto\"><path d=\"M 1,1 l 9,9 M 10,1 l -9,9\" class=\"arrowMarkerPath\" style=\"stroke-width: 2; stroke-dasharray: 1, 0;\"/></marker><marker id=\"mermaid-svg_flowchart-v2-crossStart\" class=\"marker cross flowchart-v2\" viewBox=\"0 0 11 11\" refX=\"-1\" refY=\"5.2\" markerUnits=\"userSpaceOnUse\" markerWidth=\"11\" markerHeight=\"11\" orient=\"auto\"><path d=\"M 1,1 l 9,9 M 10,1 l -9,9\" class=\"arrowMarkerPath\" style=\"stroke-width: 2; stroke-dasharray: 1, 0;\"/></marker><g class=\"root\"><g class=\"clusters\"/><g class=\"edgePaths\"><path d=\"M55,92L62.056,92C69.112,92,83.224,92,97.336,92C111.448,92,125.56,92,132.616,92L139.672,92\" id=\"L_A_B_0\" class=\" edge-thickness-normal edge-pattern-solid edge-thickness-normal edge-pattern-solid flowchart-link\" style=\"\"/><path d=\"M182.724,78.962L194.586,71.052C206.448,63.141,230.173,47.321,257.24,39.41C284.307,31.5,314.716,31.5,329.921,31.5L345.125,31.5\" id=\"L_B_C_0\" class=\" edge-thickness-normal edge-pattern-solid edge-thickness-normal edge-pattern-solid flowchart-link\" style=\"\"/><path d=\"M182.724,105.038L194.586,112.948C206.448,120.859,230.173,136.679,253.24,144.59C276.307,152.5,298.716,152.5,309.921,152.5L321.125,152.5\" id=\"L_B_D_0\" class=\" edge-thickness-normal edge-pattern-solid edge-thickness-normal edge-pattern-solid flowchart-link\" style=\"\"/></g><g class=\"edgeLabels\"><g class=\"edgeLabel\" transform=\"translate(97.3359375, 92)\"><g class=\"label\" transform=\"translate(-17.3359375, -12)\"><foreignObject width=\"34.671875\" height=\"24\"><div xmlns=\"http://www.w3.org/1999/xhtml\" class=\"labelBkg\" style=\"display: table-cell; white-space: nowrap; line-height: 1.5; max-width: 200px; text-align: center;\"><span class=\"edgeLabel \"><p>CEO</p></span></div></foreignObject></g></g><g class=\"edgeLabel\" transform=\"translate(253.8984375, 31.5)\"><g class=\"label\" transform=\"translate(-16, -12)\"><foreignObject width=\"32\" height=\"24\"><div xmlns=\"http://www.w3.org/1999/xhtml\" class=\"labelBkg\" style=\"display: table-cell; white-space: nowrap; line-height: 1.5; max-width: 200px; text-align: center;\"><span class=\"edgeLabel \"><p>개발</p></span></div></foreignObject></g></g><g class=\"edgeLabel\" transform=\"translate(253.8984375, 152.5)\"><g class=\"label\" transform=\"translate(-42.2265625, -12)\"><foreignObject width=\"84.453125\" height=\"24\"><div xmlns=\"http://www.w3.org/1999/xhtml\" class=\"labelBkg\" style=\"display: table-cell; white-space: nowrap; line-height: 1.5; max-width: 200px; text-align: center;\"><span class=\"edgeLabel \"><p>공동 창업자</p></span></div></foreignObject></g></g></g><g class=\"nodes\"><g class=\"node default  \" id=\"flowchart-A-0\" transform=\"translate(31.5, 92)\"><circle class=\"basic label-container\" style=\"\" r=\"23.5\" cx=\"0\" cy=\"0\"/><g class=\"label\" style=\"\" transform=\"translate(-16, -12)\"><rect/><foreignObject width=\"32\" height=\"24\"><div xmlns=\"http://www.w3.org/1999/xhtml\" style=\"display: table-cell; white-space: nowrap; line-height: 1.5; max-width: 200px; text-align: center;\"><span class=\"nodeLabel \"><p>팀쿡</p></span></div></foreignObject></g></g><g class=\"node default  \" id=\"flowchart-B-1\" transform=\"translate(163.171875, 92)\"><circle class=\"basic label-container\" style=\"\" r=\"23.5\" cx=\"0\" cy=\"0\"/><g class=\"label\" style=\"\" transform=\"translate(-16, -12)\"><rect/><foreignObject width=\"32\" height=\"24\"><div xmlns=\"http://www.w3.org/1999/xhtml\" style=\"display: table-cell; white-space: nowrap; line-height: 1.5; max-width: 200px; text-align: center;\"><span class=\"nodeLabel \"><p>애플</p></span></div></foreignObject></g></g><g class=\"node default  \" id=\"flowchart-C-2\" transform=\"translate(368.625, 31.5)\"><circle class=\"basic label-container\" style=\"\" r=\"23.5\" cx=\"0\" cy=\"0\"/><g class=\"label\" style=\"\" transform=\"translate(-16, -12)\"><rect/><foreignObject width=\"32\" height=\"24\"><div xmlns=\"http://www.w3.org/1999/xhtml\" style=\"display: table-cell; white-space: nowrap; line-height: 1.5; max-width: 200px; text-align: center;\"><span class=\"nodeLabel \"><p>맥북</p></span></div></foreignObject></g></g><g class=\"node default  \" id=\"flowchart-D-3\" transform=\"translate(368.625, 152.5)\"><circle class=\"basic label-container\" style=\"\" r=\"47.5\" cx=\"0\" cy=\"0\"/><g class=\"label\" style=\"\" transform=\"translate(-40, -12)\"><rect/><foreignObject width=\"80\" height=\"24\"><div xmlns=\"http://www.w3.org/1999/xhtml\" style=\"display: table-cell; white-space: nowrap; line-height: 1.5; max-width: 200px; text-align: center;\"><span class=\"nodeLabel \"><p>스티브잡스</p></span></div></foreignObject></g></g></g></g></g></svg>"
      ],
      "text/plain": [
       "<mermaid.__main__.Mermaid at 0x22c20cf0d10>"
      ]
     },
     "execution_count": 17,
     "metadata": {},
     "output_type": "execute_result"
    }
   ],
   "source": [
    "import mermaid as md\n",
    "from mermaid.graph import Graph\n",
    "render = md.Mermaid(\"\"\"\n",
    "%%{init: {'theme':'dark'}}%%\n",
    "flowchart LR\n",
    "    A((팀쿡))\n",
    "    B((애플))\n",
    "    C((맥북))\n",
    "    D((스티브잡스))\n",
    "    A ---|CEO|B ---|개발| C\n",
    "    B ---|공동 창업자| D\n",
    "\"\"\")\n",
    "render"
   ]
  },
  {
   "cell_type": "markdown",
   "id": "90315976",
   "metadata": {},
   "source": [
    "- 지식 그래프의 장점을 적극적으로 활용하여, 단순한 키워드 매칭을 넘어 정보간의 복잡한 관계를 고려한 고급 추론 답변 생성을 수행합니다."
   ]
  },
  {
   "cell_type": "markdown",
   "id": "b6598abc",
   "metadata": {},
   "source": [
    "## 1.3 그래프 RAG의 동작과정\n",
    "- 그래프 RAG 시스템은 먼저 그래프DB를 구축한 후, 사용자 질의에 따라 적절한 검색 방식을 적용하여 답변을 생성하는 방식으로 작동합니다.\n",
    "- 그래프 DB 구축 단계에서는 문서 내용을 분석하여 지식 그래프를 생성합니다.\n",
    "- 이 과정에서 문서에서 추출한 주요 개념과 그들 사이의 관계를 구조화하여 그래프 형태로 저장합니다.\n",
    "- 이후 구축된 그래프 내에서 서로 밀접하게 연관된 개체들의 그룹을 찾아내고, 핵심 내용을 요약하여 정보검색을 효율적으로 수행할 수 있도록 합니다.\n",
    "- 사용자가 질문을 하면 질문의 성격에 따라 2가지 검색방식을 사용합니다.\n",
    "    - 로컬 검색: 질문과 직접적으로 관련된 개체들을 식별하고, 이들과 연관된 정보를 수집하여 상세한 답변을 제공합니다. 특정 주제나 세부 정보를 묻는 질문에 효과적입니다.\n",
    "    - 글로벌 검색: 문서 전체를 아우르는 포괄적인 질문에 대해, 여러 커뮤니티 요약을 활용하여 종합적인 답변을 제공합니다.\n",
    "- 그래프RAG는 방대한 문서 컬렉션에서도 관련성 높은 정보를 빠르게 찾아내고, 이를 바탕으로 포괄적이고 정확한 답변을 생성할 수 있습니다."
   ]
  },
  {
   "cell_type": "markdown",
   "id": "7debd3d2",
   "metadata": {},
   "source": [
    "# 2 그래프 DB 구축\n",
    "## 2.1 그래프 DB 구축 과정\n",
    "- 문서분할 > 지식 그래프 구축 > 그래프 증강 > 커뮤니티 요약\n",
    "- 문서분할 과정에서는 대용량의 문서를 효율적으로 처리하기 위해 문서를 적절한 크기로 나눕니다.\n",
    "- 지식 그래프 구축 단계에서는 앞서 분할한 문서에서 핵심 개체와 그들 간의 관계를 추출하여 기본적인 그래프 구조를 만듭니다.\n",
    "- 그래프 증강 단계에서는 그래프 임베딩을 생성하여 기존에 생성된 그래프를 더욱 풍부하게 만들고, 서로 밀접하게 연관된 엔티티들을 그룹화한 '커뮤니티'를 구축하여 실제 활용이 가능한 수준으로 발전시킵니다.\n",
    "- 커뮤니티 요약 과정에서는 구축된 커뮤니티의 핵심 정보를 요약합니다."
   ]
  },
  {
   "cell_type": "markdown",
   "id": "f4d91de5",
   "metadata": {},
   "source": [
    "### 1. 문서 분할\n",
    "- 사용할 문서를 적절한 크기로 분할합니다.\n",
    "- 분할할 문서의 길이 설정이 중요합니다.\n",
    "- 문서의 길이가 길수록 비용은 줄어드나, 지식 그래프 품질이 낮아질 수 있습니다.\n",
    "- 연구에 따르면 문서를 600토큰 수준으로 분할했을 때, 2400토큰 수준으로 분할한 경우보다 감지되는 엔티티의 수가 거의 두배 가까이 증가한 것으로 나타났습니다.\n",
    "- 가용 가능한 자원과 원하는 수준의 품질을 고려하여 적절히 선택하는 것이 중요합니다."
   ]
  },
  {
   "cell_type": "markdown",
   "id": "337502e4",
   "metadata": {},
   "source": [
    "### 2. 지식 그래프 구축\n",
    "- 지식 그래프는 소스 문서에서 엔티티와 그들 사이의 관계를 추출하여 만들수 있습니다.\n",
    "- 최근에는 LLM을 활용하여 그래프를 구축하는 방법을 많이 사용합니다.\n",
    "- 이전에는 규칙 기반 접근법과 기계학습 모델 등이 있습니다.\n",
    "- 규칙기반접근법\n",
    "    - 미리 정의된 언어 규칙이나 패턴을 사용하여 엔티티와 관계를 기계적으로 추출하는 방식입니다.\n",
    "    - 예) 패턴: \"회사명 + '은/는' + 제품명 '을/를 출시했다'\n",
    "    - 같은 패턴 (삼성전자는 갤럭시 S23을 출시했다)의 문장이 있다면 같은 방법으로 엔티티가 추출된다.\n",
    "    - 패턴이 정확히 일치하는 경우에만 작동하기 때문에 확장성과 유연성이 부족하다.\n",
    "-기계학습 모델\n",
    "    - 머신러닝 알고리즘을 활용하여 엔티티 및 관계 추출 모델을 만듭니다.\n",
    "    - 알고리즘으로는 대표적으로 SVM(서포트 벡터 머신), CRF(조건부 랜덤 필드)가 있습니다.\n",
    "    - 규칙기반접근법과 비교할때 실제 단어의 특징이나 문맥 정보에 기반하여 추출하기 때문에 좀 더 높은 정확도를 보인다는 장점이 있습니다.\n",
    "    - 최근에는 기술발전에 따라 딥러닝 모델과 대규모 언어 모델을 많이 사용하고 있습니다.\n",
    "- 딥러닝 모델\n",
    "    - RNN, 트랜스포머와 같은 신경망 구조를 사용하여 엔티티와 관계를 추출합니다.\n",
    "    - BERT와 같은 Transformer 기반 모델은 1억 개 이상의 파라미터를 사용합니다.\n",
    "    - 대규모 파라미터를 통해 더 깊은 문맥 이해와 복잡한 언어 패턴 감지가 가능합니다.\n",
    "    - 성능이 좋은만큼 학습하는 데 대규모 데이터셋이 필요하고, 모델 구동에 많은 자원이 필요하다는 단점이 있습니다.\n",
    "- 대규모 언어 모델 활용\n",
    "    - 최근에는 LLM을 활용하여 지식 기반 그래프를 구축하는 방식이 널리 사용되고 있습니다.\n",
    "    - 디코더 기반의 트랜스포머 아키텍쳐를 사용하는 LLM은 방대한 데이터로 사전 학습되어 뛰어난 문맥 이해력과 복잡한 문장 처리 능력을 제공합니다.\n",
    "    - 비용이 발생하고, 처리속도가 상대적으로 느리다는 단점, 출력결과 일관성이 완벽하지 않아 후처리가 필요할수도 있습니다.\n",
    "    - 예) \n",
    "        - 입력 \"테슬라는 일론 머스크가 설립한 회사로, 전기차와 태양광 패널을 생산합니다.\"\n",
    "        - 입력 프롬프트 \"다음 글에서 엔티티의 이름, 타입, 설명을 추출하고, 엔티티들 간의 관계를 설명과 함께 1-10 사이의 강도로 표시하세요\""
   ]
  },
  {
   "cell_type": "markdown",
   "id": "393ba398",
   "metadata": {},
   "source": [
    "| 이름     | 타입       | 설명                           |\n",
    "| ------ | -------- | ---------------------------- |\n",
    "| 테슬라    | 회사       | 일론 머스크가 설립한 전기차·태양광 패널 생산 기업 |\n",
    "| 일론 머스크 | 개인       | 테슬라를 설립한 기업가                 |\n",
    "| 전기차    | 제품(카테고리) | 테슬라가 제조·판매하는 전기 구동 자동차       |\n",
    "| 태양광 패널 | 제품(카테고리) | 테슬라가 제조·판매하는 태양광 발전용 패널      |"
   ]
  },
  {
   "cell_type": "markdown",
   "id": "4b2e24bd",
   "metadata": {},
   "source": [
    "\n",
    "| 관계 대상 A | 관계 대상 B | 관계 유형 | 강도 (1–10) | 설명                                            |\n",
    "| ------- | ------- | ----- | --------- | --------------------------------------------- |\n",
    "| 테슬라     | 일론 머스크  | 설립자   | 10        | ‘테슬라’를 창립한 핵심 인물이기 때문에 매우 강한 관계입니다.           |\n",
    "| 테슬라     | 전기차     | 생산    | 9         | 테슬라의 대표 사업으로, 회사 아이덴티티를 구성하는 핵심 제품입니다.        |\n",
    "| 테슬라     | 태양광 패널  | 생산    | 8         | 신재생 에너지 사업의 주요 축으로서 중요하지만 전기차보다는 비중이 다소 낮습니다. |"
   ]
  },
  {
   "cell_type": "markdown",
   "id": "7b49094d",
   "metadata": {},
   "source": [
    "#### Gleaning을 통한 지식 그래프 품질 향상\n",
    "- 이삭줍기는 LLM의 출력을 반복적으로 검증하고 보완하여, 정보 추출의 품질을 높이는 기법입니다.\n",
    "- 초기 정보 추출이 이후 누락되거나 불완전한 정보를 보완하는 과정을 의미합니다.\n",
    "- MS의 연구에 따르면, 반복 횟수에 비례하여 개선되는 것으로 나타났습니다.\n",
    "- 청크 크기가 600일때 가장 효과적이었으며, 1200, 2400을 사용하더라도 Gelaning을 통해 성능 저하를 상당 부분 보완할수 있음이 확인되었습니다.\n",
    "1. 초기 추출 단계에서 얻은 엔티티와 관계 정보를 LLM에 다시 입력하여, 누락된 정보가 있는지 검토합니다.\n",
    "2. 누락된 정보가 식별되면 LLM에 추가 질의를 수행하여 보완 정보를 수집합니다.\n",
    "3. 이 과정을 일정 기준이 도돨할 때까지 여러 차례 반복수행하여 점진적으로 정보의 완전성을 높입니다."
   ]
  },
  {
   "cell_type": "markdown",
   "id": "365a5c04",
   "metadata": {},
   "source": [
    "- 그래프RAG에서 지식 그래프를 생성하는 구체적인 과정을 살펴보겠습니다."
   ]
  },
  {
   "cell_type": "markdown",
   "id": "b5988898",
   "metadata": {},
   "source": [
    "#### 1. 엔티티와 관계 추출\n",
    "- 분할된 각 문서에서 엔티티와 관계를 추출합니다.\n",
    "- 엔티티는 이름, 타입, 설명을 함께 추출하고, 각 관계는 출발점, 도착점, 설명, 강도를 포함하여 추출합니다."
   ]
  },
  {
   "cell_type": "markdown",
   "id": "67fe6937",
   "metadata": {},
   "source": [
    "#### 2. 그래프 통합\n",
    "- 추출된 엔티티와 관계들을 통합하여 중복을 제거합니다.\n",
    "- 동일한 이름과 타입을 가진 엔티티들은 하나로 통합되며, 설명은 배열 형태로 저장됩니다.\n",
    "- 동일한 출발점과 도착점을 가진 관계들도 통합되어 여러 설명이 배열로 저장됩니다.\n",
    "- 예)\n",
    "    - 이름 \"ELON MUSK\", 타입 \"PERSON\", 설명: \"트위터를 인수한 기업인\"\n",
    "    - 이름 \"ELON MUSK\", 타입 \"PERSON\", 설명: \"스페이스X를 설립한 기업인\"\n",
    "    - 결과: 이름 \"ELON MUSK\", 타입 \"PERSON\", 설명: [\"트위터를 인수한 기업인\", \"스페이스X를 설립한 기업인\"]"
   ]
  },
  {
   "cell_type": "markdown",
   "id": "5eb9ff99",
   "metadata": {},
   "source": [
    "#### 3. 설명 요약\n",
    "- LLM을 활용하여 통합된 설명들을 하나의 간결한 설명으로 요약합니다.\n",
    "- 예)\n",
    "    - 이름 \"ELON MUSK\", 타입 \"PERSON\", 설명: \"스페이스X를 설립하고 트위터를 인수한 기업인\""
   ]
  },
  {
   "cell_type": "markdown",
   "id": "73a82d78",
   "metadata": {},
   "source": [
    "#### 4. 주장 추출(선택사항)\n",
    "- 선택적으로 주장(claim)을 추출할 수 있습니다.\n",
    "- 사실적 진술을 추출하고, 상태와 시간정보를 포함하여 구조화된 주장으로 변환합니다.\n",
    "- 예) \n",
    "    - \"2022냔 10월 27일, 일론 머스크가 440억 달러를 들여 트위터를 인수했습니다. 이후 그는 2023년 7월에 트위터의 브랜드를 X로 변경했다고 발표했습니다.\"\n",
    "    ```\n",
    "    유형(type): ACQUISITION\n",
    "    설명(description): 일론 머스크가 트위터를 440억 달러에 인수함\n",
    "    주체식별자(subject_id): ELON MUSK\n",
    "    객체식별자(object_id): TWITTER\n",
    "    상태(status): TRUE\n",
    "    시작일자(start_date): 2022-10-27T00:00:00\n",
    "    종료일자(end_date): 2022-10-27T00:00:00\n",
    "    출처(source): 일론 머스크가 440억 달러를 들여 트위터를 인수했습니다.\n",
    "    ```\n",
    "    ```\n",
    "    유형(type): BUSINESS RESTRUCTURING\n",
    "    설명(description): 일론 머스크가 트위터의 브랜드명을 X로 변경함\n",
    "    주체식별자(subject_id): ELON MUSK\n",
    "    객체식별자(object_id): TWITTER\n",
    "    상태(status): TRUE\n",
    "    시작일자(start_date): 2023-07-01T00:00:00\n",
    "    종료일자(end_date): 2022-07-31T00:00:00\n",
    "    출처(source): 2023년 7월에 트위터의 브랜드를 X로 변경했다고 발표했습니다.\n",
    "    ```\n",
    "\n",
    "- 이렇게 추출된 주장들은 공변량(covariate) 형태로 저장되어, 시간적 맥락이나 상태 변화를 반영한 고도화된 질의응답에 활용됩니다."
   ]
  },
  {
   "cell_type": "markdown",
   "id": "8f1c1ae2",
   "metadata": {},
   "source": [
    "### 3. 그래프 증강\n",
    "- 지식 그래프를 생성했다면, 그래프 구조를 더욱 풍부하게 만들고 의미있게 활용하기 위한 증강 과정이 필요합니다.\n",
    "- 크게 커뮤니티 탐지와 그래프 임베딩 두가지 방향으로 진행됩니다."
   ]
  },
  {
   "cell_type": "markdown",
   "id": "9e60e315",
   "metadata": {},
   "source": [
    "#### 1. 커뮤니티 탐지\n",
    "- 커뮤니티란 지식 그래프 내에서 서로 밀접하게 연관된 엔티티들의 그룹을 의미합니다.\n",
    "- 엔티티를 그룹화하여 커뮤니티로 분류하면 정보 검색과 처리가 훨씬 효율적입니다.\n",
    "- 유사한 주제나 특성을 가진 엔티티를 한데 묶어 이후의 검색과정에서 관련성 높은 정보를 빠르게 찾아낼 수 있습니다.\n",
    "- 예) '애플', '아이폰', '맥북' -> '애플 제품' / '구글', '안드로이드', '픽셀' -> '구글 제품'\n",
    "- 커뮤니티의 요약 정보나 핵심 내용을 참고하여 더욱 풍부하고 정확한 답변을 제공합니다.\n",
    "- 지식 그래프에서 커뮤니티를 탐지하는 데는 다양한 그래프 이론 알고리즘이 사용됩니다."
   ]
  },
  {
   "cell_type": "markdown",
   "id": "b71a8480",
   "metadata": {},
   "source": [
    "##### 로우벤 알고리즘\n",
    "- 로우벤 알고리즘은 복잡한 관계망에서 서로 밀접하게 연결된 노드들을 그룹으로 묶는 방식입니다.\n",
    "- 그룹 내 연결 밀도를 나타내는 지표인 '모듈성'이라는 개념을 사용합니다.\n",
    "- 모듈성이 높다는 것은 그룹 안의 멤버들끼리는 많이 연결되어 있고, 다른 그룹과는 적게 연결되어 있다는 뜻입니다.\n",
    "- 모듈성을 계산하여 커뮤니티를 나누는 방식이 로우벤 알고리즘의 핵심입니다.\n",
    "1. 초기화 단계: 모든 노드가 각자 하나의 그룹(커뮤니티)으로 분배됩니다.\n",
    "2. 그룹화 및 모듈성 계산: \n",
    "    - 각 노드를 이웃 노드들의 그룹으로 이동시켜 보며 모듈성 변화를 계산합니다. \n",
    "    - 이때 모듈성이 가장 많이 증가하는 그룹으로 해당 노드를 이동시킵니다.\n",
    "    - 모듈성 증가가 없으면 현재 그룹에 그대로 둡니다.\n",
    "3. 반복 및 병합:\n",
    "    - 2번 과정을 모든 노드에 대해 반복합니다.\n",
    "    - 더 이상 개선이 없으면, 형성된 그룹들을 하나의 노드로 간주하고 네트워크를 재구성합니다.\n",
    "    - 재구성된 네트워크에 대해 다시 2번 과정을 반복해서 수행합니다.\n",
    "4. 종료: 전체 네트워크의 모듈성이 더 이상 증가하지 않을 때 알고리즘을 종료합니다.\n",
    "- 알고리즘은 자동으로 '내부적으로는 밀접하게 연결되어 있지만 외부와는 상대적으로 덜 연결된' 최적의 그룹 구조를 찾아냅니다.\n",
    "- 장점은 계산 효율성과 간단한 구현입니다. \n",
    "- 단점은 결과의 불안정성과 모듈성 함수의 한계가 있습니다. 초기 설정이나 노드의 처리 순서에 따라 결과가 달라질 수 있습니다."
   ]
  },
  {
   "cell_type": "markdown",
   "id": "3cf3e6a1",
   "metadata": {},
   "source": [
    "##### 레이든 알고리즘\n",
    "- 기존 로우벤 알고리즘은 커뮤니티를 탐지할 때, 때때로 서로 연결되지 않은 노드들이 같이 커뮤니티로 묶이는 문제가 있었습니다.\n",
    "- 레이든 알고리즘은 노드를 다른 커뮤니티로 이동할 때 이동 후에도 커뮤니티가 항상 서로 연결된 상태를 유지하도록 설계되었습니다.\n",
    "- 로우벤 알고리즘에서 발생할 수 있었던 비연결 커뮤니티 문제를 해결하고, 연결된 커뮤니티를 형성하여 탐지의 정확성을 높였습니다.\n",
    "- 또한 커뮤니티 병합 전 정제 단계를 추가하여 각 커뮤니티 내에서 모듈성을 최적화하고 하위 커뮤니티를 탐지함으로써 더 세밀한 커뮤니티 구조를 형성합니다.\n",
    "- 이 과정에서 잘못 할당된 노드들을 재배치하여 커뮤니티 품질을 향상시킵니다.\n",
    "- 모ㅠㄹ성 함수 자체의 한계(예: 해상도 한계)가 완전히 해결되지는 않았으며, 정제 단계 등으로 인해 개별 반복에서 계산량이 증가할수 있다는 점은 단점으로 꼽힙니다."
   ]
  },
  {
   "cell_type": "markdown",
   "id": "b6ca9dd1",
   "metadata": {},
   "source": [
    "- 커뮤니티 탐지 기법들에 더해, MS의 그래프RAG에서는 계층적 커뮤니티 구조를 도입했습니다.\n",
    "- 데이터의 추상화 수준을 조절하여 다양한 사용자 요구에 대응할 수 있게 되었습니다.\n",
    "- 구체적으로는 레이든 알고리즘을 사용하여 3단계의 계층적 커뮤니티를 생성합니다.\n",
    "- 상위 레벨에서 하위 레벨로 갈수록 더 세부적인 주제와 정보를 포함한다는 점입니다."
   ]
  },
  {
   "cell_type": "markdown",
   "id": "b8885c86",
   "metadata": {},
   "source": [
    "- 계층별 커뮤니티 탐지를 통해 정보의 효율적 조직화를 들수 있습니다.\n",
    "    - 각 레벨에서 적절한 수준의 상세 정보를 제공할 수 있습니다.\n",
    "    - 사용자가 요구하는 정보의 깊이에 따라 적절한 레벨의 커뮤니티를 선택하여 맞춤형 답변을 제공할 수 있음을 의미합니다.\n",
    "- LLM의 토큰 제한 관리입니다.\n",
    "    - 계층 구조를 활용하면 질문의 범위에 맞는 레벨의 정보만 선택적으로 활용할 수 있으므로 토큰 사용을 최적화할 수 있다는 점입니다."
   ]
  },
  {
   "cell_type": "markdown",
   "id": "88ad53e5",
   "metadata": {},
   "source": [
    "- 테슬라 관련 뉴스 데이터를 예로 삼펴보겠습니다.\n",
    "- Level0: '전기차 산업'과 같은 광범위한 주제의 커뮤니티가 형성됩니다.\n",
    "- Level1: 'Tesla', 'SpaceX', 'Twitter(X)'등 주요 기업별로 커뮤니티가 나뉩니다.\n",
    "- Level2: 각 기업의 제품 라인업, 주요 인물, 주요 사건 등 세부 정보를 포함하는 커뮤니티가 만들어집니다."
   ]
  },
  {
   "cell_type": "markdown",
   "id": "bd9f0776",
   "metadata": {},
   "source": [
    "- 광 범위한 질문: '테슽라의 전반적인 현황'에는 Level1의 요약 정보를 사용하여 전체적인 맥락을 제공합니다.\n",
    "- 구체적인 질문: '테슬라의 신규 공장 건설 현황'에는 Level2의 상세 정보를 활용하여 심도 있는 답변을 제공합니다."
   ]
  },
  {
   "cell_type": "markdown",
   "id": "cdc21e28",
   "metadata": {},
   "source": [
    "#### 2. 그래프 임베딩\n",
    "- 그래프를 벡터 형태로 변환하여 활용하는 과정, 그래프 임베딩을 통해 그래프의 구조적 특성과 노드 간의 관계를 정량적 수치(벡터)로 변환하여 그래프 구조 시각화등 다양한 수치 기반 작업을 수행할 수 있습니다.\n",
    "- 일반적인 그래프 임베딩 방법은 다음과 같이 분류할 수 있습니다."
   ]
  },
  {
   "cell_type": "markdown",
   "id": "2c3e4c26",
   "metadata": {},
   "source": [
    "- 행렬 분해 기반 방법: 그래프의 인접 행렬이나 라플라시안 행렬 등을 분해하여 노드의 임베딩을 얻습니다. 대표적인 예로는 Laplacian Eigenmaps가 있습니다.\n",
    "- 확률적 방법: 랜덤위크나 확률 모델을 활용하여 노드 간의 유사성을 추정합니다. DeepWalk와 Node2vec이 이에 해당합니다.\n",
    "- 딥러닝 기반 방법: 그래프 신경망(GNN)을 이용하여 그래프 구조를 학습합니다. GCN(Graph Convolution Network), GAT(Graph Attention Network)등이 이에 해당합니다."
   ]
  },
  {
   "cell_type": "markdown",
   "id": "dd698b29",
   "metadata": {},
   "source": [
    "- Node2vec는 랜덤위크 기반의 임베딩 기법으로, 그래프의 구조적 다양성을 효과적으로 포착할 수 있는 방법입니다.\n",
    "- 수만 개 이상의 노드와 에지를 가진 대규모 문서 그래프에서 지역적/전역적 구조를 모두 고려해야 하는 그래프 RAG의 특성을 잘 반영할 수 있습니다."
   ]
  },
  {
   "cell_type": "markdown",
   "id": "e7e63770",
   "metadata": {},
   "source": [
    "##### Node2vec\n",
    "- 핵심 아이디어는 다음과 같습니다.\n",
    "1. 비슷한 컨텍스트를 가진 노드는 비슷한 임베딩을 갖는다.\n",
    "2. 각 노드의 컨텍스트는 랜덤위크를 통해 수집된 이웃 노드의 집합으로 정의된다.\n",
    "- 그래프에서 노드의 정성적인 특성을 정량적인 수치로 변환하려면, 각 노드의 특징을 대표하는 값이 필요합니다.\n",
    "- Node2vec에서는 노드의 의미를 나타내는 값으로 컨텍스트를 활용합니다.\n",
    "- 컨텍스트란 특정 노드와 연관된 이웃 노드들의 집합을 의미합니다.\n",
    "- 해당 노드가 그래프 내에서 어떤 역할을 하는지, 어떤 노드들과 연결되어 있는지를 나타내어 노드의 특성을 파악하는데 유용합니다.\n",
    "- Node2vec는 컨텍스트를 생성하기 위해 확률적 랜덤위크 방식을 사용합니다.\n",
    "- 랜덤위크는 그래프에서 임의 경로를 따라 이동하며 노드들을 방문하는 과정입니다.\n",
    "- 각 노드의 주변환경을 탐색하고, 노드간의 관계를 자연스럽게 수집할 수 있습니다.\n",
    "- 노드 주변을 무작위로 걸어다니며 해당 노드와 자주 함께 등장하는 이웃 노드들을 컨텍스트로 삼아 노드의 특징을 추출하는 방법입니다.\n",
    "- p와 q를 통해 탐색의 경향(깊이있는 탐색 vs 폭 넓은 탐색)을 조절하여 그래프 구조를 균형 있게 반영합니다."
   ]
  },
  {
   "cell_type": "markdown",
   "id": "23639bba",
   "metadata": {},
   "source": [
    "#### Node2vec의 p와 q 파라미터 역할\n",
    "- p (Return Parameter): 이전 노드로 돌아갈 확률을 제어합니다.\n",
    "    - p값이 클수록 이전 노드로 돌아갈 확률이 낮아져 새로운 경로를 탐색합니다.\n",
    "    - p = 0.5일 경우 새 경로를 탐색할 확률 보다 이전 노드로 돌아갈 확률이 높아집니다.\n",
    "- q (In-out Parameter): 탐색의 폭과 깊이를 결정합니다.\n",
    "    - q가 1보다 크면 너비 우선 탐색(BFS)에 가까워져 주변 이웃 노드들을 폭 넓게 탐색합니다.\n",
    "    - 1보다 작으면 깊이 우선 탐색(DFS)에 가까워져 이전 노드에서 더 멀리 떨어진 노드들을 방문할 가능성이 높아집니다."
   ]
  },
  {
   "cell_type": "markdown",
   "id": "54a923b3",
   "metadata": {},
   "source": [
    "- 다음 단계로 랜덤위크를 통해 생성된 컨텍스트를 정량적인 벡터로 표현합니다. '단어 임베딩' 기법이 그대로 적용됩니다.\n",
    "- 랜덤위크로 만든 노드 시퀀스를 마치 한 문장 안의 단어들로 보고, 특정 노드 주변에 어떤 노드들이 자주 함께 등장하는지를 파악하는 원리입니다."
   ]
  },
  {
   "cell_type": "markdown",
   "id": "b92c0819",
   "metadata": {},
   "source": [
    "#### 4. 커뮤니티 요약\n",
    "- 구축된 커뮤니티의 요약문은 각 커뮤니티의 핵심 엔티티와 관계, 주요 주장을 압축하여 포함하고 있습니다.\n",
    "- 요약문은 사용자 질의와 관련된 정보를 더욱 효과적으로 찾아내는데 핵심적 역할을 합니다.\n",
    "- 커뮤니티를 요약하려면 해당 커뮤니티를 구성하는 모든 요소를 일종의 중요도에 따라 정렬하는 과정이 필요합니다.\n",
    "- 우선 순위를 매기는 기준은 연결된 개체의 '전체 연결 정도'같은 정량적 지표입니다.\n",
    "- 한 개체가 다른 개체들과 얼마나 많이 얼마나 긴밀하게 연결되어 있는가가 요약과정에서 그 정보의 우선순위를 결정합니다.\n",
    "- 정렬이 되면 LLM에 이들을 차례대로 넣어 요약문을 생성합니다.\n",
    "- LLM은 정보량에 제한이 있으므로 우선순위가 높은 정보부터 집어넣어 요약문을 생성하고 토큰 제한에 도달할 때까지 이 과정을 반복합니다.\n",
    "- 커뮤니티 요약문은 결과적으로 가장 핵심적이고 의미있는 관계와 정보를 전달할 수 있게 됩니다.\n",
    "- 생성된 커뮤니티 요약문은 이후 임베딩 벡터로 변환되어 저장됩니다."
   ]
  },
  {
   "cell_type": "markdown",
   "id": "67e4cacf",
   "metadata": {},
   "source": [
    "[ch05_GRAPHRAG_DB.ipynb](ch05_GRAPHRAG_DB.ipynb)"
   ]
  },
  {
   "cell_type": "markdown",
   "id": "543a8b9a",
   "metadata": {},
   "source": [
    "# 3. 그래프 RAG 질의\n",
    "- 그래프 RAG에서 사용자 질문에 답변을 생성하는 방식은 크게 로컬 검색과 글로벌 검색으로 나눌 수 있습니다.\n",
    "- 로컬 검색은 문서 내의 특정 부분에서 답을 찾을 수 있는 명시적인 질문에 적합합니다.\n",
    "  - 예) 특정 제품의 출시일은 언제인가요?\n",
    "  - 예) 이 사건의 핵심 인물은 누구인가요?\n",
    "- 글로벌 검색은 전체 문서 컬렉션에 대한 포괄적인 이해가 필요한 질문에 유용합니다.\n",
    "  - 예) 이 글 전반에 걸치 주요 주제는 무엇인가요?\n",
    "  - 예) 글이 진행됨에 따라 저자의 생각이 어떻게 변화하고 있나요?\n",
    "- 각각의 검색 방식은 서로 다른 접근 방법을 사용하여 정보를 찾고 답변을 생성합니다."
   ]
  },
  {
   "cell_type": "markdown",
   "id": "636f2158",
   "metadata": {},
   "source": [
    "## 3.1. 그래프 RAG 질의 과정"
   ]
  },
  {
   "cell_type": "markdown",
   "id": "edae88f0",
   "metadata": {},
   "source": [
    "### 로컬 검색\n",
    "- 로컬 검색은 질문과 가장 관련 있는 엔티티들을 선택한 후, 그래프 DB에서 이들 엔티티와 연관된 컴포넌트들을 수집하고 필터링하여 사용하는 방식입니다.\n",
    "- 첫번째 단계에서는 사용자 질문에서 관련 엔티티를 추출합니다.\n",
    "  - 먼저 질문을 임베딩하고 그래프 DB에 저장된 엔티티들의 임베딩과 유사도를 계삭하여 연관성이 높은 엔티티를 식별합니다.\n",
    "  - 예) \"테슬라의 최근 전기차 판매량은 어떻게 되나요?\" -> [\"테슬라\", \"전기차\" 등]\n",
    "- 두번째 단계에서는 앞서 식별된 엔티티들과 연관된 다양한 정보를 수집합니다.\n",
    "  1. 식별된 엔티티가 포함된 원본 텍스트 청크: 예를 들어, 테슬라의 판매량에 언급된 문서의 일부가 여기에 해당합니다.\n",
    "  2. 식별된 엔티티가 속한 커뮤니티의 리포트: 예를 들어, 테슬라가 속한 전기차 주제의 커뮤니티 리포트가 여기에 포함될 수 있습니다.\n",
    "  3. 식별된 엔티티와 연관된 다른 엔티티: 예를 들어, 테슬라와 연관된 일론머스크(CEO), Model S/3/X/Y(제품)등이 여기에 해당합니다.\n",
    "  4. 식별된 엔티티와 연결된 관계 : 예를 들어, 테슬라와 일론 머스크 사이의 관계 정보(관계의 강도 등)가 여기에 포함됩니다.\n",
    "  5. 엔티티에 대한 주장(claims): 예를 들어, 테슽라의 시장 성과에 대한 주장(\"테슬라의 2023년 4분기 전기차 시장 점유율 하락)이 여기에 해당합니다.\n",
    "- 세번째 단계에서는 수집된 정보들의 우선순위를 매기고 필터링하여 죄종 응답을 생성합니다.\n",
    "  - 앞선 두 단계를 통해 얻은 많은 정보 중, 실제로 질문과 연관된 정보만을 선별하여 사용하는 단계입니다.\n",
    "  - 이전에 설명한 리랭킹 과정과 동일하다고 볼 수 있습니다.\n",
    "- 로컬 검색 방식은 단순히 키워드 매칭이나 임베딩 유사도만 사용하는것이 아니라, 그래프 구조를 활용하여 연관된 다양한 컨텍스트를 종합적으로 고려할수 있다는 장점"
   ]
  },
  {
   "cell_type": "markdown",
   "id": "d5145717",
   "metadata": {},
   "source": [
    "### 글로벌 검색\n",
    "- 글로벌 검색은 데이터셋 전체를 아우르는 질문에 답하기 위한 방식입니다.\n",
    "- \"이 문서 전반을 아우르는 주제는 무엇인가요?\"와 같은 질문은 기존 RAG방식으로는 적절한 답변을 얻기 어렵습니다.\n",
    "- 그래프RAG 글로벌 검색은 LLM이 생성한 지식 그래프 구조를 활용하여 극복합니다.\n",
    "- 맵-리듀스 방식을 통해 답변을 생성합니다.\n",
    "- 먼저, 사용할 커뮤니티의 레벨을 선택합니다.\n",
    "- 커뮤니티의 레벨은 응답의 상세함과 효율성 사이에서 균형을 조절하는 역할을 합니다.\n",
    "- 하위레벨의 커뮤니티 리포트를 사용하면 보다 세부적인 정보를 포함할 수 있지만, 포괄성은 떨어지고 처리해야할 리포트 양이 많아지므로 시간과 자원을 더 많이 소모됩니다.\n",
    "- 상위레벨의 리포트를 사용하면 포괄적인 정보를 제공하는 대신 세부적인 정보가 부족할 수 있지만 더 적은 자원으로 빠르게 답변을 생성할 수 있습니다.\n",
    "- \"맵\" 단계에서는 커뮤니티의 리포트들을 작은 텍스트 조각으로 분할한 후, 이 조각들을 컨텍스트로 활용하여 LLM에 투입해 중간 응답 리스트를 생성합니다.\n",
    "- 각 중간 응답에는 해당 정보가 최종 답변 구성에 얼마나 중요한지를 나타내는 중요도 점수가 부여됩니다.\n",
    "- \"리듀스\" 단계에서는 이전 단계에서 생성된 중간 응답들 중, 중요도 점수가 높은 것들을 선별하여 통합합니다.\n",
    "- 필터링 된 정보는 최종 응답을 생성하기 위한 컨텍스트로 사용되며, 이를 바탕으로 LLM이 종합적이고 포괄적인 답변을 작성합니다."
   ]
  },
  {
   "cell_type": "markdown",
   "id": "e7440585",
   "metadata": {},
   "source": [
    "[ch05_GRAPHRAG_QUERY.ipynb](ch05_GRAPHRAG_QUERY.ipynb)"
   ]
  },
  {
   "cell_type": "markdown",
   "id": "ae4c25b3",
   "metadata": {},
   "source": [
    "# 4 Neo4j와 랭체인을 활용한 GraphRAG 구현"
   ]
  }
 ],
 "metadata": {
  "kernelspec": {
   "display_name": ".venv",
   "language": "python",
   "name": "python3"
  },
  "language_info": {
   "codemirror_mode": {
    "name": "ipython",
    "version": 3
   },
   "file_extension": ".py",
   "mimetype": "text/x-python",
   "name": "python",
   "nbconvert_exporter": "python",
   "pygments_lexer": "ipython3",
   "version": "3.11.12"
  }
 },
 "nbformat": 4,
 "nbformat_minor": 5
}
