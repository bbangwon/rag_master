{
 "cells": [
  {
   "cell_type": "markdown",
   "id": "85ca4b50",
   "metadata": {},
   "source": [
    "- 다중 질의 생성 과정을 모니터링 하기 위한 로깅을 설정합니다."
   ]
  },
  {
   "cell_type": "code",
   "execution_count": 1,
   "id": "4d95d5d1",
   "metadata": {},
   "outputs": [],
   "source": [
    "# 쿼리를 위한 로그 설정\n",
    "import logging\n",
    "\n",
    "logging.basicConfig()\n",
    "logging.getLogger(\"langchain.retrievers.multi_query\").setLevel(logging.INFO)"
   ]
  },
  {
   "cell_type": "markdown",
   "id": "2224c3a5",
   "metadata": {},
   "source": [
    "- 벡터 데이터베이스와 문서로더를 설정한뒤 문서를 불러옵니다."
   ]
  },
  {
   "cell_type": "code",
   "execution_count": 4,
   "id": "9d65e4ec",
   "metadata": {},
   "outputs": [],
   "source": [
    "from langchain_chroma import Chroma\n",
    "from langchain_ollama import OllamaEmbeddings\n",
    "from langchain_community.document_loaders import TextLoader\n",
    "from langchain_text_splitters import RecursiveCharacterTextSplitter\n",
    "\n",
    "# 문서 로더 설정\n",
    "loaders = [TextLoader(\"data/How_to_invest_money.txt\", encoding=\"utf-8\")]\n",
    "\n",
    "docs = []\n",
    "for loader in loaders:\n",
    "    docs.extend(loader.load())"
   ]
  },
  {
   "cell_type": "markdown",
   "id": "31be9712",
   "metadata": {},
   "source": [
    "- 텍스트 분할기와 벡터 저장소 인스턴스를 생성합니다.\n",
    "- 텍스트를 분할합니다."
   ]
  },
  {
   "cell_type": "code",
   "execution_count": 5,
   "id": "adb51677",
   "metadata": {},
   "outputs": [],
   "source": [
    "# 문서 생성을 위한 텍스트 분할기 정의\n",
    "recursive_splitter = RecursiveCharacterTextSplitter(chunk_size=1000, chunk_overlap=200)\n",
    "\n",
    "# 문서 분할\n",
    "split_docs = recursive_splitter.split_documents(docs)\n",
    "\n",
    "embeddings = OllamaEmbeddings(model=\"bge-m3\")\n",
    "\n",
    "# chroma vectorstore 생성\n",
    "vectorstore = Chroma.from_documents(\n",
    "    documents=split_docs,\n",
    "    embedding=embeddings,\n",
    ")"
   ]
  },
  {
   "cell_type": "markdown",
   "id": "20ee0762",
   "metadata": {},
   "source": [
    "- 다중 질의 생성을 위한 리트리버를 설정합니다."
   ]
  },
  {
   "cell_type": "code",
   "execution_count": 6,
   "id": "c67d81ab",
   "metadata": {},
   "outputs": [],
   "source": [
    "from langchain.retrievers import MultiQueryRetriever\n",
    "from langchain_openai import ChatOpenAI\n",
    "\n",
    "# LLM 모델 설정\n",
    "llm = ChatOpenAI(model=\"gpt-4o-mini\", temperature=0.2)\n",
    "\n",
    "# MultiQueryRetriever 실행\n",
    "retriever = MultiQueryRetriever.from_llm(\n",
    "    retriever=vectorstore.as_retriever(), # 기본 검색기\n",
    "    llm=llm,\n",
    ")"
   ]
  },
  {
   "cell_type": "code",
   "execution_count": 7,
   "id": "0cd1293c",
   "metadata": {},
   "outputs": [
    {
     "name": "stderr",
     "output_type": "stream",
     "text": [
      "INFO:langchain.retrievers.multi_query:Generated queries: ['주식 투자를 처음 시작할 때 어떤 단계가 필요한가요?  ', '주식 투자에 입문하기 위해 알아야 할 기본 사항은 무엇인가요?  ', '초보자가 주식 투자를 시작하기 위해 준비해야 할 것은 무엇인가요?']\n"
     ]
    },
    {
     "name": "stdout",
     "output_type": "stream",
     "text": [
      "\n",
      " 결과: 7개의 문서가 검색되었습니다.\n"
     ]
    }
   ],
   "source": [
    "# 예시 질문\n",
    "question = \"주식 투자를 처음 시작하려면 어떻게 해야 하나요?\"\n",
    "\n",
    "# 결과 검색\n",
    "unique_docs = retriever.invoke(question)\n",
    "print(f\"\\n 결과: {len(unique_docs)}개의 문서가 검색되었습니다.\")"
   ]
  },
  {
   "cell_type": "markdown",
   "id": "56e9c61c",
   "metadata": {},
   "source": [
    "- 검색된 문서들을 활용하여 최종 답변을 생성하는 RetrievalQA 체인을 설정하겠습니다."
   ]
  },
  {
   "cell_type": "code",
   "execution_count": 9,
   "id": "80ebfc0c",
   "metadata": {},
   "outputs": [
    {
     "name": "stderr",
     "output_type": "stream",
     "text": [
      "INFO:langchain.retrievers.multi_query:Generated queries: ['주식 투자에 처음 입문할 때 어떤 단계부터 시작해야 할까요?  ', '주식 투자를 시작하기 위해 필요한 기본 지식이나 팁은 무엇인가요?  ', '초보자가 주식 투자에 성공하기 위해 알아야 할 중요한 사항은 무엇인가요?']\n"
     ]
    },
    {
     "name": "stdout",
     "output_type": "stream",
     "text": [
      "답변: 주식 투자를 처음 시작하려면 다음과 같은 단계를 고려할 수 있습니다:\n",
      "\n",
      "1. **기본 이해**: 주식과 채권의 차이, 투자 원칙, 시장의 기본 작동 방식 등을 이해합니다.\n",
      "\n",
      "2. **목표 설정**: 투자 목표를 명확히 하고, 자신의 재정적 요구와 상황을 평가합니다. 어떤 목적을 가지고 투자하는지에 따라 전략이 달라질 수 있습니다.\n",
      "\n",
      "3. **교육**: 주식 투자에 대한 책이나 온라인 강좌를 통해 더 많은 정보를 습득합니다. 주식 시장의 기본 원리와 투자 전략에 대한 지식을 쌓는 것이 중요합니다.\n",
      "\n",
      "4. **시장 조사**: 투자할 주식이나 산업에 대한 조사를 진행합니다. 기업의 재무 상태, 시장 동향, 경쟁사 분석 등을 포함합니다.\n",
      "\n",
      "5. **투자 계좌 개설**: 주식 거래를 위한 증권 계좌를 개설합니다. 여러 증권사에서 제공하는 다양한 계좌 옵션을 비교해 보세요.\n",
      "\n",
      "6. **소액 투자 시작**: 처음에는 소액으로 시작하여 경험을 쌓고, 시장의 움직임을 관찰합니다.\n",
      "\n",
      "7. **리스크 관리**: 투자할 때는 리스크를 분산시키고, 손실을 감당할 수 있는 범위 내에서 투자합니다.\n",
      "\n",
      "8. **지속적인 학습**: 시장의 변화에 따라 지속적으로 학습하고, 투자 전략을 조정합니다.\n",
      "\n",
      "이러한 단계를 통해 주식 투자에 대한 기초를 다지고, 성공적인 투자자가 될 수 있는 기반을 마련할 수 있습니다.\n",
      "\n",
      "사용된 문서:\n",
      "The foregoing comments, in a brief and imperfect way, serve to indicate\n",
      "the main points which should be considered in the selection of\n",
      "securities for investment. The considerations advanced will be amplified\n",
      "as occasion demands in the following pages. For the present, the main\n",
      "lesson which it is sought to draw is the necessity that a man should\n",
      "have a thorough understanding of his real requirements before he\n",
      "attempts to make investments. For a private investor to go to a banker\n",
      "and ask him to suggest a security to him without telling him the exact\n",
      "nature of his wants is about as foolish as it would be for a patient to\n",
      "go to a physician and ask him to give him some medicine without telling\n",
      "him the symptoms of the trouble which he wished cured. In neither case\n",
      "can the adviser act intelligently unless he knows what end he is seeking\n",
      "to accomplish.\n",
      "which point to the beginning of a pronounced upward swing in securities,\n",
      "and if he can equally recognize the signs which indicate that the\n",
      "movement has culminated, he can liquidate the securities which he bought\n",
      "at the inception of the rise or transfer them to some short-term issues\n",
      "whose near approach to maturity will render them stable in price,\n",
      "allowing the downward swing to proceed without disturbing him. It is not\n",
      "expected, of course, that the average business man will be able to\n",
      "realize completely this ideal of investment, but it is hoped that the\n",
      "following analysis will give him a clearer conception of the principles\n",
      "involved.\n",
      "VIII\n",
      "\n",
      "STOCKS\n",
      "\n",
      "\n",
      "Passing to the consideration of stocks as investments, it is necessary\n",
      "at the outset that the reader should have clearly in mind the\n",
      "fundamental difference between stocks and bonds. This distinction was\n",
      "drawn in the introductory chapter, but it will be well to amplify it\n",
      "here, even at the risk of carrying the reader over familiar ground.\n",
      "For the successful investment of money, however, a good deal more is\n",
      "required than the mere ability to select a safe security. That is only\n",
      "one phase of the problem. Scientific investment demands a clear\n",
      "understanding of the fundamental distinctions between different classes\n",
      "of securities and strict adherence to the two cardinal principles,\n",
      "distribution of risk and selection of securities in accordance with\n",
      "real requirements.\n",
      "After learning how to judge the value of every form of investment, a man\n",
      "may still be unsuccessful in the investment of money unless he acquires\n",
      "also a firm grasp upon the general principles which control the price\n",
      "movements of securities. By this it is not meant that a man needs to\n",
      "have an intimate knowledge of technical market conditions whereby to\n",
      "estimate temporary fluctations of minor importance, but rather that he\n",
      "should have clearly in mind the causes which operate to produce the\n",
      "larger swings of prices. If an investor acquires such a knowledge, he is\n",
      "enabled to take advantage of large price movements in such a way as\n",
      "materially to increase his income, and, at the same time, avoid\n",
      "carrying upon his books securities which may have cost much more than\n",
      "their current market quotations. If he can recognize the indications\n",
      "which point to the beginning of a pronounced upward swing in securities,\n",
      "and if he can equally recognize the signs which indicate that the\n"
     ]
    }
   ],
   "source": [
    "from langchain.chains.retrieval_qa.base import RetrievalQA\n",
    "\n",
    "# RetrievalQA 체인 생성\n",
    "qa_chain = RetrievalQA.from_chain_type(\n",
    "    llm=llm,\n",
    "    chain_type=\"stuff\",\n",
    "    retriever=retriever,\n",
    "    return_source_documents=True\n",
    ")\n",
    "\n",
    "# 질문에 대한 답변 생성\n",
    "result = qa_chain.invoke({\"query\": question})\n",
    "\n",
    "# 결과 출력\n",
    "print(\"답변:\", result[\"result\"])\n",
    "print(\"\\n사용된 문서:\")\n",
    "for doc in result[\"source_documents\"]:\n",
    "    print(doc.page_content)   "
   ]
  }
 ],
 "metadata": {
  "kernelspec": {
   "display_name": ".venv",
   "language": "python",
   "name": "python3"
  },
  "language_info": {
   "codemirror_mode": {
    "name": "ipython",
    "version": 3
   },
   "file_extension": ".py",
   "mimetype": "text/x-python",
   "name": "python",
   "nbconvert_exporter": "python",
   "pygments_lexer": "ipython3",
   "version": "3.11.12"
  }
 },
 "nbformat": 4,
 "nbformat_minor": 5
}
