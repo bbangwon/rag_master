{
 "cells": [
  {
   "cell_type": "markdown",
   "id": "b51d195d",
   "metadata": {},
   "source": [
    "# 1. 검색 증강 생성 개요\n",
    "## 1.1 텍스트 임베딩\n",
    "- 인공지능 모델은 수많은 숫자로 이루어진 벡터를 사용하여 데이터를 처리하고 학습합니다.\n",
    "- 텍스트를 수치화된 벡터로 변환하여 이를 분석합니다. 이러한 변환 과정을 임베딩이라고 부릅니다.\n",
    "- 워드 임베딩 : 단어를 벡터로 변환\n",
    "- 문장 임베딩 : 문장을 벡터로 변환\n",
    "- 문서 임베딩 : 문서를 벡터로 변환\n",
    "- 텍스트를 벡터로 변환하는 과정은 다양한 인공지능 모델을 활용하여 수행할 수 있습니다.\n",
    "- 벡터 유사도 계산을 통해 텍스트의 의미적 연관성을 파악할 수 있습니다.\n",
    "\n",
    "## 1.2 코사인 유사도\n",
    "[ch02_VECTOR_SIMILARITY.ipynb](ch02_VECTOR_SIMILARITY.ipynb)\n"
   ]
  },
  {
   "cell_type": "markdown",
   "id": "ed7fe4cf",
   "metadata": {},
   "source": [
    "## 1.3 랭체인 임베딩 API 활용\n",
    "[ch02_LANGCHAIN_EMBEDDING.ipynb](ch02_LANGCHAIN_EMBEDDING.ipynb)"
   ]
  },
  {
   "cell_type": "markdown",
   "id": "8c199aea",
   "metadata": {},
   "source": [
    "# 2. 문서 로더\n",
    "\n",
    "랭체인의 문서 로더는 다양한 데이터 소스와 형식을 랭체인 프레임워크에서 사용핳 수 있도록 표준화된 문서 형식으로 변환하는 도구입니다.  \n",
    "주요 문서로더는 다음과 같습니다.  \n",
    "\n",
    "- WebBaseLoader : 웹 페이지의 내용을 로드하는 기능을 제공합니다.\n",
    "- PyPDFLoader : PDF 파일을 로드하고 필요에 따라 페이지 단위로 분할하는 기능을 제공합니다.\n",
    "- CSVLoader : CSV 파일을 로드하는 기능을 제공합니다.\n",
    "- DirectoryLoader : 지정된 디렉토리 내의 모든 파일을 로드하는 기능을 제공합니다.\n",
    "- UnstructuredLoader : 다양한 형식의 파일을 로드하는 기능을 제공합니다.\n",
    "\n",
    "https://python.langchain.com/docs/integrations/document_loaders/"
   ]
  },
  {
   "cell_type": "markdown",
   "id": "f2d1603b",
   "metadata": {},
   "source": [
    "[ch02_DOCUMENT_LOADER.ipynb](ch02_DOCUMENT_LOADER.ipynb)"
   ]
  }
 ],
 "metadata": {
  "language_info": {
   "name": "python"
  }
 },
 "nbformat": 4,
 "nbformat_minor": 5
}
