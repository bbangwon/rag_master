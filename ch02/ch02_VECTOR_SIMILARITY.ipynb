{
 "cells": [
  {
   "cell_type": "markdown",
   "id": "baff5c33",
   "metadata": {},
   "source": [
    "## 1.2 코사인 유사도\n",
    "- 두 벡터 간의 각도를 통해 유사성을 측정하는 방법입니다.\n",
    "- 코사인 유사도는 벡터의 크기가 아니라 방향성에 초점을 맞추며 -1~1 사이의 값을 가집니다.\n",
    "- 1 : 두 벡터가 동일한 방향을 향함\n",
    "- 0 : 두 벡터가 서로 직각을 이룸\n",
    "- -1 : 두 벡터가 정반대 방향을 향함\n",
    "- 데이터의 크기에 무관하게 방향성을 기반으로 유사성을 평가합니다"
   ]
  },
  {
   "cell_type": "code",
   "execution_count": 1,
   "id": "362c9b4f",
   "metadata": {},
   "outputs": [
    {
     "name": "stdout",
     "output_type": "stream",
     "text": [
      "벡터1과 벡터2의 유사도: 0.7071067811865476\n",
      "벡터1과 벡터3의 유사도: 0.7071067811865476\n",
      "벡터2와 벡터3의 유사도: 1.0000000000000002\n"
     ]
    }
   ],
   "source": [
    "import numpy as np\n",
    "from numpy import dot\n",
    "from numpy.linalg import norm\n",
    "\n",
    "# 코사인 유사도를 계산하는 함수 정의\n",
    "def cosine_similarity(a, b):\n",
    "    \"\"\"코사인 유사도를 계산하는 함수\"\"\"\n",
    "    return dot(a, b) / (norm(a) * norm(b))\n",
    "\n",
    "# 벡터들 간의 코사인 유사도 출력\n",
    "vec1 = np.array([0,1,1,1])\n",
    "vec2 = np.array([1,0,2,1])\n",
    "vec3 = np.array([2,0,4,2])\n",
    "print(\"벡터1과 벡터2의 유사도:\", cosine_similarity(vec1, vec2))\n",
    "print(\"벡터1과 벡터3의 유사도:\", cosine_similarity(vec1, vec3))\n",
    "print(\"벡터2와 벡터3의 유사도:\", cosine_similarity(vec2, vec3))"
   ]
  },
  {
   "cell_type": "markdown",
   "id": "0e6d60ea",
   "metadata": {},
   "source": [
    "유사도 계산은 텍스트 임베딩과 벡터화를 통해 얻은 데이터를 기반으로, 사용자 질문에 가장 관련성 높은 문서를 식별하는 검색 매커니즘에 핵심적으로 활용됩니다."
   ]
  }
 ],
 "metadata": {
  "kernelspec": {
   "display_name": ".venv",
   "language": "python",
   "name": "python3"
  },
  "language_info": {
   "codemirror_mode": {
    "name": "ipython",
    "version": 3
   },
   "file_extension": ".py",
   "mimetype": "text/x-python",
   "name": "python",
   "nbconvert_exporter": "python",
   "pygments_lexer": "ipython3",
   "version": "3.11.12"
  }
 },
 "nbformat": 4,
 "nbformat_minor": 5
}
