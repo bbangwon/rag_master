{
 "cells": [
  {
   "cell_type": "markdown",
   "id": "4fc56e54",
   "metadata": {},
   "source": [
    "# 실습파일\n",
    "https://github.com/langchain-kr/langchain-tutorial"
   ]
  },
  {
   "cell_type": "markdown",
   "id": "176825e3",
   "metadata": {},
   "source": [
    "# 2. 대규모 언어 모델\n",
    "[ch01_LLM.ipynb](ch01_LLM.ipynb)\n",
    "\n",
    "# 3. 랭체인 표현 언어\n",
    "[ch01_LCEL.ipynb](ch01_LCEL.ipynb)\n",
    "\n",
    "# 4. 프롬프트\n",
    "[ch01_PROMPT.ipynb](ch01_PROMPTS.ipynb)\n",
    "\n",
    "# 5. 출력파서\n",
    "[ch01_OUTPUT_PARSERS.ipynb](ch01_OUTPUT_PARSERS.ipynb)\n",
    "\n",
    "# 6. 메모리관리: 대화 기록 유지\n",
    "[ch01_MEMORY.ipynb](ch01_MEMORY.ipynb)"
   ]
  }
 ],
 "metadata": {
  "language_info": {
   "name": "python"
  }
 },
 "nbformat": 4,
 "nbformat_minor": 5
}
