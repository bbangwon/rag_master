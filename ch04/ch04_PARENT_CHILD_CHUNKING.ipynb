{
 "cells": [
  {
   "cell_type": "markdown",
   "id": "aab9b147",
   "metadata": {},
   "source": [
    "# 1.1 부모-자식 분할\n",
    "- 문서의 구조적 정보를 더 잘 활용하기 위한 방법으로 부모-자식분할이 있습니다.\n",
    "- 문서를 계층적으로 분할하여 원본 문서를 큰 단위의 부모 문서로 나누고, 이를 다시 작은 단위의 자식 문서로 세분화합니다.\n",
    "- 원본문서 -> 부모문서 -> 자식문서 3단계 구조를 형성합니다.\n",
    "- 부모-자식 분할 방식은 문서의 저장과 검색에서 이원화된 접근법을 채택합니다.\n",
    "- 문서의 계층 구조를 유지하면서도 효율적인 검색을 위해 자식 문서는 벡터 데이터베이스에 임베딩하여 저장하고, 부모 문서는 별도의 저장소에 원본 형태로 보관합니다.\n",
    "- 실제 검색시에는 자식 문서를 기반으로 유사성 검색을 수행하지만, 최종적으로 반환되는 문서는 부모 문서입니다.\n",
    "- 정확한 정보 : 검색시 자식문서를 기반으로 검색\n",
    "- 넓은 맥락 : 반환은 부모문서로 하므로 전체적인 맥락까지 함께 파악할 수 있습니다.\n",
    "\n",
    "## 동작방식\n",
    "1. 문서 분할\n",
    "  - 먼저 원본 문서를 비교적 큰 크기의 부모 문서로 나눕니다\n",
    "  - 이때 문서의 구조적 특성(장, 절, 단락)을 고려할 수 있습니다.\n",
    "  - 이후 각 부모 문서를 더 작은 자식 문서로 나눕니다.\n",
    "  - 이 과정에서 의미 기반 분할 같은 다른 기술을 활용할 수 있습니다.\n",
    "\n",
    "2. 메타데이터 할당\n",
    "  - 각 자식 문서에 해당 부모 문서의 식별자를 메타데이터로 할당합니다.\n",
    "  - 자식문서와 부모문서간의 관계를 추적할 수 있습니다.\n",
    "\n",
    "3. 임베딩 저장\n",
    "  - 자식 문서는 벡터 데이터베이스에 저장합니다.\n",
    "  - 각 청크의 텍스트 내용은 임베딩되어 벡터 형태로 저장됩니다.\n",
    "  - 부모 문서는 별도의 문서 저장소에 저장됩니다.\n",
    "\n",
    "## 검색과정\n",
    "1. 사용자 쿼리가 입력되면, 먼저 벡터 데이터베이스에서 쿼리와 가장 유사한 자식 문서를 검색합니다.\n",
    "2. 검색된 자식 문서의 메타데이터를 확인하여 해당하는 부모 문서의 식별자를 찾습니다.\n",
    "3. 찾은 식별자를 이용해 문서 저장소에서 관련된 부모 문서를 반환합니다."
   ]
  },
  {
   "cell_type": "markdown",
   "id": "ed9ddb50",
   "metadata": {},
   "source": [
    "- 부모-자식 분할이 의미 기반 분할을 대체하는 것이 아니라, 두 기술을 보완적으로 사용할 수 있다는 점입니다.\n",
    "- 부모 문서를 자식 문서로 나눌 때 의미 기반 분할을 적용하여 의미적으로 더 일관된 청크를 만들 수도 있습니다."
   ]
  },
  {
   "cell_type": "markdown",
   "id": "539c59dd",
   "metadata": {
    "vscode": {
     "languageId": "plaintext"
    }
   },
   "source": [
    "- 텍스트 파일을 사용하므로 랭체인의 TextLoader 클래스를 사용합니다. 텍스트 파일을 읽어 랭체인의 Document 객체로 변환하는 클래스입니다."
   ]
  },
  {
   "cell_type": "code",
   "execution_count": 5,
   "id": "29f22a11",
   "metadata": {},
   "outputs": [],
   "source": [
    "from langchain_community.document_loaders import TextLoader\n",
    "\n",
    "# 문서 로더 설정\n",
    "loaders = [\n",
    "    TextLoader(\"data/How_to_invest_money.txt\", encoding=\"utf-8\"),    \n",
    "]\n",
    "docs = []\n",
    "for loader in loaders:\n",
    "    docs.extend(loader.load())"
   ]
  },
  {
   "cell_type": "markdown",
   "id": "76c8c37b",
   "metadata": {},
   "source": [
    "- 이제 부모-자식 분할에 필요한 설정을 진행합니다. 재귀적 문자 텍스트 분할 방식을 활용하여 부모 자식 문서를 생성합니다."
   ]
  },
  {
   "cell_type": "code",
   "execution_count": 2,
   "id": "14081fb7",
   "metadata": {},
   "outputs": [],
   "source": [
    "from langchain.retrievers import ParentDocumentRetriever\n",
    "from langchain.storage import InMemoryStore\n",
    "from langchain_chroma import Chroma\n",
    "from langchain_ollama.embeddings import OllamaEmbeddings\n",
    "from langchain_text_splitters import RecursiveCharacterTextSplitter\n",
    "\n",
    "# 부모 문서 생성을 위한 텍스트 분할기\n",
    "parent_splitter = RecursiveCharacterTextSplitter(chunk_size=1000)\n",
    "# 자식 문서 생성을 위한 텍스트 분할기(부모보다 작은 크기로 설정\n",
    "child_splitter = RecursiveCharacterTextSplitter(chunk_size=200)\n",
    "\n",
    "# 자식 문서 인덱싱을 위한 벡터 저장소\n",
    "vectorstore = Chroma(\n",
    "    collection_name=\"split_parents\", embedding_function=OllamaEmbeddings(model=\"bge-m3\")\n",
    ")\n",
    "# 부모 문서 저장을 위한 저장소\n",
    "store = InMemoryStore()"
   ]
  },
  {
   "cell_type": "markdown",
   "id": "ab0b49ca",
   "metadata": {},
   "source": [
    "- 자식 문서 저장소는 Chroma 벡터 데이터베이스를 사용합니다.\n",
    "- 부모 문서 저장소는 InMemoryStore를 사용합니다."
   ]
  },
  {
   "cell_type": "code",
   "execution_count": 6,
   "id": "6c0bd209",
   "metadata": {},
   "outputs": [
    {
     "name": "stdout",
     "output_type": "stream",
     "text": [
      "Number of parent documents: 219\n"
     ]
    }
   ],
   "source": [
    "# ParentDocumentRetriever 설정\n",
    "retriever = ParentDocumentRetriever(\n",
    "    vectorstore=vectorstore,\n",
    "    docstore=store,\n",
    "    child_splitter=child_splitter,\n",
    "    parent_splitter=parent_splitter,\n",
    ")\n",
    "\n",
    "# 문서 추가\n",
    "retriever.add_documents(docs)\n",
    "\n",
    "# 부모 문서 수 확인\n",
    "print(f\"Number of parent documents: {len(list(store.yield_keys()))}\")"
   ]
  },
  {
   "cell_type": "markdown",
   "id": "03a9a73a",
   "metadata": {},
   "source": [
    "- ParentDocumentRetriever\n",
    "  - 자식 문서 저장소, 부모 문서 저장소, 자식 문서 텍스트 분할기, 부모 문서 텍스트 분할기\n",
    "- 문서들이 자동으로 부모와 자식 문서로 분할되어 각각의 저장소에 저장됩니다.\n",
    "- 이후 store.yield_keys()를 사용하여 저장된 모든 부모 문서의 키를 가져온 뒤, 해당 키의 개수를 세어 총 부모 문서의 수를 확인하고 문서 분할 과정과 저장이 제대로 이루어졌는지 검증합니다."
   ]
  },
  {
   "cell_type": "code",
   "execution_count": 8,
   "id": "cc169831",
   "metadata": {},
   "outputs": [
    {
     "name": "stdout",
     "output_type": "stream",
     "text": [
      "Parent Document: There are five chief points to be considered in the selection of all\n",
      "forms of investment. These are: (1) safety of principal and interest;\n",
      "(2) rate of income; (3) convertibility into cash; (4) prospect of\n",
      "appreciation in intrinsic value; (5) stability of market price.\n",
      "\n",
      "Keeping these five general factors in mind, the present chapter will\n",
      "discuss real-estate mortgages as a form of investment, both as adapted\n",
      "to the requirements of private funds and of a business surplus.\n"
     ]
    }
   ],
   "source": [
    "# 질문 정의\n",
    "query = \"What are the types of investments?\"\n",
    "\n",
    "# 연관 문서 수집\n",
    "retrieved_docs = retriever.invoke(query)\n",
    "\n",
    "# 첫 번째 연관 문서 출력\n",
    "print(f\"Parent Document: {retrieved_docs[0].page_content}\")"
   ]
  },
  {
   "cell_type": "markdown",
   "id": "532bc1cb",
   "metadata": {},
   "source": [
    "- 부모-자식 분할의 작동 방식을 이해하기 위해 벡터 저장소에서 직접 자식 문서를 검색해서 첫 번째 자식 문서를 출력해보겠습니다."
   ]
  },
  {
   "cell_type": "code",
   "execution_count": 9,
   "id": "f55a3aee",
   "metadata": {},
   "outputs": [
    {
     "name": "stdout",
     "output_type": "stream",
     "text": [
      "Child Document: forms of investment. These are: (1) safety of principal and interest;\n",
      "(2) rate of income; (3) convertibility into cash; (4) prospect of\n",
      "appreciation in intrinsic value; (5) stability of market price.\n"
     ]
    }
   ],
   "source": [
    "#자식 문서 검색\n",
    "query = \"What are the types of investments?\"\n",
    "sub_docs = vectorstore.similarity_search(query)\n",
    "print(f\"Child Document: {sub_docs[0].page_content}\")"
   ]
  },
  {
   "cell_type": "markdown",
   "id": "ec2051c9",
   "metadata": {},
   "source": [
    "- 자식 문서는 \"투자의 다섯 가지 주요 고려사항\"이라는 질문에 직접적으로 관련된 핵심 정보를 간결하게 제공합니다.\n",
    "- 부모 문서는 이 정보를 포함하면서도, 부동산 담보 대출에 대해 논의할 것이라는 추가적인 맥락을 제공합니다."
   ]
  }
 ],
 "metadata": {
  "kernelspec": {
   "display_name": ".venv",
   "language": "python",
   "name": "python3"
  },
  "language_info": {
   "codemirror_mode": {
    "name": "ipython",
    "version": 3
   },
   "file_extension": ".py",
   "mimetype": "text/x-python",
   "name": "python",
   "nbconvert_exporter": "python",
   "pygments_lexer": "ipython3",
   "version": "3.11.12"
  }
 },
 "nbformat": 4,
 "nbformat_minor": 5
}
