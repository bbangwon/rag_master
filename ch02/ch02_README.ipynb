{
 "cells": [
  {
   "cell_type": "markdown",
   "id": "b51d195d",
   "metadata": {},
   "source": [
    "# 1. 검색 증강 생성 개요\n",
    "## 1.1 텍스트 임베딩\n",
    "- 인공지능 모델은 수많은 숫자로 이루어진 벡터를 사용하여 데이터를 처리하고 학습합니다.\n",
    "- 텍스트를 수치화된 벡터로 변환하여 이를 분석합니다. 이러한 변환 과정을 임베딩이라고 부릅니다.\n",
    "- 워드 임베딩 : 단어를 벡터로 변환\n",
    "- 문장 임베딩 : 문장을 벡터로 변환\n",
    "- 문서 임베딩 : 문서를 벡터로 변환\n",
    "- 텍스트를 벡터로 변환하는 과정은 다양한 인공지능 모델을 활용하여 수행할 수 있습니다.\n",
    "- 벡터 유사도 계산을 통해 텍스트의 의미적 연관성을 파악할 수 있습니다.\n",
    "\n",
    "## 1.2 코사인 유사도\n",
    "[ch02_VECTOR_SIMILARITY.ipynb](ch02_VECTOR_SIMILARITY.ipynb)\n"
   ]
  },
  {
   "cell_type": "markdown",
   "id": "ed7fe4cf",
   "metadata": {},
   "source": [
    "## 1.3 랭체인 임베딩 API 활용\n",
    "[ch02_LANGCHAIN_EMBEDDING.ipynb](ch02_LANGCHAIN_EMBEDDING.ipynb)"
   ]
  }
 ],
 "metadata": {
  "language_info": {
   "name": "python"
  }
 },
 "nbformat": 4,
 "nbformat_minor": 5
}
