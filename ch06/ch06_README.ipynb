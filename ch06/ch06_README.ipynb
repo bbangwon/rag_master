{
 "cells": [
  {
   "cell_type": "markdown",
   "id": "58037991",
   "metadata": {},
   "source": [
    "# 6. 랭그래프로 설계하는 RAG 파이프라인\n",
    "\n",
    "- 여러개의 에이전트로 구성된 LLM 애플리케이션과 RAG 파이프라인에서 자주 사용되는 순환과 분기를 포함한 복잡한 워크플로우를 간편하게 구현할 수 있도록 다양한 기능을 제공합니다.\n",
    "- LLM을 사용하여 생성된 답변이 충분한지 혹은 답변을 재생성할지 결정합니다.\n",
    "- LLM을 사용하여 어떤 툴을 호출할지 결정합니다.\n"
   ]
  },
  {
   "cell_type": "markdown",
   "id": "93744d3d",
   "metadata": {},
   "source": [
    "## 1. 랭그래프의 구성요소\n",
    "\n",
    "- 노드 : 그래프에서 개별 객체를 나타내는 요소입니다.\n",
    "- 에지 : 두 노드를 연결하는 요소로, 노드 간의 관계 또는 경로를 나타냅니다.\n",
    "- 기본 동작 방식은 노드가 작업을 완료하면 하나 이상의 에지를 통해 다른 노드에게 메시지를 보내고, 메시지를 받은 노드는 자신의 기능을 실행한 후 다음 노드로 메시지를 다시 전달하는 과정을 반복하는 방식입니다.\n"
   ]
  },
  {
   "cell_type": "markdown",
   "id": "3f470753",
   "metadata": {},
   "source": [
    "### 1.1. 그래프\n",
    "\n",
    "- 랭그래프의 그래프는 슈퍼스텝방식으로 동작합니다.\n",
    "- 슈퍼스텝은 그래프 처리 과정의 한 단계로, 각 노드가 병렬로 동시에 작업을 수행하는 단위입니다.\n",
    "- 병렬로 작업을 수행한다는 것은 한 노드가 일을 끝낸 후에 다른 노드가 일을 시작하는 것이 아니라, 여러 노드가 동시에 자신의 일을 하는 모습을 뜻합니다.\n",
    "- 동시에 실행되는 노드는 동일한 슈퍼스텝에 속하며, 순차적으로 실행되는 노드는 별도의 슈퍼스텝에 속합니다.\n",
    "- 노드는 하나 이상의 입력 에지에서 새로운 메시지(상태)를 수신할 때 활성화됩니다.\n",
    "- 활성화된 노드는 자신의 기능을 실행하고 처리 결과를 다른 노드로 전달합니다.\n",
    "- 각 슈퍼스텝이 끝날 때, 입력 메시지가 없는 노드는 자신을 비활성화로 표시하여 완료된 상태로 표시합니다.\n",
    "- 모든 노드가 비활성화되고 더 이상 메시지가 전송 중이지 않은 상태가 되면 그래프 실행이 종료됩니다.\n"
   ]
  },
  {
   "cell_type": "markdown",
   "id": "7f9d37ed",
   "metadata": {},
   "source": [
    "- 상태 그래프 : 일반적으로 사용하는 그래프 클래스입니다.\n",
    "- 메시지 그래프 : 오직 메시지 목록만으로 이루어지는 특별한 유형의 그래프 클래스입니다. 대화형 시스템에서 주로 사용되고, 메시지 흐름을 단순화하여 관리하기에 적합합니다.\n"
   ]
  },
  {
   "cell_type": "markdown",
   "id": "36099fa3",
   "metadata": {},
   "source": [
    "### 1.2. 상태\n",
    "\n",
    "- 가장 먼저 해야할 일은 그래프의 상태를 정의하는 것입니다.\n",
    "- 상태란 애플리케이션 내에서 메시지로 주고받는 변수들의 집합입니다.\n"
   ]
  },
  {
   "cell_type": "code",
   "execution_count": null,
   "id": "e6ab3b44",
   "metadata": {},
   "outputs": [],
   "source": [
    "from typing import TypedDict\n",
    "\n",
    "class State(TypedDict):\n",
    "    count: int\n",
    "    messages: list[str]"
   ]
  },
  {
   "cell_type": "markdown",
   "id": "18f07fc4",
   "metadata": {},
   "source": [
    "- 아래는 상태가 변경되는 과정입니다.\n"
   ]
  },
  {
   "cell_type": "code",
   "execution_count": 1,
   "id": "09cbe8e9",
   "metadata": {},
   "outputs": [
    {
     "data": {
      "text/html": [
       "<svg id=\"mermaid-svg\" width=\"100%\" xmlns=\"http://www.w3.org/2000/svg\" class=\"statediagram\" style=\"max-width: 160.3125px;\" viewBox=\"0 0 160.3125 710\" role=\"graphics-document document\" aria-roledescription=\"stateDiagram\" xmlns:xlink=\"http://www.w3.org/1999/xlink\"><style xmlns=\"http://www.w3.org/1999/xhtml\">@import url(\"https://cdnjs.cloudflare.com/ajax/libs/font-awesome/6.7.2/css/all.min.css\");</style><style>#mermaid-svg{font-family:\"trebuchet ms\",verdana,arial,sans-serif;font-size:16px;fill:#ccc;}@keyframes edge-animation-frame{from{stroke-dashoffset:0;}}@keyframes dash{to{stroke-dashoffset:0;}}#mermaid-svg .edge-animation-slow{stroke-dasharray:9,5!important;stroke-dashoffset:900;animation:dash 50s linear infinite;stroke-linecap:round;}#mermaid-svg .edge-animation-fast{stroke-dasharray:9,5!important;stroke-dashoffset:900;animation:dash 20s linear infinite;stroke-linecap:round;}#mermaid-svg .error-icon{fill:#a44141;}#mermaid-svg .error-text{fill:#ddd;stroke:#ddd;}#mermaid-svg .edge-thickness-normal{stroke-width:1px;}#mermaid-svg .edge-thickness-thick{stroke-width:3.5px;}#mermaid-svg .edge-pattern-solid{stroke-dasharray:0;}#mermaid-svg .edge-thickness-invisible{stroke-width:0;fill:none;}#mermaid-svg .edge-pattern-dashed{stroke-dasharray:3;}#mermaid-svg .edge-pattern-dotted{stroke-dasharray:2;}#mermaid-svg .marker{fill:lightgrey;stroke:lightgrey;}#mermaid-svg .marker.cross{stroke:lightgrey;}#mermaid-svg svg{font-family:\"trebuchet ms\",verdana,arial,sans-serif;font-size:16px;}#mermaid-svg p{margin:0;}#mermaid-svg defs #statediagram-barbEnd{fill:lightgrey;stroke:lightgrey;}#mermaid-svg g.stateGroup text{fill:#ccc;stroke:none;font-size:10px;}#mermaid-svg g.stateGroup text{fill:#ccc;stroke:none;font-size:10px;}#mermaid-svg g.stateGroup .state-title{font-weight:bolder;fill:#e0dfdf;}#mermaid-svg g.stateGroup rect{fill:#1f2020;stroke:#ccc;}#mermaid-svg g.stateGroup line{stroke:lightgrey;stroke-width:1;}#mermaid-svg .transition{stroke:lightgrey;stroke-width:1;fill:none;}#mermaid-svg .stateGroup .composit{fill:#333;border-bottom:1px;}#mermaid-svg .stateGroup .alt-composit{fill:#e0e0e0;border-bottom:1px;}#mermaid-svg .state-note{stroke:hsl(180, 0%, 18.3529411765%);fill:hsl(180, 1.5873015873%, 28.3529411765%);}#mermaid-svg .state-note text{fill:rgb(183.8476190475, 181.5523809523, 181.5523809523);stroke:none;font-size:10px;}#mermaid-svg .stateLabel .box{stroke:none;stroke-width:0;fill:#1f2020;opacity:0.5;}#mermaid-svg .edgeLabel .label rect{fill:#1f2020;opacity:0.5;}#mermaid-svg .edgeLabel{background-color:hsl(0, 0%, 34.4117647059%);text-align:center;}#mermaid-svg .edgeLabel p{background-color:hsl(0, 0%, 34.4117647059%);}#mermaid-svg .edgeLabel rect{opacity:0.5;background-color:hsl(0, 0%, 34.4117647059%);fill:hsl(0, 0%, 34.4117647059%);}#mermaid-svg .edgeLabel .label text{fill:#ccc;}#mermaid-svg .label div .edgeLabel{color:#ccc;}#mermaid-svg .stateLabel text{fill:#e0dfdf;font-size:10px;font-weight:bold;}#mermaid-svg .node circle.state-start{fill:#f4f4f4;stroke:#f4f4f4;}#mermaid-svg .node .fork-join{fill:#f4f4f4;stroke:#f4f4f4;}#mermaid-svg .node circle.state-end{fill:#cccccc;stroke:#333;stroke-width:1.5;}#mermaid-svg .end-state-inner{fill:#333;stroke-width:1.5;}#mermaid-svg .node rect{fill:#1f2020;stroke:#ccc;stroke-width:1px;}#mermaid-svg .node polygon{fill:#1f2020;stroke:#ccc;stroke-width:1px;}#mermaid-svg #statediagram-barbEnd{fill:lightgrey;}#mermaid-svg .statediagram-cluster rect{fill:#1f2020;stroke:#ccc;stroke-width:1px;}#mermaid-svg .cluster-label,#mermaid-svg .nodeLabel{color:#e0dfdf;}#mermaid-svg .statediagram-cluster rect.outer{rx:5px;ry:5px;}#mermaid-svg .statediagram-state .divider{stroke:#ccc;}#mermaid-svg .statediagram-state .title-state{rx:5px;ry:5px;}#mermaid-svg .statediagram-cluster.statediagram-cluster .inner{fill:#333;}#mermaid-svg .statediagram-cluster.statediagram-cluster-alt .inner{fill:#555;}#mermaid-svg .statediagram-cluster .inner{rx:0;ry:0;}#mermaid-svg .statediagram-state rect.basic{rx:5px;ry:5px;}#mermaid-svg .statediagram-state rect.divider{stroke-dasharray:10,10;fill:#555;}#mermaid-svg .note-edge{stroke-dasharray:5;}#mermaid-svg .statediagram-note rect{fill:hsl(180, 1.5873015873%, 28.3529411765%);stroke:hsl(180, 0%, 18.3529411765%);stroke-width:1px;rx:0;ry:0;}#mermaid-svg .statediagram-note rect{fill:hsl(180, 1.5873015873%, 28.3529411765%);stroke:hsl(180, 0%, 18.3529411765%);stroke-width:1px;rx:0;ry:0;}#mermaid-svg .statediagram-note text{fill:rgb(183.8476190475, 181.5523809523, 181.5523809523);}#mermaid-svg .statediagram-note .nodeLabel{color:rgb(183.8476190475, 181.5523809523, 181.5523809523);}#mermaid-svg .statediagram .edgeLabel{color:red;}#mermaid-svg #dependencyStart,#mermaid-svg #dependencyEnd{fill:lightgrey;stroke:lightgrey;stroke-width:1;}#mermaid-svg .statediagramTitleText{text-anchor:middle;font-size:18px;fill:#ccc;}#mermaid-svg :root{--mermaid-font-family:\"trebuchet ms\",verdana,arial,sans-serif;}</style><g><defs><marker id=\"mermaid-svg_stateDiagram-barbEnd\" refX=\"19\" refY=\"7\" markerWidth=\"20\" markerHeight=\"14\" markerUnits=\"userSpaceOnUse\" orient=\"auto\"><path d=\"M 19,7 L9,13 L14,7 L9,1 Z\"/></marker></defs><g class=\"root\"><g class=\"clusters\"/><g class=\"edgePaths\"><path d=\"M80.156,120L80.156,128.167C80.156,136.333,80.156,152.667,80.156,169C80.156,185.333,80.156,201.667,80.156,209.833L80.156,218\" id=\"edge0\" class=\" edge-thickness-normal edge-pattern-solid transition\" style=\"fill:none;\" marker-end=\"url(#mermaid-svg_stateDiagram-barbEnd)\"/><path d=\"M80.156,330L80.156,336.167C80.156,342.333,80.156,354.667,80.156,367C80.156,379.333,80.156,391.667,80.156,397.833L80.156,404\" id=\"edge1\" class=\" edge-thickness-normal edge-pattern-solid transition\" style=\"fill:none;\" marker-end=\"url(#mermaid-svg_stateDiagram-barbEnd)\"/><path d=\"M80.156,516L80.156,522.167C80.156,528.333,80.156,540.667,80.156,553C80.156,565.333,80.156,577.667,80.156,583.833L80.156,590\" id=\"edge2\" class=\" edge-thickness-normal edge-pattern-solid transition\" style=\"fill:none;\" marker-end=\"url(#mermaid-svg_stateDiagram-barbEnd)\"/></g><g class=\"edgeLabels\"><g class=\"edgeLabel\" transform=\"translate(80.15625, 169)\"><g class=\"label\" transform=\"translate(-57.484375, -24)\"><foreignObject width=\"114.96875\" height=\"48\"><div xmlns=\"http://www.w3.org/1999/xhtml\" class=\"labelBkg\" style=\"display: table-cell; white-space: nowrap; line-height: 1.5; max-width: 200px; text-align: center;\"><span class=\"edgeLabel \"><p>count = 1<br />messages=[\"hi\"]</p></span></div></foreignObject></g></g><g class=\"edgeLabel\" transform=\"translate(80.15625, 367)\"><g class=\"label\" transform=\"translate(-33.140625, -12)\"><foreignObject width=\"66.28125\" height=\"24\"><div xmlns=\"http://www.w3.org/1999/xhtml\" class=\"labelBkg\" style=\"display: table-cell; white-space: nowrap; line-height: 1.5; max-width: 200px; text-align: center;\"><span class=\"edgeLabel \"><p>count = 2</p></span></div></foreignObject></g></g><g class=\"edgeLabel\" transform=\"translate(80.15625, 553)\"><g class=\"label\" transform=\"translate(-64.15625, -12)\"><foreignObject width=\"128.3125\" height=\"24\"><div xmlns=\"http://www.w3.org/1999/xhtml\" class=\"labelBkg\" style=\"display: table-cell; white-space: nowrap; line-height: 1.5; max-width: 200px; text-align: center;\"><span class=\"edgeLabel \"><p>messages=[\"bye\"]</p></span></div></foreignObject></g></g></g><g class=\"nodes\"><g class=\"node  statediagram-state \" id=\"state-n1-0\" transform=\"translate(80.15625, 64)\"><rect class=\"basic label-container\" style=\"\" rx=\"5\" ry=\"5\" x=\"-53.578125\" y=\"-56\" width=\"107.15625\" height=\"112\"/><g class=\"label\" style=\"\" transform=\"translate(-45.578125, -48)\"><rect/><foreignObject width=\"91.15625\" height=\"96\"><div xmlns=\"http://www.w3.org/1999/xhtml\" style=\"display: table-cell; white-space: nowrap; line-height: 1.5; max-width: 200px; text-align: center;\"><span class=\"nodeLabel \"><p>노드1<br /><br />count=None<br />messages=[]</p></span></div></foreignObject></g></g><g class=\"node  statediagram-state \" id=\"state-n2-1\" transform=\"translate(80.15625, 274)\"><rect class=\"basic label-container\" style=\"\" rx=\"5\" ry=\"5\" x=\"-65.484375\" y=\"-56\" width=\"130.96875\" height=\"112\"/><g class=\"label\" style=\"\" transform=\"translate(-57.484375, -48)\"><rect/><foreignObject width=\"114.96875\" height=\"96\"><div xmlns=\"http://www.w3.org/1999/xhtml\" style=\"display: table-cell; white-space: nowrap; line-height: 1.5; max-width: 200px; text-align: center;\"><span class=\"nodeLabel \"><p>노드2<br /><br />count=1<br />messages=[\"hi\"]</p></span></div></foreignObject></g></g><g class=\"node  statediagram-state \" id=\"state-n3-2\" transform=\"translate(80.15625, 460)\"><rect class=\"basic label-container\" style=\"\" rx=\"5\" ry=\"5\" x=\"-65.484375\" y=\"-56\" width=\"130.96875\" height=\"112\"/><g class=\"label\" style=\"\" transform=\"translate(-57.484375, -48)\"><rect/><foreignObject width=\"114.96875\" height=\"96\"><div xmlns=\"http://www.w3.org/1999/xhtml\" style=\"display: table-cell; white-space: nowrap; line-height: 1.5; max-width: 200px; text-align: center;\"><span class=\"nodeLabel \"><p>노드3<br /><br />count=2<br />messages=[\"hi\"]</p></span></div></foreignObject></g></g><g class=\"node  statediagram-state \" id=\"state-n4-2\" transform=\"translate(80.15625, 646)\"><rect class=\"basic label-container\" style=\"\" rx=\"5\" ry=\"5\" x=\"-72.15625\" y=\"-56\" width=\"144.3125\" height=\"112\"/><g class=\"label\" style=\"\" transform=\"translate(-64.15625, -48)\"><rect/><foreignObject width=\"128.3125\" height=\"96\"><div xmlns=\"http://www.w3.org/1999/xhtml\" style=\"display: table-cell; white-space: nowrap; line-height: 1.5; max-width: 200px; text-align: center;\"><span class=\"nodeLabel \"><p>노드4<br /><br />count=2<br />messages=[\"bye\"]</p></span></div></foreignObject></g></g></g></g></g></svg>"
      ],
      "text/plain": [
       "<mermaid.__main__.Mermaid at 0x1369daac510>"
      ]
     },
     "execution_count": 1,
     "metadata": {},
     "output_type": "execute_result"
    }
   ],
   "source": [
    "import mermaid as md\n",
    "render = md.Mermaid(\"\"\"\n",
    "%%{init: {'theme':'dark'}}%%\n",
    "stateDiagram-v2\n",
    "    n1 : 노드1<br><br>count=None<br>messages=[]\n",
    "    n2 : 노드2<br><br>count=1<br>messages=[\"hi\"]\n",
    "    n3 : 노드3<br><br>count=2<br>messages=[\"hi\"]\n",
    "    n4 : 노드4<br><br>count=2<br>messages=[\"bye\"]\n",
    "    n1 --> n2 : count = 1<br>messages=[\"hi\"]\n",
    "    n2 --> n3 : count = 2\n",
    "    n3 --> n4 : messages=[\"bye\"]\n",
    "\"\"\")\n",
    "render"
   ]
  },
  {
   "cell_type": "markdown",
   "id": "31192d1d",
   "metadata": {},
   "source": [
    "- 리듀서를 사용한다면 기존 상태에 새로운 업데이트를 결합하여 새로운 상태를 생성하는 것도 가능합니다.\n",
    "- Annotated타입으로 리듀서 함수를 정의한다면 messages 변수는 리듀서 함수를 통해 업데이트 됩니다.\n",
    "- 아래 예시에서는 messages에 add 리듀서가 지정되어 있어, 새로운 메시지가 추가될 때 기존 리스트와 병합됩니다.\n"
   ]
  },
  {
   "cell_type": "code",
   "execution_count": null,
   "id": "66252f74",
   "metadata": {},
   "outputs": [],
   "source": [
    "from typing import TypedDict, Annotated\n",
    "from operator import add\n",
    "\n",
    "class State(TypedDict):\n",
    "    count: int\n",
    "    messages: Annotated[list[str], add]"
   ]
  },
  {
   "cell_type": "code",
   "execution_count": 1,
   "id": "ee75a806",
   "metadata": {},
   "outputs": [
    {
     "data": {
      "text/html": [
       "<svg id=\"mermaid-svg\" width=\"100%\" xmlns=\"http://www.w3.org/2000/svg\" class=\"statediagram\" style=\"max-width: 188.578125px;\" viewBox=\"0 0 188.578125 710\" role=\"graphics-document document\" aria-roledescription=\"stateDiagram\" xmlns:xlink=\"http://www.w3.org/1999/xlink\"><style xmlns=\"http://www.w3.org/1999/xhtml\">@import url(\"https://cdnjs.cloudflare.com/ajax/libs/font-awesome/6.7.2/css/all.min.css\");</style><style>#mermaid-svg{font-family:\"trebuchet ms\",verdana,arial,sans-serif;font-size:16px;fill:#ccc;}@keyframes edge-animation-frame{from{stroke-dashoffset:0;}}@keyframes dash{to{stroke-dashoffset:0;}}#mermaid-svg .edge-animation-slow{stroke-dasharray:9,5!important;stroke-dashoffset:900;animation:dash 50s linear infinite;stroke-linecap:round;}#mermaid-svg .edge-animation-fast{stroke-dasharray:9,5!important;stroke-dashoffset:900;animation:dash 20s linear infinite;stroke-linecap:round;}#mermaid-svg .error-icon{fill:#a44141;}#mermaid-svg .error-text{fill:#ddd;stroke:#ddd;}#mermaid-svg .edge-thickness-normal{stroke-width:1px;}#mermaid-svg .edge-thickness-thick{stroke-width:3.5px;}#mermaid-svg .edge-pattern-solid{stroke-dasharray:0;}#mermaid-svg .edge-thickness-invisible{stroke-width:0;fill:none;}#mermaid-svg .edge-pattern-dashed{stroke-dasharray:3;}#mermaid-svg .edge-pattern-dotted{stroke-dasharray:2;}#mermaid-svg .marker{fill:lightgrey;stroke:lightgrey;}#mermaid-svg .marker.cross{stroke:lightgrey;}#mermaid-svg svg{font-family:\"trebuchet ms\",verdana,arial,sans-serif;font-size:16px;}#mermaid-svg p{margin:0;}#mermaid-svg defs #statediagram-barbEnd{fill:lightgrey;stroke:lightgrey;}#mermaid-svg g.stateGroup text{fill:#ccc;stroke:none;font-size:10px;}#mermaid-svg g.stateGroup text{fill:#ccc;stroke:none;font-size:10px;}#mermaid-svg g.stateGroup .state-title{font-weight:bolder;fill:#e0dfdf;}#mermaid-svg g.stateGroup rect{fill:#1f2020;stroke:#ccc;}#mermaid-svg g.stateGroup line{stroke:lightgrey;stroke-width:1;}#mermaid-svg .transition{stroke:lightgrey;stroke-width:1;fill:none;}#mermaid-svg .stateGroup .composit{fill:#333;border-bottom:1px;}#mermaid-svg .stateGroup .alt-composit{fill:#e0e0e0;border-bottom:1px;}#mermaid-svg .state-note{stroke:hsl(180, 0%, 18.3529411765%);fill:hsl(180, 1.5873015873%, 28.3529411765%);}#mermaid-svg .state-note text{fill:rgb(183.8476190475, 181.5523809523, 181.5523809523);stroke:none;font-size:10px;}#mermaid-svg .stateLabel .box{stroke:none;stroke-width:0;fill:#1f2020;opacity:0.5;}#mermaid-svg .edgeLabel .label rect{fill:#1f2020;opacity:0.5;}#mermaid-svg .edgeLabel{background-color:hsl(0, 0%, 34.4117647059%);text-align:center;}#mermaid-svg .edgeLabel p{background-color:hsl(0, 0%, 34.4117647059%);}#mermaid-svg .edgeLabel rect{opacity:0.5;background-color:hsl(0, 0%, 34.4117647059%);fill:hsl(0, 0%, 34.4117647059%);}#mermaid-svg .edgeLabel .label text{fill:#ccc;}#mermaid-svg .label div .edgeLabel{color:#ccc;}#mermaid-svg .stateLabel text{fill:#e0dfdf;font-size:10px;font-weight:bold;}#mermaid-svg .node circle.state-start{fill:#f4f4f4;stroke:#f4f4f4;}#mermaid-svg .node .fork-join{fill:#f4f4f4;stroke:#f4f4f4;}#mermaid-svg .node circle.state-end{fill:#cccccc;stroke:#333;stroke-width:1.5;}#mermaid-svg .end-state-inner{fill:#333;stroke-width:1.5;}#mermaid-svg .node rect{fill:#1f2020;stroke:#ccc;stroke-width:1px;}#mermaid-svg .node polygon{fill:#1f2020;stroke:#ccc;stroke-width:1px;}#mermaid-svg #statediagram-barbEnd{fill:lightgrey;}#mermaid-svg .statediagram-cluster rect{fill:#1f2020;stroke:#ccc;stroke-width:1px;}#mermaid-svg .cluster-label,#mermaid-svg .nodeLabel{color:#e0dfdf;}#mermaid-svg .statediagram-cluster rect.outer{rx:5px;ry:5px;}#mermaid-svg .statediagram-state .divider{stroke:#ccc;}#mermaid-svg .statediagram-state .title-state{rx:5px;ry:5px;}#mermaid-svg .statediagram-cluster.statediagram-cluster .inner{fill:#333;}#mermaid-svg .statediagram-cluster.statediagram-cluster-alt .inner{fill:#555;}#mermaid-svg .statediagram-cluster .inner{rx:0;ry:0;}#mermaid-svg .statediagram-state rect.basic{rx:5px;ry:5px;}#mermaid-svg .statediagram-state rect.divider{stroke-dasharray:10,10;fill:#555;}#mermaid-svg .note-edge{stroke-dasharray:5;}#mermaid-svg .statediagram-note rect{fill:hsl(180, 1.5873015873%, 28.3529411765%);stroke:hsl(180, 0%, 18.3529411765%);stroke-width:1px;rx:0;ry:0;}#mermaid-svg .statediagram-note rect{fill:hsl(180, 1.5873015873%, 28.3529411765%);stroke:hsl(180, 0%, 18.3529411765%);stroke-width:1px;rx:0;ry:0;}#mermaid-svg .statediagram-note text{fill:rgb(183.8476190475, 181.5523809523, 181.5523809523);}#mermaid-svg .statediagram-note .nodeLabel{color:rgb(183.8476190475, 181.5523809523, 181.5523809523);}#mermaid-svg .statediagram .edgeLabel{color:red;}#mermaid-svg #dependencyStart,#mermaid-svg #dependencyEnd{fill:lightgrey;stroke:lightgrey;stroke-width:1;}#mermaid-svg .statediagramTitleText{text-anchor:middle;font-size:18px;fill:#ccc;}#mermaid-svg :root{--mermaid-font-family:\"trebuchet ms\",verdana,arial,sans-serif;}</style><g><defs><marker id=\"mermaid-svg_stateDiagram-barbEnd\" refX=\"19\" refY=\"7\" markerWidth=\"20\" markerHeight=\"14\" markerUnits=\"userSpaceOnUse\" orient=\"auto\"><path d=\"M 19,7 L9,13 L14,7 L9,1 Z\"/></marker></defs><g class=\"root\"><g class=\"clusters\"/><g class=\"edgePaths\"><path d=\"M94.289,120L94.289,128.167C94.289,136.333,94.289,152.667,94.289,169C94.289,185.333,94.289,201.667,94.289,209.833L94.289,218\" id=\"edge0\" class=\" edge-thickness-normal edge-pattern-solid transition\" style=\"fill:none;\" marker-end=\"url(#mermaid-svg_stateDiagram-barbEnd)\"/><path d=\"M94.289,330L94.289,336.167C94.289,342.333,94.289,354.667,94.289,367C94.289,379.333,94.289,391.667,94.289,397.833L94.289,404\" id=\"edge1\" class=\" edge-thickness-normal edge-pattern-solid transition\" style=\"fill:none;\" marker-end=\"url(#mermaid-svg_stateDiagram-barbEnd)\"/><path d=\"M94.289,516L94.289,522.167C94.289,528.333,94.289,540.667,94.289,553C94.289,565.333,94.289,577.667,94.289,583.833L94.289,590\" id=\"edge2\" class=\" edge-thickness-normal edge-pattern-solid transition\" style=\"fill:none;\" marker-end=\"url(#mermaid-svg_stateDiagram-barbEnd)\"/></g><g class=\"edgeLabels\"><g class=\"edgeLabel\" transform=\"translate(94.2890625, 169)\"><g class=\"label\" transform=\"translate(-57.484375, -24)\"><foreignObject width=\"114.96875\" height=\"48\"><div xmlns=\"http://www.w3.org/1999/xhtml\" class=\"labelBkg\" style=\"display: table-cell; white-space: nowrap; line-height: 1.5; max-width: 200px; text-align: center;\"><span class=\"edgeLabel \"><p>count = 1<br />messages=[\"hi\"]</p></span></div></foreignObject></g></g><g class=\"edgeLabel\" transform=\"translate(94.2890625, 367)\"><g class=\"label\" transform=\"translate(-33.140625, -12)\"><foreignObject width=\"66.28125\" height=\"24\"><div xmlns=\"http://www.w3.org/1999/xhtml\" class=\"labelBkg\" style=\"display: table-cell; white-space: nowrap; line-height: 1.5; max-width: 200px; text-align: center;\"><span class=\"edgeLabel \"><p>count = 2</p></span></div></foreignObject></g></g><g class=\"edgeLabel\" transform=\"translate(94.2890625, 553)\"><g class=\"label\" transform=\"translate(-64.15625, -12)\"><foreignObject width=\"128.3125\" height=\"24\"><div xmlns=\"http://www.w3.org/1999/xhtml\" class=\"labelBkg\" style=\"display: table-cell; white-space: nowrap; line-height: 1.5; max-width: 200px; text-align: center;\"><span class=\"edgeLabel \"><p>messages=[\"bye\"]</p></span></div></foreignObject></g></g></g><g class=\"nodes\"><g class=\"node  statediagram-state \" id=\"state-n1-0\" transform=\"translate(94.2890625, 64)\"><rect class=\"basic label-container\" style=\"\" rx=\"5\" ry=\"5\" x=\"-53.578125\" y=\"-56\" width=\"107.15625\" height=\"112\"/><g class=\"label\" style=\"\" transform=\"translate(-45.578125, -48)\"><rect/><foreignObject width=\"91.15625\" height=\"96\"><div xmlns=\"http://www.w3.org/1999/xhtml\" style=\"display: table-cell; white-space: nowrap; line-height: 1.5; max-width: 200px; text-align: center;\"><span class=\"nodeLabel \"><p>노드1<br /><br />count=None<br />messages=[]</p></span></div></foreignObject></g></g><g class=\"node  statediagram-state \" id=\"state-n2-1\" transform=\"translate(94.2890625, 274)\"><rect class=\"basic label-container\" style=\"\" rx=\"5\" ry=\"5\" x=\"-65.484375\" y=\"-56\" width=\"130.96875\" height=\"112\"/><g class=\"label\" style=\"\" transform=\"translate(-57.484375, -48)\"><rect/><foreignObject width=\"114.96875\" height=\"96\"><div xmlns=\"http://www.w3.org/1999/xhtml\" style=\"display: table-cell; white-space: nowrap; line-height: 1.5; max-width: 200px; text-align: center;\"><span class=\"nodeLabel \"><p>노드2<br /><br />count=1<br />messages=[\"hi\"]</p></span></div></foreignObject></g></g><g class=\"node  statediagram-state \" id=\"state-n3-2\" transform=\"translate(94.2890625, 460)\"><rect class=\"basic label-container\" style=\"\" rx=\"5\" ry=\"5\" x=\"-65.484375\" y=\"-56\" width=\"130.96875\" height=\"112\"/><g class=\"label\" style=\"\" transform=\"translate(-57.484375, -48)\"><rect/><foreignObject width=\"114.96875\" height=\"96\"><div xmlns=\"http://www.w3.org/1999/xhtml\" style=\"display: table-cell; white-space: nowrap; line-height: 1.5; max-width: 200px; text-align: center;\"><span class=\"nodeLabel \"><p>노드3<br /><br />count=2<br />messages=[\"hi\"]</p></span></div></foreignObject></g></g><g class=\"node  statediagram-state \" id=\"state-n4-2\" transform=\"translate(94.2890625, 646)\"><rect class=\"basic label-container\" style=\"\" rx=\"5\" ry=\"5\" x=\"-86.2890625\" y=\"-56\" width=\"172.578125\" height=\"112\"/><g class=\"label\" style=\"\" transform=\"translate(-78.2890625, -48)\"><rect/><foreignObject width=\"156.578125\" height=\"96\"><div xmlns=\"http://www.w3.org/1999/xhtml\" style=\"display: table-cell; white-space: nowrap; line-height: 1.5; max-width: 200px; text-align: center;\"><span class=\"nodeLabel \"><p>노드4<br /><br />count=2<br />messages=[\"hi\",\"bye\"]</p></span></div></foreignObject></g></g></g></g></g></svg>"
      ],
      "text/plain": [
       "<mermaid.__main__.Mermaid at 0x1cefd1c0890>"
      ]
     },
     "execution_count": 1,
     "metadata": {},
     "output_type": "execute_result"
    }
   ],
   "source": [
    "import mermaid as md\n",
    "render = md.Mermaid(\"\"\"\n",
    "%%{init: {'theme':'dark'}}%%\n",
    "stateDiagram-v2\n",
    "    n1 : 노드1<br><br>count=None<br>messages=[]\n",
    "    n2 : 노드2<br><br>count=1<br>messages=[\"hi\"]\n",
    "    n3 : 노드3<br><br>count=2<br>messages=[\"hi\"]\n",
    "    n4 : 노드4<br><br>count=2<br>messages=[\"hi\",\"bye\"]\n",
    "    n1 --> n2 : count = 1<br>messages=[\"hi\"]\n",
    "    n2 --> n3 : count = 2\n",
    "    n3 --> n4 : messages=[\"bye\"]\n",
    "\"\"\")\n",
    "render"
   ]
  },
  {
   "cell_type": "markdown",
   "id": "167344d3",
   "metadata": {},
   "source": [
    "### 1.3 노드\n",
    "\n",
    "- 노드는 실제 작업을 수행하는 실행 단위입니다.\n",
    "- 에이전트의 로직을 담은 파이썬 함수가 곧 노드가 되며,각 노드는 상태를 입력을 받아 그 결과로 상태값을 업데이트하여 반환합니다.\n",
    "- 노드는 정상적으로 실행될 수도 있고, 실패할 수도 있습니다.\n",
    "- 노드는 첫번째 인자값으로 상태값을 받으며, 두번째 인자로 설정값을 받습니다.\n",
    "- 이렇게 생성한 노드는 add_node() 메서드를 통해 그래프에 추가할 수 있습니다.\n"
   ]
  },
  {
   "cell_type": "code",
   "execution_count": 8,
   "id": "0ef762ac",
   "metadata": {},
   "outputs": [
    {
     "data": {
      "text/plain": [
       "<langgraph.graph.state.StateGraph at 0x1ceffcdbfd0>"
      ]
     },
     "execution_count": 8,
     "metadata": {},
     "output_type": "execute_result"
    }
   ],
   "source": [
    "from langchain_core.runnables import RunnableConfig\n",
    "from langgraph.graph import StateGraph\n",
    "\n",
    "# 상태 그래프 선언\n",
    "builder = StateGraph(dict)\n",
    "\n",
    "# 노드로 사용할 함수 정의\n",
    "def my_node(state: dict, config: RunnableConfig):\n",
    "    print(\"In node: \", config[\"configurable\"][\"user_id\"])\n",
    "    return {\"results\": f\"Hello, {state['input']}!\"}\n",
    "\n",
    "def my_other_node(state: dict):\n",
    "    return state # 상태를 그대로 반환\n",
    "\n",
    "#노드를 그래프에 추가\n",
    "builder.add_node(\"my_node\", my_node)\n",
    "builder.add_node(\"other_node\", my_other_node)"
   ]
  },
  {
   "cell_type": "markdown",
   "id": "8eea50d1",
   "metadata": {},
   "source": [
    "- START 노드\n",
    "  - 그래프 실행의 시작점을 나타내는 특별한 노드입니다.\n",
    "  - 사용자 입력을 처음 받아 그래프로 전달하며, 그래프 내에서 첫번째로 실행될 노드를 지정할 때 사용합니다.\n"
   ]
  },
  {
   "cell_type": "code",
   "execution_count": 9,
   "id": "64cd333b",
   "metadata": {},
   "outputs": [
    {
     "data": {
      "text/plain": [
       "<langgraph.graph.state.StateGraph at 0x1ceffcdbfd0>"
      ]
     },
     "execution_count": 9,
     "metadata": {},
     "output_type": "execute_result"
    }
   ],
   "source": [
    "from langgraph.graph import START\n",
    "\n",
    "builder.add_edge(START, \"my_node\")"
   ]
  },
  {
   "cell_type": "markdown",
   "id": "8da7a3bd",
   "metadata": {},
   "source": [
    "- END 노드\n",
    "  - 그래프 실행이 완료되었음을 나타내는 종료 노드입니다.\n",
    "  - 특정 노드의 작업이 끝난 후 더 이상 처리할 작업이 없을 경우 END노드로 연결하여 그래프 실행을 종료합니다.\n"
   ]
  },
  {
   "cell_type": "code",
   "execution_count": 10,
   "id": "b1dfd81b",
   "metadata": {},
   "outputs": [
    {
     "data": {
      "text/plain": [
       "<langgraph.graph.state.StateGraph at 0x1ceffcdbfd0>"
      ]
     },
     "execution_count": 10,
     "metadata": {},
     "output_type": "execute_result"
    }
   ],
   "source": [
    "from langgraph.graph import END\n",
    "\n",
    "builder.add_edge(\"other_node\", END)"
   ]
  },
  {
   "cell_type": "markdown",
   "id": "3d4b1001",
   "metadata": {},
   "source": [
    "### 1.4 에지\n",
    "\n",
    "- 그래프 내에서 노드가 작업을 수행한 후, 다음 동작을 결정하는 흐름 제어 요소입니다.\n",
    "- 조건에 따라 분기하거나 종료를 지시할 수도 있습니다.\n"
   ]
  },
  {
   "cell_type": "code",
   "execution_count": 11,
   "id": "227cb8ab",
   "metadata": {},
   "outputs": [
    {
     "data": {
      "text/plain": [
       "<langgraph.graph.state.StateGraph at 0x1ceffcdbfd0>"
      ]
     },
     "execution_count": 11,
     "metadata": {},
     "output_type": "execute_result"
    }
   ],
   "source": [
    "# 일반 에지\n",
    "builder.add_edge(\"my_node\", \"other_node\")\n",
    "\n",
    "# 조건부 에지\n",
    "# 특정 조건에 따라 다른 노드로 분기하거나 종료할 때 사용합니다.\n",
    "def routing_function(state: dict):\n",
    "    # 예시: count가 1이면 node_b로, 아니면 node_c로 이동\n",
    "    return state.get(\"count\", 0) == 1\n",
    "\n",
    "builder.add_conditional_edges(\"my_node\", routing_function, {True: \"node_b\", False: \"node_c\"})\n",
    "\n",
    "#진입지점\n",
    "#그래프가 시작될 때 처음 실행할 노드를 명시합니다. 주로 START 노드로 설정합니다.\n",
    "builder.add_edge(START, \"my_node\")\n",
    "\n",
    "# 조건부 진입지점\n",
    "# 사용자의 입력이나 외부 조건에 따라 그래프 실행의 첫번째 노드를 동적으로 결정할 수 있습니다.\n",
    "# 진입 지점 역시 조건부로 설정하여 다양한 초기 상태에 대응합니다.\n",
    "builder.add_conditional_edges(START, routing_function, {True: \"node_b\", False: \"node_c\"})"
   ]
  }
 ],
 "metadata": {
  "kernelspec": {
   "display_name": ".venv",
   "language": "python",
   "name": "python3"
  },
  "language_info": {
   "codemirror_mode": {
    "name": "ipython",
    "version": 3
   },
   "file_extension": ".py",
   "mimetype": "text/x-python",
   "name": "python",
   "nbconvert_exporter": "python",
   "pygments_lexer": "ipython3",
   "version": "3.11.12"
  }
 },
 "nbformat": 4,
 "nbformat_minor": 5
}
