{
 "cells": [
  {
   "cell_type": "code",
   "execution_count": 3,
   "id": "e4018d1f",
   "metadata": {},
   "outputs": [],
   "source": [
    "from langchain_chroma import Chroma\n",
    "from langchain_ollama import OllamaEmbeddings\n",
    "from langchain_community.document_loaders import TextLoader\n",
    "from langchain_text_splitters import RecursiveCharacterTextSplitter\n",
    "\n",
    "# 문서 로더 설정\n",
    "loaders = [TextLoader(\"data/How_to_invest_money.txt\", encoding=\"utf-8\")]\n",
    "\n",
    "docs = []\n",
    "for loader in loaders:\n",
    "    docs.extend(loader.load())"
   ]
  },
  {
   "cell_type": "code",
   "execution_count": 5,
   "id": "94461ef3",
   "metadata": {},
   "outputs": [],
   "source": [
    "# 문서 생성을 위한 텍스트 분할기 정의\n",
    "recursive_splitter = RecursiveCharacterTextSplitter(chunk_size=1000, chunk_overlap=200)\n",
    "\n",
    "# 문서 분할\n",
    "split_docs = recursive_splitter.split_documents(docs)\n",
    "\n",
    "# Ollama 임베딩 모델 설정\n",
    "embedding = OllamaEmbeddings(model=\"bge-m3\")\n",
    "\n",
    "# Chroma vectorstore 생성\n",
    "vectorstore = Chroma.from_documents(documents=split_docs, embedding=embedding)\n",
    "\n",
    "# Chroma vectorstore 기반 리트리버 생성\n",
    "retriever = vectorstore.as_retriever()"
   ]
  },
  {
   "cell_type": "markdown",
   "id": "f1597f7a",
   "metadata": {},
   "source": [
    "- HyDE 방식을 구현하는 코드를 살펴보겠습니다. \n",
    "- 랭체인의 체인을 사용합니다. 각 체인은 자신의 역할에 집중하면서도 전체 파이프라인에서는 유기적으로 결합되어 효울적으로 작업을 처리할 수 있습니다.\n",
    "- 가상 문서 생성 체인\n",
    "- 문서 검색 체인\n",
    "- 최종 응답 생성 체인"
   ]
  },
  {
   "cell_type": "markdown",
   "id": "a5456fba",
   "metadata": {},
   "source": [
    "#### 가상 문서 생성 체인\n",
    "1. 프롬프트: 시스템 메시지와 사용자 메시지를 정의한 뒤 이들을 ChatPromptTemplate에 넣어 LLM에 전달할 프롬프트를 생성합니다.\n",
    "2. LLM : ChatOpenAI를 통해 입력된 프롬프트에 기반해 가상의 문서를 생성합니다. \n",
    "3. 파서 : LLM의 출력을 문자열 형태로 변한하기 위해 StrOutputParser를 사용합니다."
   ]
  },
  {
   "cell_type": "code",
   "execution_count": 6,
   "id": "e063d212",
   "metadata": {},
   "outputs": [],
   "source": [
    "from langchain_core.output_parsers import StrOutputParser\n",
    "from langchain_core.prompts import ChatPromptTemplate\n",
    "from langchain_openai import ChatOpenAI\n",
    "from langchain_core.runnables import RunnablePassthrough, RunnableLambda\n",
    "from langchain_text_splitters import CharacterTextSplitter\n",
    "\n",
    "# 1. 가상 문서 생성 체인\n",
    "def create_virtual_doc_chain():\n",
    "    system = \"당신은 고도로 숙련된 AI입니다.\"\n",
    "    user = \"\"\"\n",
    "    주어진 질문 '{query}' 에 대해 직접적으로 답변하는 가상의 문서를 생성하세요.\n",
    "    문서의 크기는 {chunk_size} 글자 언저리여야 합니다.\n",
    "    \"\"\"\n",
    "    prompt = ChatPromptTemplate.from_messages([\n",
    "        (\"system\", system),\n",
    "        (\"user\", user)\n",
    "    ])\n",
    "    llm = ChatOpenAI(model=\"gpt-4o-mini\", temperature=0.2)\n",
    "    return prompt | llm | StrOutputParser()"
   ]
  },
  {
   "cell_type": "code",
   "execution_count": 13,
   "id": "4ce0df1d",
   "metadata": {},
   "outputs": [],
   "source": [
    "# 2. 문서 검색 체인\n",
    "def create_retrieval_chain():\n",
    "    return RunnableLambda(lambda x: retriever.invoke(x['virtual_doc']))\n",
    "\n",
    "# 유틸리티 함수\n",
    "def format_docs(docs):\n",
    "    return \"\\n\\n\".join([doc.page_content for doc in docs])"
   ]
  },
  {
   "cell_type": "code",
   "execution_count": 8,
   "id": "83182ca9",
   "metadata": {},
   "outputs": [],
   "source": [
    "# 3. 최종 응답 생성 체인\n",
    "def create_final_response_chain():\n",
    "    final_prompt = ChatPromptTemplate.from_template(\"\"\"\n",
    "    다음 정보와 질문을 바탕으로 답변해주세요:\n",
    "    컨텍스트: {context}\n",
    "    질문: {question}\n",
    "    답변:\n",
    "    \"\"\")\n",
    "    final_llm = ChatOpenAI(model=\"gpt-4o-mini\", temperature=0.2)\n",
    "    return final_prompt | final_llm"
   ]
  },
  {
   "cell_type": "markdown",
   "id": "67ec4d60",
   "metadata": {},
   "source": [
    "### RunnableLambda 메서드\n",
    "- 사용자 정의 함수를 랭체인의 실행 가능한 객체로 변환하는 데 사용됩니다.\n",
    "- 복잡한 로직을 포함하는 사용자 정의 함수를 파이프라인의 다른 구성요소와 쉽게 통합할 수 있습니다."
   ]
  },
  {
   "cell_type": "code",
   "execution_count": 9,
   "id": "50a58398",
   "metadata": {},
   "outputs": [
    {
     "name": "stdout",
     "output_type": "stream",
     "text": [
      "{'adult_status': '성인'}\n"
     ]
    }
   ],
   "source": [
    "from langchain_core.runnables import RunnableLambda\n",
    "\n",
    "# 나이를 받아 성인 여부를 판단하는 함수\n",
    "def check_adult(input_dict):\n",
    "    return {\"adult_status\": \"성인\" if input_dict[\"age\"] >= 20 else \"미성년자\"}\n",
    "\n",
    "# RunnableLambda를 사용한 체인 구성\n",
    "chain = RunnableLambda(check_adult)\n",
    "\n",
    "# 체인 실행\n",
    "result = chain.invoke({\"name\": \"홍길동\", \"age\": 25})\n",
    "print(result)  # {'adult_status': '성인'}"
   ]
  },
  {
   "cell_type": "markdown",
   "id": "101b6842",
   "metadata": {},
   "source": [
    "- check_adult 함수는 RunnableLambda를 통해 랭체인의 실행 가능한 객체로 변환됩니다.\n",
    "- 이 함수는 딕셔너리를 받아 나이를 확인하고 성인 여부를 나타내는 새로운 딕셔너리를 반환합니다."
   ]
  },
  {
   "cell_type": "code",
   "execution_count": 10,
   "id": "14ed06e5",
   "metadata": {},
   "outputs": [],
   "source": [
    "from langchain_core.runnables import RunnableLambda\n",
    "def print_input_output(input_data, output_data, step_name):\n",
    "    print(f\"\\n--- {step_name} ---\")\n",
    "    print(f\"Input: {input_data}\")\n",
    "    print(f\"Output: {output_data}\")\n",
    "    print(\"-\" * 50)"
   ]
  },
  {
   "cell_type": "markdown",
   "id": "d25e4c63",
   "metadata": {},
   "source": [
    "- HyDE 방식을 구현하는 전체 파이프라인을 생성하는 메인 함수를 만들어 보겠습니다."
   ]
  },
  {
   "cell_type": "code",
   "execution_count": 11,
   "id": "8fefd7b3",
   "metadata": {},
   "outputs": [],
   "source": [
    "def create_pipeline_with_logging():\n",
    "    # 가상 문서 생성 체인\n",
    "    virtual_doc_chain = create_virtual_doc_chain()\n",
    "    # 문서 검색 체인\n",
    "    retrieval_chain = create_retrieval_chain()\n",
    "    # 최종 응답 생성 체인\n",
    "    final_response_chain = create_final_response_chain()\n",
    "\n",
    "    # 가상 문서 생성 단계\n",
    "    def virtual_doc_step(x):\n",
    "        result = {\"virtual_doc\": virtual_doc_chain.invoke({\n",
    "            \"query\": x['question'],\n",
    "            \"chunk_size\": 200\n",
    "        })}\n",
    "        print_input_output(x, result, \"Virtual Document Generation\")\n",
    "        return {**x, **result}\n",
    "    \n",
    "    # 문서 검색 단계\n",
    "    def retrieval_step(x):\n",
    "        result = {\"retrieved_docs\": retrieval_chain.invoke(x)}\n",
    "        print_input_output(x, result, \"Document Retrieval\")\n",
    "        return {**x, **result}\n",
    "    \n",
    "    # 컨텍스트 포매팅 단계\n",
    "    def context_formatting_step(x):\n",
    "        result = {\"context\": format_docs(x['retrieved_docs'])}\n",
    "        print_input_output(x, result, \"Context Formatting\")\n",
    "        return {**x, **result}\n",
    "    \n",
    "    # 최종 응답 생성 단계\n",
    "    def final_response_step(x):\n",
    "        result = final_response_chain.invoke(x)\n",
    "        print_input_output(x, result, \"Final Response Generation\")\n",
    "        return result\n",
    "    \n",
    "    # 전체 파이프라인 구성\n",
    "    pipeline = (\n",
    "        RunnableLambda(virtual_doc_step)\n",
    "        | RunnableLambda(retrieval_step)\n",
    "        | RunnableLambda(context_formatting_step)\n",
    "        | RunnableLambda(final_response_step)\n",
    "    )\n",
    "\n",
    "    return pipeline\n",
    "\n",
    "# 파이프라인 객체 생성\n",
    "pipeline = create_pipeline_with_logging()\n",
    "            "
   ]
  },
  {
   "cell_type": "markdown",
   "id": "a5aafecb",
   "metadata": {},
   "source": [
    "## 1. 가상 문서 생성 단계: virtual_doc_step 함수\n",
    "- 사용자의 질문을 바탕으로 가상의 문서를 생성합니다.\n",
    "- 입력값은 사용자의 질문을 포함하는 딕셔너리입니다.\n",
    "```json\n",
    "{\"question\": \"주식 시장의 변동성이 높을 때 투자 전략은 무엇인가요?\"}\n",
    "```\n",
    "- virtual_doc_chain.invoke() 메서드를 호출하여 가상 문서를 생성합니다.\n",
    "- 가상 문서가 생성되면 기존 입력값과 병합하여 반환합니다. 이는 다음 단계인 문서 검색 과정으로 넘어가게 됩니다."
   ]
  },
  {
   "cell_type": "markdown",
   "id": "fe28f56f",
   "metadata": {},
   "source": [
    "## 2. 문서 검색 단계: retrieval_step함수\n",
    "- 가상 문서를 기반으로 벡터 데이터베이스에서 관련 문서를 검색합니다.\n",
    "- 입력값은 가상문서와 원본 질문이 포함된 딕셔너리 x입니다.\n",
    "- retrieval_chain.invoke(x)를 호출하여 수행됩니다.\n",
    "- retrieval.get_relevant_documents로 가상 문서를 활용한 관련 문서 검색이 이루어집니다.\n",
    "- 검색이 완료되면 생성되는 retrieved_docs를 기존 입력값 x와 병합하여 다음단계로 전달합니다."
   ]
  },
  {
   "cell_type": "markdown",
   "id": "831ff476",
   "metadata": {},
   "source": [
    "## 3. 컨텍스트 포매팅 단계: context_formatting_step함수\n",
    "- 검색된 문서들을 하나의 문자열로 포매팅하여 최종 답변 생성에 사용할 컨텍스트를 만듭니다.\n",
    "- 입력값은 앞 단계에서 검색된 문서들이 포함된 딕셔너리 x입니다.\n",
    "- format_docs(x[\"retrieved_docs\"]) 함수를 호출하여 진행됩니다.\n",
    "- 생성된 컨텍스트는 기존 입력값과 병합되어 반환되며, 최종 응답 생성을 위한 단계로 전달됩니다."
   ]
  },
  {
   "cell_type": "markdown",
   "id": "cd509ea8",
   "metadata": {},
   "source": [
    "## 4. 최종 응답 생성 단계: final_response_step함수\n",
    "- 앞서 생성된 컨텍스트와 원본 질문을 바탕으로 최종 답변을 생성합니다.\n",
    "- 입력값은 컨텍스트와 원본 질문을 포함한 딕셔너리 x입니다.\n",
    "- final_response_chain.invoke(x)가 호출되며, 이때 LLM이 동작하여 입력된 컨텍스트와 질문을 기반으로 최종 답변을 생성하여 반환합니다."
   ]
  },
  {
   "cell_type": "markdown",
   "id": "c9f838d4",
   "metadata": {},
   "source": [
    "## 5. 전체 파이프라인 구성\n",
    "- 모든 단계를 순차적으로 연결하여 전체 파이프라인을 완성하는 단계입니다.\n",
    "- virtual_doc_step -> retrieval_step -> context_formatting_step -> final_response_step 순으로 연결됩니다."
   ]
  },
  {
   "cell_type": "markdown",
   "id": "8cf9927e",
   "metadata": {},
   "source": [
    "- 파이프라인 첫 단계인 virtual_doc_step 함수가 question 키를 기준으로 동작하므로 질문은 {\"question\": question} 형태의 딕셔너리여야 합니다."
   ]
  },
  {
   "cell_type": "code",
   "execution_count": 14,
   "id": "2ca0cc1b",
   "metadata": {},
   "outputs": [
    {
     "name": "stdout",
     "output_type": "stream",
     "text": [
      "\n",
      "--- Virtual Document Generation ---\n",
      "Input: {'question': '주식 시장의 변동성이 높을 때 투자 전략은 무엇인가요?'}\n",
      "Output: {'virtual_doc': '**주식 시장의 변동성이 높을 때 투자 전략**\\n\\n변동성이 큰 주식 시장에서는 신중한 접근이 필요합니다. 첫째, 분산 투자로 리스크를 줄이는 것이 중요합니다. 다양한 자산군에 투자하여 특정 주식의 하락에 대한 영향을 최소화하세요. 둘째, 방어적인 주식이나 배당주에 집중하는 것도 좋은 전략입니다. 이러한 주식은 시장 불안정성에도 상대적으로 안정적인 수익을 제공합니다. 셋째, 손절매 주문을 설정하여 손실을 제한하는 것도 고려해보세요. 마지막으로, 시장의 흐름을 주의 깊게 관찰하고, 감정에 휘둘리지 않도록 냉정함을 유지하는 것이 중요합니다.'}\n",
      "--------------------------------------------------\n",
      "\n",
      "--- Document Retrieval ---\n",
      "Input: {'question': '주식 시장의 변동성이 높을 때 투자 전략은 무엇인가요?', 'virtual_doc': '**주식 시장의 변동성이 높을 때 투자 전략**\\n\\n변동성이 큰 주식 시장에서는 신중한 접근이 필요합니다. 첫째, 분산 투자로 리스크를 줄이는 것이 중요합니다. 다양한 자산군에 투자하여 특정 주식의 하락에 대한 영향을 최소화하세요. 둘째, 방어적인 주식이나 배당주에 집중하는 것도 좋은 전략입니다. 이러한 주식은 시장 불안정성에도 상대적으로 안정적인 수익을 제공합니다. 셋째, 손절매 주문을 설정하여 손실을 제한하는 것도 고려해보세요. 마지막으로, 시장의 흐름을 주의 깊게 관찰하고, 감정에 휘둘리지 않도록 냉정함을 유지하는 것이 중요합니다.'}\n",
      "Output: {'retrieved_docs': [Document(id='1e7e586f-4add-40e1-8698-2eb780fb8b94', metadata={'source': 'data/How_to_invest_money.txt'}, page_content='The adoption of this attitude by the courts should be a matter for\\nserious consideration on the part of present and prospective\\nstockholders. If the maximum return on stock is to be limited to 6 per\\ncent, or any fair investment basis, and charges reduced to consumers so\\nthat they obtain the benefit of any greater earning power, it would\\nappear that the stockholders occupy an undesirable position. With their\\npossible profits limited, but with no fixt return insured to them and no\\nguaranty against possible loss, it can not be held that the purchase of\\nstock seems attractive.'), Document(id='592d20ac-59fc-413e-84dc-3441b810525d', metadata={'source': 'data/How_to_invest_money.txt'}, page_content='It will be seen that the question of maintaining the integrity of the\\nmoney invested is a matter of great importance and deserves to rank as a\\nfifth factor in determining the selection of investments, altho it is\\nnot an inherent quality of each investment, but is dependent for its\\neffect upon general conditions. If it is essential to the investor that\\nhis security should not shrink in quoted price, his best investment is a\\nreal-estate mortgage, which is not quoted and consequently does not\\nfluctate. For the investment of a business surplus, however, where a\\nhigh degree of convertibility is required, real-estate mortgages will\\nnot answer, and the best way to guard against shrinkage is to purchase a\\nshort-term security, whose approach to maturity will maintain the price\\nclose to par.'), Document(id='b0d7ddf6-7078-4021-8c25-9a01cc40f666', metadata={'source': 'data/How_to_invest_money.txt'}, page_content='After learning how to judge the value of every form of investment, a man\\nmay still be unsuccessful in the investment of money unless he acquires\\nalso a firm grasp upon the general principles which control the price\\nmovements of securities. By this it is not meant that a man needs to\\nhave an intimate knowledge of technical market conditions whereby to\\nestimate temporary fluctations of minor importance, but rather that he\\nshould have clearly in mind the causes which operate to produce the\\nlarger swings of prices. If an investor acquires such a knowledge, he is\\nenabled to take advantage of large price movements in such a way as\\nmaterially to increase his income, and, at the same time, avoid\\ncarrying upon his books securities which may have cost much more than\\ntheir current market quotations. If he can recognize the indications\\nwhich point to the beginning of a pronounced upward swing in securities,\\nand if he can equally recognize the signs which indicate that the'), Document(id='89c4d498-bb88-46f0-a3b3-f3daeba22a57', metadata={'source': 'data/How_to_invest_money.txt'}, page_content=\"In addition, the principle of distribution of risk should prevent one\\nindustrial company from investing its reserve funds in the securities of\\nanother industrial company.\\n\\nFor private investment the case is somewhat different. A man of good\\nbusiness judgment, who desires to obtain a high yield for which he is\\nprepared to sacrifice something in the way of convertibility and\\nprospect of appreciation in value, may buy the underlying issues of\\nstrong companies with every confidence in the safety of his principal.\\nAgain, the investor who wants a high yield and quick convertibility, who\\nis prepared to take a business man's risk and to sacrifice stability of\\nmarket price, may make a large profit by buying second-grade industrial\\nbonds. No investor, however, should deceive himself with the idea that\\nany industrial bond will satisfy all the requirements of the ideal\\ninvestment.\\n\\n\\n\\n\\nVI\\n\\nPUBLIC-UTILITY BONDS\")]}\n",
      "--------------------------------------------------\n",
      "\n",
      "--- Context Formatting ---\n",
      "Input: {'question': '주식 시장의 변동성이 높을 때 투자 전략은 무엇인가요?', 'virtual_doc': '**주식 시장의 변동성이 높을 때 투자 전략**\\n\\n변동성이 큰 주식 시장에서는 신중한 접근이 필요합니다. 첫째, 분산 투자로 리스크를 줄이는 것이 중요합니다. 다양한 자산군에 투자하여 특정 주식의 하락에 대한 영향을 최소화하세요. 둘째, 방어적인 주식이나 배당주에 집중하는 것도 좋은 전략입니다. 이러한 주식은 시장 불안정성에도 상대적으로 안정적인 수익을 제공합니다. 셋째, 손절매 주문을 설정하여 손실을 제한하는 것도 고려해보세요. 마지막으로, 시장의 흐름을 주의 깊게 관찰하고, 감정에 휘둘리지 않도록 냉정함을 유지하는 것이 중요합니다.', 'retrieved_docs': [Document(id='1e7e586f-4add-40e1-8698-2eb780fb8b94', metadata={'source': 'data/How_to_invest_money.txt'}, page_content='The adoption of this attitude by the courts should be a matter for\\nserious consideration on the part of present and prospective\\nstockholders. If the maximum return on stock is to be limited to 6 per\\ncent, or any fair investment basis, and charges reduced to consumers so\\nthat they obtain the benefit of any greater earning power, it would\\nappear that the stockholders occupy an undesirable position. With their\\npossible profits limited, but with no fixt return insured to them and no\\nguaranty against possible loss, it can not be held that the purchase of\\nstock seems attractive.'), Document(id='592d20ac-59fc-413e-84dc-3441b810525d', metadata={'source': 'data/How_to_invest_money.txt'}, page_content='It will be seen that the question of maintaining the integrity of the\\nmoney invested is a matter of great importance and deserves to rank as a\\nfifth factor in determining the selection of investments, altho it is\\nnot an inherent quality of each investment, but is dependent for its\\neffect upon general conditions. If it is essential to the investor that\\nhis security should not shrink in quoted price, his best investment is a\\nreal-estate mortgage, which is not quoted and consequently does not\\nfluctate. For the investment of a business surplus, however, where a\\nhigh degree of convertibility is required, real-estate mortgages will\\nnot answer, and the best way to guard against shrinkage is to purchase a\\nshort-term security, whose approach to maturity will maintain the price\\nclose to par.'), Document(id='b0d7ddf6-7078-4021-8c25-9a01cc40f666', metadata={'source': 'data/How_to_invest_money.txt'}, page_content='After learning how to judge the value of every form of investment, a man\\nmay still be unsuccessful in the investment of money unless he acquires\\nalso a firm grasp upon the general principles which control the price\\nmovements of securities. By this it is not meant that a man needs to\\nhave an intimate knowledge of technical market conditions whereby to\\nestimate temporary fluctations of minor importance, but rather that he\\nshould have clearly in mind the causes which operate to produce the\\nlarger swings of prices. If an investor acquires such a knowledge, he is\\nenabled to take advantage of large price movements in such a way as\\nmaterially to increase his income, and, at the same time, avoid\\ncarrying upon his books securities which may have cost much more than\\ntheir current market quotations. If he can recognize the indications\\nwhich point to the beginning of a pronounced upward swing in securities,\\nand if he can equally recognize the signs which indicate that the'), Document(id='89c4d498-bb88-46f0-a3b3-f3daeba22a57', metadata={'source': 'data/How_to_invest_money.txt'}, page_content=\"In addition, the principle of distribution of risk should prevent one\\nindustrial company from investing its reserve funds in the securities of\\nanother industrial company.\\n\\nFor private investment the case is somewhat different. A man of good\\nbusiness judgment, who desires to obtain a high yield for which he is\\nprepared to sacrifice something in the way of convertibility and\\nprospect of appreciation in value, may buy the underlying issues of\\nstrong companies with every confidence in the safety of his principal.\\nAgain, the investor who wants a high yield and quick convertibility, who\\nis prepared to take a business man's risk and to sacrifice stability of\\nmarket price, may make a large profit by buying second-grade industrial\\nbonds. No investor, however, should deceive himself with the idea that\\nany industrial bond will satisfy all the requirements of the ideal\\ninvestment.\\n\\n\\n\\n\\nVI\\n\\nPUBLIC-UTILITY BONDS\")]}\n",
      "Output: {'context': \"The adoption of this attitude by the courts should be a matter for\\nserious consideration on the part of present and prospective\\nstockholders. If the maximum return on stock is to be limited to 6 per\\ncent, or any fair investment basis, and charges reduced to consumers so\\nthat they obtain the benefit of any greater earning power, it would\\nappear that the stockholders occupy an undesirable position. With their\\npossible profits limited, but with no fixt return insured to them and no\\nguaranty against possible loss, it can not be held that the purchase of\\nstock seems attractive.\\n\\nIt will be seen that the question of maintaining the integrity of the\\nmoney invested is a matter of great importance and deserves to rank as a\\nfifth factor in determining the selection of investments, altho it is\\nnot an inherent quality of each investment, but is dependent for its\\neffect upon general conditions. If it is essential to the investor that\\nhis security should not shrink in quoted price, his best investment is a\\nreal-estate mortgage, which is not quoted and consequently does not\\nfluctate. For the investment of a business surplus, however, where a\\nhigh degree of convertibility is required, real-estate mortgages will\\nnot answer, and the best way to guard against shrinkage is to purchase a\\nshort-term security, whose approach to maturity will maintain the price\\nclose to par.\\n\\nAfter learning how to judge the value of every form of investment, a man\\nmay still be unsuccessful in the investment of money unless he acquires\\nalso a firm grasp upon the general principles which control the price\\nmovements of securities. By this it is not meant that a man needs to\\nhave an intimate knowledge of technical market conditions whereby to\\nestimate temporary fluctations of minor importance, but rather that he\\nshould have clearly in mind the causes which operate to produce the\\nlarger swings of prices. If an investor acquires such a knowledge, he is\\nenabled to take advantage of large price movements in such a way as\\nmaterially to increase his income, and, at the same time, avoid\\ncarrying upon his books securities which may have cost much more than\\ntheir current market quotations. If he can recognize the indications\\nwhich point to the beginning of a pronounced upward swing in securities,\\nand if he can equally recognize the signs which indicate that the\\n\\nIn addition, the principle of distribution of risk should prevent one\\nindustrial company from investing its reserve funds in the securities of\\nanother industrial company.\\n\\nFor private investment the case is somewhat different. A man of good\\nbusiness judgment, who desires to obtain a high yield for which he is\\nprepared to sacrifice something in the way of convertibility and\\nprospect of appreciation in value, may buy the underlying issues of\\nstrong companies with every confidence in the safety of his principal.\\nAgain, the investor who wants a high yield and quick convertibility, who\\nis prepared to take a business man's risk and to sacrifice stability of\\nmarket price, may make a large profit by buying second-grade industrial\\nbonds. No investor, however, should deceive himself with the idea that\\nany industrial bond will satisfy all the requirements of the ideal\\ninvestment.\\n\\n\\n\\n\\nVI\\n\\nPUBLIC-UTILITY BONDS\"}\n",
      "--------------------------------------------------\n",
      "\n",
      "--- Final Response Generation ---\n",
      "Input: {'question': '주식 시장의 변동성이 높을 때 투자 전략은 무엇인가요?', 'virtual_doc': '**주식 시장의 변동성이 높을 때 투자 전략**\\n\\n변동성이 큰 주식 시장에서는 신중한 접근이 필요합니다. 첫째, 분산 투자로 리스크를 줄이는 것이 중요합니다. 다양한 자산군에 투자하여 특정 주식의 하락에 대한 영향을 최소화하세요. 둘째, 방어적인 주식이나 배당주에 집중하는 것도 좋은 전략입니다. 이러한 주식은 시장 불안정성에도 상대적으로 안정적인 수익을 제공합니다. 셋째, 손절매 주문을 설정하여 손실을 제한하는 것도 고려해보세요. 마지막으로, 시장의 흐름을 주의 깊게 관찰하고, 감정에 휘둘리지 않도록 냉정함을 유지하는 것이 중요합니다.', 'retrieved_docs': [Document(id='1e7e586f-4add-40e1-8698-2eb780fb8b94', metadata={'source': 'data/How_to_invest_money.txt'}, page_content='The adoption of this attitude by the courts should be a matter for\\nserious consideration on the part of present and prospective\\nstockholders. If the maximum return on stock is to be limited to 6 per\\ncent, or any fair investment basis, and charges reduced to consumers so\\nthat they obtain the benefit of any greater earning power, it would\\nappear that the stockholders occupy an undesirable position. With their\\npossible profits limited, but with no fixt return insured to them and no\\nguaranty against possible loss, it can not be held that the purchase of\\nstock seems attractive.'), Document(id='592d20ac-59fc-413e-84dc-3441b810525d', metadata={'source': 'data/How_to_invest_money.txt'}, page_content='It will be seen that the question of maintaining the integrity of the\\nmoney invested is a matter of great importance and deserves to rank as a\\nfifth factor in determining the selection of investments, altho it is\\nnot an inherent quality of each investment, but is dependent for its\\neffect upon general conditions. If it is essential to the investor that\\nhis security should not shrink in quoted price, his best investment is a\\nreal-estate mortgage, which is not quoted and consequently does not\\nfluctate. For the investment of a business surplus, however, where a\\nhigh degree of convertibility is required, real-estate mortgages will\\nnot answer, and the best way to guard against shrinkage is to purchase a\\nshort-term security, whose approach to maturity will maintain the price\\nclose to par.'), Document(id='b0d7ddf6-7078-4021-8c25-9a01cc40f666', metadata={'source': 'data/How_to_invest_money.txt'}, page_content='After learning how to judge the value of every form of investment, a man\\nmay still be unsuccessful in the investment of money unless he acquires\\nalso a firm grasp upon the general principles which control the price\\nmovements of securities. By this it is not meant that a man needs to\\nhave an intimate knowledge of technical market conditions whereby to\\nestimate temporary fluctations of minor importance, but rather that he\\nshould have clearly in mind the causes which operate to produce the\\nlarger swings of prices. If an investor acquires such a knowledge, he is\\nenabled to take advantage of large price movements in such a way as\\nmaterially to increase his income, and, at the same time, avoid\\ncarrying upon his books securities which may have cost much more than\\ntheir current market quotations. If he can recognize the indications\\nwhich point to the beginning of a pronounced upward swing in securities,\\nand if he can equally recognize the signs which indicate that the'), Document(id='89c4d498-bb88-46f0-a3b3-f3daeba22a57', metadata={'source': 'data/How_to_invest_money.txt'}, page_content=\"In addition, the principle of distribution of risk should prevent one\\nindustrial company from investing its reserve funds in the securities of\\nanother industrial company.\\n\\nFor private investment the case is somewhat different. A man of good\\nbusiness judgment, who desires to obtain a high yield for which he is\\nprepared to sacrifice something in the way of convertibility and\\nprospect of appreciation in value, may buy the underlying issues of\\nstrong companies with every confidence in the safety of his principal.\\nAgain, the investor who wants a high yield and quick convertibility, who\\nis prepared to take a business man's risk and to sacrifice stability of\\nmarket price, may make a large profit by buying second-grade industrial\\nbonds. No investor, however, should deceive himself with the idea that\\nany industrial bond will satisfy all the requirements of the ideal\\ninvestment.\\n\\n\\n\\n\\nVI\\n\\nPUBLIC-UTILITY BONDS\")], 'context': \"The adoption of this attitude by the courts should be a matter for\\nserious consideration on the part of present and prospective\\nstockholders. If the maximum return on stock is to be limited to 6 per\\ncent, or any fair investment basis, and charges reduced to consumers so\\nthat they obtain the benefit of any greater earning power, it would\\nappear that the stockholders occupy an undesirable position. With their\\npossible profits limited, but with no fixt return insured to them and no\\nguaranty against possible loss, it can not be held that the purchase of\\nstock seems attractive.\\n\\nIt will be seen that the question of maintaining the integrity of the\\nmoney invested is a matter of great importance and deserves to rank as a\\nfifth factor in determining the selection of investments, altho it is\\nnot an inherent quality of each investment, but is dependent for its\\neffect upon general conditions. If it is essential to the investor that\\nhis security should not shrink in quoted price, his best investment is a\\nreal-estate mortgage, which is not quoted and consequently does not\\nfluctate. For the investment of a business surplus, however, where a\\nhigh degree of convertibility is required, real-estate mortgages will\\nnot answer, and the best way to guard against shrinkage is to purchase a\\nshort-term security, whose approach to maturity will maintain the price\\nclose to par.\\n\\nAfter learning how to judge the value of every form of investment, a man\\nmay still be unsuccessful in the investment of money unless he acquires\\nalso a firm grasp upon the general principles which control the price\\nmovements of securities. By this it is not meant that a man needs to\\nhave an intimate knowledge of technical market conditions whereby to\\nestimate temporary fluctations of minor importance, but rather that he\\nshould have clearly in mind the causes which operate to produce the\\nlarger swings of prices. If an investor acquires such a knowledge, he is\\nenabled to take advantage of large price movements in such a way as\\nmaterially to increase his income, and, at the same time, avoid\\ncarrying upon his books securities which may have cost much more than\\ntheir current market quotations. If he can recognize the indications\\nwhich point to the beginning of a pronounced upward swing in securities,\\nand if he can equally recognize the signs which indicate that the\\n\\nIn addition, the principle of distribution of risk should prevent one\\nindustrial company from investing its reserve funds in the securities of\\nanother industrial company.\\n\\nFor private investment the case is somewhat different. A man of good\\nbusiness judgment, who desires to obtain a high yield for which he is\\nprepared to sacrifice something in the way of convertibility and\\nprospect of appreciation in value, may buy the underlying issues of\\nstrong companies with every confidence in the safety of his principal.\\nAgain, the investor who wants a high yield and quick convertibility, who\\nis prepared to take a business man's risk and to sacrifice stability of\\nmarket price, may make a large profit by buying second-grade industrial\\nbonds. No investor, however, should deceive himself with the idea that\\nany industrial bond will satisfy all the requirements of the ideal\\ninvestment.\\n\\n\\n\\n\\nVI\\n\\nPUBLIC-UTILITY BONDS\"}\n",
      "Output: content='주식 시장의 변동성이 높을 때 투자 전략은 다음과 같습니다:\\n\\n1. **위험 분산**: 한 산업 회사가 다른 산업 회사의 증권에 투자하는 것을 피하고, 다양한 자산 클래스와 산업에 분산 투자하여 위험을 줄이는 것이 중요합니다. 이를 통해 특정 산업의 부진이 전체 포트폴리오에 미치는 영향을 최소화할 수 있습니다.\\n\\n2. **안정적인 투자 선택**: 변동성이 큰 시장에서는 안정적인 수익을 제공하는 투자 옵션을 고려해야 합니다. 예를 들어, 부동산 담보 대출과 같은 비상장 자산은 가격 변동성이 적어 안정성을 제공합니다.\\n\\n3. **단기 증권 구매**: 높은 변동성을 감안할 때, 단기 증권을 구매하여 만기 접근 시 가격이 액면가에 가까워지도록 하는 것이 좋습니다. 이는 자본 손실의 위험을 줄이는 데 도움이 됩니다.\\n\\n4. **시장 동향 파악**: 가격 변동의 원인을 이해하고, 큰 가격 변동을 예측할 수 있는 능력을 기르는 것이 중요합니다. 이를 통해 상승세가 시작될 때 매수하고, 하락세가 예상될 때 매도하는 전략을 취할 수 있습니다.\\n\\n5. **고수익과 변동성의 균형**: 높은 수익을 추구하면서도 변동성을 감수할 준비가 되어 있는 투자자는 강력한 기업의 기초 자산을 구매할 수 있습니다. 그러나 이러한 선택은 안정성을 희생할 수 있음을 인식해야 합니다.\\n\\n6. **투자 목표 재조정**: 시장의 변동성에 따라 투자 목표와 전략을 재조정하는 것이 필요합니다. 안정성을 중시하는 투자자로서의 목표를 설정하고, 그에 맞는 자산 배분을 고려해야 합니다.\\n\\n결론적으로, 변동성이 높은 주식 시장에서는 위험을 관리하고 안정성을 추구하는 전략이 중요합니다.' additional_kwargs={'refusal': None} response_metadata={'token_usage': {'completion_tokens': 423, 'prompt_tokens': 714, 'total_tokens': 1137, 'completion_tokens_details': {'accepted_prediction_tokens': 0, 'audio_tokens': 0, 'reasoning_tokens': 0, 'rejected_prediction_tokens': 0}, 'prompt_tokens_details': {'audio_tokens': 0, 'cached_tokens': 0}}, 'model_name': 'gpt-4o-mini-2024-07-18', 'system_fingerprint': 'fp_0392822090', 'id': 'chatcmpl-BWlzlCht97oFLO266tWJg5QOEEBFi', 'finish_reason': 'stop', 'logprobs': None} id='run--dec51a10-f945-47ba-a450-9f2bf130b3cc-0' usage_metadata={'input_tokens': 714, 'output_tokens': 423, 'total_tokens': 1137, 'input_token_details': {'audio': 0, 'cache_read': 0}, 'output_token_details': {'audio': 0, 'reasoning': 0}}\n",
      "--------------------------------------------------\n",
      "최종 답변: 주식 시장의 변동성이 높을 때 투자 전략은 다음과 같습니다:\n",
      "\n",
      "1. **위험 분산**: 한 산업 회사가 다른 산업 회사의 증권에 투자하는 것을 피하고, 다양한 자산 클래스와 산업에 분산 투자하여 위험을 줄이는 것이 중요합니다. 이를 통해 특정 산업의 부진이 전체 포트폴리오에 미치는 영향을 최소화할 수 있습니다.\n",
      "\n",
      "2. **안정적인 투자 선택**: 변동성이 큰 시장에서는 안정적인 수익을 제공하는 투자 옵션을 고려해야 합니다. 예를 들어, 부동산 담보 대출과 같은 비상장 자산은 가격 변동성이 적어 안정성을 제공합니다.\n",
      "\n",
      "3. **단기 증권 구매**: 높은 변동성을 감안할 때, 단기 증권을 구매하여 만기 접근 시 가격이 액면가에 가까워지도록 하는 것이 좋습니다. 이는 자본 손실의 위험을 줄이는 데 도움이 됩니다.\n",
      "\n",
      "4. **시장 동향 파악**: 가격 변동의 원인을 이해하고, 큰 가격 변동을 예측할 수 있는 능력을 기르는 것이 중요합니다. 이를 통해 상승세가 시작될 때 매수하고, 하락세가 예상될 때 매도하는 전략을 취할 수 있습니다.\n",
      "\n",
      "5. **고수익과 변동성의 균형**: 높은 수익을 추구하면서도 변동성을 감수할 준비가 되어 있는 투자자는 강력한 기업의 기초 자산을 구매할 수 있습니다. 그러나 이러한 선택은 안정성을 희생할 수 있음을 인식해야 합니다.\n",
      "\n",
      "6. **투자 목표 재조정**: 시장의 변동성에 따라 투자 목표와 전략을 재조정하는 것이 필요합니다. 안정성을 중시하는 투자자로서의 목표를 설정하고, 그에 맞는 자산 배분을 고려해야 합니다.\n",
      "\n",
      "결론적으로, 변동성이 높은 주식 시장에서는 위험을 관리하고 안정성을 추구하는 전략이 중요합니다.\n"
     ]
    }
   ],
   "source": [
    "# 질문과 답변 예\n",
    "question = \"주식 시장의 변동성이 높을 때 투자 전략은 무엇인가요?\"\n",
    "response = pipeline.invoke({\"question\": question})\n",
    "print(f\"최종 답변: {response.content}\")"
   ]
  }
 ],
 "metadata": {
  "kernelspec": {
   "display_name": ".venv",
   "language": "python",
   "name": "python3"
  },
  "language_info": {
   "codemirror_mode": {
    "name": "ipython",
    "version": 3
   },
   "file_extension": ".py",
   "mimetype": "text/x-python",
   "name": "python",
   "nbconvert_exporter": "python",
   "pygments_lexer": "ipython3",
   "version": "3.11.12"
  }
 },
 "nbformat": 4,
 "nbformat_minor": 5
}
