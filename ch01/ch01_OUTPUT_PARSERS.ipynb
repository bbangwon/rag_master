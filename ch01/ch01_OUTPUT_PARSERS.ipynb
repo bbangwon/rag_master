{
 "cells": [
  {
   "cell_type": "code",
   "execution_count": 1,
   "id": "23664f03",
   "metadata": {},
   "outputs": [
    {
     "data": {
      "text/plain": [
       "True"
      ]
     },
     "execution_count": 1,
     "metadata": {},
     "output_type": "execute_result"
    }
   ],
   "source": [
    "from dotenv import load_dotenv\n",
    "\n",
    "load_dotenv()"
   ]
  },
  {
   "cell_type": "markdown",
   "id": "d491be18",
   "metadata": {},
   "source": [
    "# 출력파서\n",
    "- 모델이 생성한 텍스트를 구조화된 형식으로 변환하는 도구\n",
    "- JSON, XML, CSV, Pydantic등\n",
    "- 최근에는 모델들이 함수또는 도구호출을 지원하면서 이러한 작업을 자동으로 처리하는 경우가 늘고 있으므로,\n",
    "- 가능하면 출력 파서 대신 함수/도구 호출을 사용하기를 권장함\n",
    "\n",
    "|이름|입력유형|출력유형|설명|\n",
    "|--|--|--|--|\n",
    "|JSON|문자열\\|메시지|JSON객체|지정된 JSON 객체 반환, Pydantic 모델 지원|\n",
    "|XML|문자열\\|메시지|딕셔너리|XML 태그의 딕셔너리 반환, XML 출력 필요시 사용|\n",
    "|CSV|문자열\\|메시지|문자열 목록(List[str])|쉼표로 구분된 값 목록 반환|\n",
    "|OutputFixing|문자열\\|메시지|-|다른 출력 파서의 오류 수정|\n",
    "|RetryWithError|문자열\\|메시지|-|출력 파서의 오류 수정 및 원본 지시 사항 전송|\n",
    "|Pydantic|문자열\\|메시지|Pydantic BaseModel|사용자 정의 Pydantic 모델 반환|\n",
    "|YAML|문자열\\|메시지|Pydantic BaseModel|YAML로 인코딩된 Pydantic 모델 반환|\n",
    "|PandasDataFrame|문자열\\|메시지|딕셔너리(dict)|Pandas DataFrame작업시 유용|\n",
    "|Enum|문자열\\|메시지|Enum|제공된 Enum 값 중 하나로 응답 구문 분석|\n",
    "|Datetime|문자열\\|메시지|datatime.datetime|응답을 datetime형식으로 구문 분석|\n",
    "|Structured|문자열\\|메시지|딕셔너리(Dict[str, str])|문자열 필드만 포함된 구조화된 정보 반환|"
   ]
  },
  {
   "cell_type": "markdown",
   "id": "995ea5a4",
   "metadata": {},
   "source": [
    "## 출력 파서의 세가지 주요 메서드\n",
    "### 포맷 지침 가져오기\n",
    "- 출력 파서는 언어 모델에게 응답을 어떤 형식으로 출력해야 하는지 알려주는 지침을 제공합니다.\n",
    "- 출력 파서의 포맷 지침은 get_format_instructions() 메서드로 확인할 수 있습니다."
   ]
  },
  {
   "cell_type": "code",
   "execution_count": 2,
   "id": "68c199bf",
   "metadata": {},
   "outputs": [
    {
     "name": "stdout",
     "output_type": "stream",
     "text": [
      "Return a JSON object.\n"
     ]
    }
   ],
   "source": [
    "# 라이브러리 불러오기\n",
    "from langchain_core.output_parsers import JsonOutputParser\n",
    "#Json 출력 파서 불러오기\n",
    "parser = JsonOutputParser()\n",
    "instructions = parser.get_format_instructions()\n",
    "\n",
    "print(instructions) # JSON 형식의 지침 출력"
   ]
  },
  {
   "cell_type": "markdown",
   "id": "18798f3a",
   "metadata": {},
   "source": [
    "### 파싱\n",
    "- 출력파서의 parse() 메서드는 언어 모델의 응답을 받아 프로그래밍에서 사용하기 쉬운 형태(파이썬 딕셔너리)로 변환합니다."
   ]
  },
  {
   "cell_type": "code",
   "execution_count": 3,
   "id": "1ff06c2e",
   "metadata": {},
   "outputs": [
    {
     "name": "stdout",
     "output_type": "stream",
     "text": [
      "{'이름': '김철수', '나이': 30}\n"
     ]
    }
   ],
   "source": [
    "ai_response = '{\"이름\":\"김철수\", \"나이\": 30}'\n",
    "parsed_response = parser.parse(ai_response)\n",
    "print(parsed_response)"
   ]
  },
  {
   "cell_type": "markdown",
   "id": "9c0214a9",
   "metadata": {},
   "source": [
    "### 프롬프트와 함께 파싱\n",
    "- 출력 파서의 parse_with_prompt() 메서드를 활용하면, 언어 모델의 응답과 함께 해당 질문(프롬프트)까지 받아서 데이터를 분석할 수 있습니다.\n",
    "- 주로 AI 응답에 오류가 발생했을 때, 문제를 수정하거나 다시 시도할 때 유용합니다.\n",
    "- RetryWithErrorOutputParser를 이용하면, 출력 파싱과정에서 발생하는 오류를 관리합니다.\n",
    "- 원래의 프롬프트와 AI응답, 발생한 오류 메시지를 함께 전달하여 AI가 더 나은 수정 제안을 할 수 있도록 유도합니다."
   ]
  },
  {
   "cell_type": "code",
   "execution_count": 4,
   "id": "b7f0ab59",
   "metadata": {},
   "outputs": [],
   "source": [
    "from langchain.output_parsers import RetryWithErrorOutputParser\n",
    "from langchain_core.output_parsers import JsonOutputParser\n",
    "from langchain_openai import ChatOpenAI\n",
    "\n",
    "# 파서 설정\n",
    "parser = RetryWithErrorOutputParser.from_llm(parser=JsonOutputParser(), llm=ChatOpenAI())"
   ]
  },
  {
   "cell_type": "markdown",
   "id": "591f226e",
   "metadata": {},
   "source": [
    "- RetryWithErrorOutputParser : 오류 발생시 재시도 기능\n",
    "- JsonOutputParser : 내부 파서로 사용하여 JSON 형식으로 파싱 담당\n",
    "- ChatOpenAI : LLM모델을 활용하여 오류 수정을 요청할 수 있도록 함"
   ]
  },
  {
   "cell_type": "code",
   "execution_count": null,
   "id": "36544469",
   "metadata": {},
   "outputs": [
    {
     "name": "stdout",
     "output_type": "stream",
     "text": [
      "{'answer': '아시아'}\n"
     ]
    }
   ],
   "source": [
    "question = \"가장 큰 대륙은?\"\n",
    "ai_response = \"아시아입니다.\" # JSON 형식이 아닌 잘못된 대답\n",
    "# ai_response = '{\"answer\": \"아시아\"}'\n",
    "\n",
    "try:\n",
    "    result = parser.parse_with_prompt(ai_response, question)\n",
    "    print(result) # JSON 형식으로 변환된 결과 출력\n",
    "except Exception as e:\n",
    "    print(f\"오류 발생: {e}\")\n",
    "    # 여기서 AI에게 다시 질문할 수 있습니다."
   ]
  },
  {
   "cell_type": "markdown",
   "id": "6494d610",
   "metadata": {},
   "source": [
    "- AI가 반환할 가상의 응답을 설정합니다. 의도적으로 JSON이 아닌 잘못된 형식으로 설정되어 있습ㄴ디ㅏ.\n",
    "- 오류가 발생하지 않도록 수정하려면\n",
    "\n",
    "```python\n",
    "ai_response = '{\"answer\": \"아시아\"}'\n",
    "```"
   ]
  },
  {
   "cell_type": "markdown",
   "id": "9a4b2da5",
   "metadata": {},
   "source": [
    "## PydanticOutputParser\n",
    "- PydanticOutputParser는 랭체인에서 제공하는 도구, LLM이 생성한 텍스트를 구조화된 데이터로 변환하는데 사용됩니다.\n",
    "- Pydantic과 함께 사용하여 AI가 생성한 자유 형식의 텍스트를 개발자가 설정한 데이터 구조에 맞춰 자동으로 변환하고 유효성을 확인합니다.\n",
    "- AI가 형식을 따르지 않을 경우 오류가 발생할 수 있으므로 프롬프트 설계가 중요합니다"
   ]
  },
  {
   "cell_type": "code",
   "execution_count": 2,
   "id": "33104eb8",
   "metadata": {},
   "outputs": [],
   "source": [
    "from langchain_core.output_parsers import PydanticOutputParser\n",
    "from langchain_core.prompts import PromptTemplate\n",
    "from langchain_openai import ChatOpenAI\n",
    "from pydantic import BaseModel, Field, model_validator"
   ]
  },
  {
   "cell_type": "markdown",
   "id": "69278794",
   "metadata": {},
   "source": [
    "- PydanticOutputParser : AI의 출력을 Pydantic 모델에 맞게 구조화된 데이터로 변환하며, 일관된 형식과 데이터 검증을 제공합니다.\n",
    "- PromptTemplate : 프롬프트를 동적으로 생성하여 AI에게 전달할 질문과 출력 형식 지침을 설정합니다. 변수를 포함하여 다양한 입력을 처리할 수 있습니다.\n",
    "- ChatOpenAI : 오픈AI의 GPT-4o 모델을 랭체인을 통해 사용할 수 있도록 지원하며, AI 모델에 질문을 던지고 응답을 얻는 역할을 합니다.\n",
    "- pydantic : Python에서 데이터 검증과 모델링을 위한 라이브러리로 BaseModel과 Field를 사용하여 데이터 구조를 정의하고, model_validator를 통해 입력 데이터를 검증할 수 있습니다."
   ]
  },
  {
   "cell_type": "code",
   "execution_count": 21,
   "id": "21691510",
   "metadata": {},
   "outputs": [],
   "source": [
    "# OpenAI 모델 설정\n",
    "model = ChatOpenAI(model=\"gpt-4o-mini\", temperature=0)"
   ]
  },
  {
   "cell_type": "code",
   "execution_count": 22,
   "id": "0718dd6d",
   "metadata": {},
   "outputs": [],
   "source": [
    "# 원하는 데이터 구조 정의\n",
    "class FinancialAdvice(BaseModel):\n",
    "    setup: str = Field(description=\"금융 조언 상황을 설정하기 위한 질문\")\n",
    "    advice: str = Field(description=\"질문을 해결하기 위한 금융 답변\")\n",
    "    # Pydantic을 사용한 사용자 정의 검증 로직\n",
    "    @model_validator(mode=\"before\")\n",
    "    @classmethod\n",
    "    def question_ends_with_question_mark(cls, values: dict) -> dict:\n",
    "        setup = values.get(\"setup\", \"\")\n",
    "        if not setup.endswith(\"?\"):\n",
    "            raise ValueError(\"잘못된 질문 형식입니다! 질문은 '?'로 끝나야 합니다.\")\n",
    "        return values"
   ]
  },
  {
   "cell_type": "markdown",
   "id": "e50aa808",
   "metadata": {},
   "source": [
    "Pydantic을 사용하여 FinancialAdvice라는 클래스를 정의합니다.\n",
    "AI 모델이 제공하는 데이터를 구조화된 형태로 저장하기 위한 데이터 모델을 만듭니다.\n",
    "\n",
    "- BaseModel: Pydantic의 기본 모델 클래스로 데이터를 구조화하고 검증하는데 사용되며\n",
    "- Field: 각 필드에 대한 설명과 유효성 검증 정보를 추가하는 데 사용됩니다.\n",
    "- setup 필드: 금융 조언 상황을 나타내는 질문\n",
    "- advice 필드: 해당 질문에 대한 구체적인 금융 조언 답변을 저장하는 역할을 합니다.\n",
    "- model_validator 데코레이터: 질문 형식이 올바른지 검증하는 로직. question_ends_with_question_mark 클래스 메서드에서 처리됩니다.\n",
    "  - AI가 생성한 질문이 물음표로(?) 끝나는지 확인"
   ]
  },
  {
   "cell_type": "code",
   "execution_count": 23,
   "id": "72b05c51",
   "metadata": {},
   "outputs": [],
   "source": [
    "# 파서 설정 및 프롬프트 템플릿에 지침 삽입\n",
    "parser = PydanticOutputParser(pydantic_object=FinancialAdvice)\n",
    "prompt = PromptTemplate(\n",
    "    template=\"다음 금융 관련 질문에 답변해주세요.\\n{format_instructions}\\n질문: {query}\\n\",\n",
    "    input_variables=[\"query\"],\n",
    "    partial_variables={\"format_instructions\": parser.get_format_instructions()}\n",
    ")\n",
    "#언어 모델을 사용해 데이터 구조를 채우도록 프롬프트와 모델 설정\n",
    "chain = prompt | model | parser"
   ]
  },
  {
   "cell_type": "markdown",
   "id": "6f8dbc0c",
   "metadata": {},
   "source": [
    "parser.get_format_instructions는 AI에게 답변 형식을 지정하는 지침을 제공하여, AI가 지정된 형식에 맞는 답변을 생성할 수 있게 도와줍니다."
   ]
  },
  {
   "cell_type": "code",
   "execution_count": 25,
   "id": "e35aeaa5",
   "metadata": {},
   "outputs": [
    {
     "name": "stdout",
     "output_type": "stream",
     "text": [
      "setup='부동산 투자에 대한 조언을 원합니다. 어떤 요소를 고려해야 할까요?' advice='부동산 투자 시 위치, 시장 동향, 자금 조달 방법, 임대 수익률, 세금 혜택 등을 고려해야 합니다. 또한, 장기적인 투자 계획을 세우고, 전문가의 조언을 받는 것이 중요합니다.'\n"
     ]
    }
   ],
   "source": [
    "# 체인 실행 및 결과 출력\n",
    "try:\n",
    "    result = chain.invoke({\"query\": \"부동산에 관련하여 금융 조언을 받을 수 있게 질문과 답변을 해주세요.\"})\n",
    "    print(result)\n",
    "except Exception as e:\n",
    "    print(f\"오류 발생: {e}\")\n"
   ]
  },
  {
   "cell_type": "markdown",
   "id": "77caedeb",
   "metadata": {},
   "source": [
    "## SimpleJsonOutputParser\n",
    "- 랭체인 라이브러리에서 제공하는 출력 파서중 하나로 JSON 형식으로 파싱하는데 사용됩니다.\n",
    "- JSON형식이 필요하지만 Pydantic 모델과 같은 복잡한 구조가 필요하지 않을때 특히 유용합니다.\n",
    "- 실시간 처리와 스트리밍 기능을 지원하여 효율적으로 처리할 수 있습니다.\n",
    "- 언어 모델이 항상 완벽한 JSON형식을 생성하는 것은 아니므로 오류처리가 중요합니다."
   ]
  },
  {
   "cell_type": "code",
   "execution_count": 26,
   "id": "6e9eff58",
   "metadata": {},
   "outputs": [],
   "source": [
    "from langchain.output_parsers.json import SimpleJsonOutputParser\n",
    "# JSON 형식의 응답을 생성하는 프롬프트 템플릿 설정\n",
    "json_prompt = PromptTemplate.from_template(\n",
    "    \"다음 질문에 대한 답변이 포함된 JSON 객체를 반환하십시오: {question}\"\n",
    ")\n",
    "json_parser = SimpleJsonOutputParser()\n",
    "json_chain = json_prompt | model | json_parser"
   ]
  },
  {
   "cell_type": "markdown",
   "id": "a236c561",
   "metadata": {},
   "source": [
    "SimpleJsonOutputParser의 가장 큰 장점은 스트리밍 방식으로 JSON 출력을 처리할 수 있다는 점입니다."
   ]
  },
  {
   "cell_type": "code",
   "execution_count": 27,
   "id": "b1ad91be",
   "metadata": {},
   "outputs": [
    {
     "data": {
      "text/plain": [
       "[{},\n",
       " {'description': ''},\n",
       " {'description': '비'},\n",
       " {'description': '비트'},\n",
       " {'description': '비트코'},\n",
       " {'description': '비트코인은'},\n",
       " {'description': '비트코인은 중앙'},\n",
       " {'description': '비트코인은 중앙은행'},\n",
       " {'description': '비트코인은 중앙은행이나'},\n",
       " {'description': '비트코인은 중앙은행이나 정부'},\n",
       " {'description': '비트코인은 중앙은행이나 정부의'},\n",
       " {'description': '비트코인은 중앙은행이나 정부의 개'},\n",
       " {'description': '비트코인은 중앙은행이나 정부의 개입'},\n",
       " {'description': '비트코인은 중앙은행이나 정부의 개입 없이'},\n",
       " {'description': '비트코인은 중앙은행이나 정부의 개입 없이 개인'},\n",
       " {'description': '비트코인은 중앙은행이나 정부의 개입 없이 개인 간'},\n",
       " {'description': '비트코인은 중앙은행이나 정부의 개입 없이 개인 간에'},\n",
       " {'description': '비트코인은 중앙은행이나 정부의 개입 없이 개인 간에 직접'},\n",
       " {'description': '비트코인은 중앙은행이나 정부의 개입 없이 개인 간에 직접 거래'},\n",
       " {'description': '비트코인은 중앙은행이나 정부의 개입 없이 개인 간에 직접 거래가'},\n",
       " {'description': '비트코인은 중앙은행이나 정부의 개입 없이 개인 간에 직접 거래가 가능한'},\n",
       " {'description': '비트코인은 중앙은행이나 정부의 개입 없이 개인 간에 직접 거래가 가능한 디'},\n",
       " {'description': '비트코인은 중앙은행이나 정부의 개입 없이 개인 간에 직접 거래가 가능한 디지털'},\n",
       " {'description': '비트코인은 중앙은행이나 정부의 개입 없이 개인 간에 직접 거래가 가능한 디지털 통'},\n",
       " {'description': '비트코인은 중앙은행이나 정부의 개입 없이 개인 간에 직접 거래가 가능한 디지털 통화'},\n",
       " {'description': '비트코인은 중앙은행이나 정부의 개입 없이 개인 간에 직접 거래가 가능한 디지털 통화입니다'},\n",
       " {'description': '비트코인은 중앙은행이나 정부의 개입 없이 개인 간에 직접 거래가 가능한 디지털 통화입니다.'}]"
      ]
     },
     "execution_count": 27,
     "metadata": {},
     "output_type": "execute_result"
    }
   ],
   "source": [
    "# 스트리밍 예시: 질문에 대한 답변이 점진적으로 구문 분석됨\n",
    "list(json_chain.stream({\"question\": \"비트코인에 대한 짧은 한 문장 설명.\"}))"
   ]
  },
  {
   "cell_type": "markdown",
   "id": "cc9a02ed",
   "metadata": {},
   "source": [
    "## JSONOutputParser\n",
    "- 랭체인에서 제공하는 또 다른 유용한 출력 파서로, JSON 형식의 출력을 요청하고 파싱하는 데 사용됩니다.\n",
    "- Pydantic과 함께 사용하여 구조화된 데이터를 처리할 수 있습니다.\n",
    "- AI모델이 생성한 자유 형식의 텍스트를 JSON구조로 명확히 변환할 수 있습니다."
   ]
  },
  {
   "cell_type": "code",
   "execution_count": 28,
   "id": "c8469d71",
   "metadata": {},
   "outputs": [],
   "source": [
    "from langchain_core.output_parsers import JsonOutputParser\n",
    "from langchain_core.prompts import PromptTemplate\n",
    "from langchain_openai import ChatOpenAI\n",
    "from pydantic import BaseModel, Field\n",
    "\n",
    "# 오픈AI 모델 설정\n",
    "model = ChatOpenAI(model=\"gpt-4o-mini\", temperature=0)\n",
    "\n",
    "# 원하는 데이터 구조 정의\n",
    "class FinancialAdvice(BaseModel):\n",
    "    setup: str = Field(description=\"금융 조언 상황을 설정하기 위한 질문\")\n",
    "    advice: str = Field(description=\"질문을 해결하기 위한 금융 답변\")"
   ]
  },
  {
   "cell_type": "code",
   "execution_count": 29,
   "id": "15f3ea1e",
   "metadata": {},
   "outputs": [],
   "source": [
    "# JSON 출력 파서 설정 및 프롬프트 템플릿에 지침 삽입\n",
    "parser = JsonOutputParser(pydantic_object=FinancialAdvice)\n",
    "prompt = PromptTemplate(\n",
    "    template=\"다음 금융 관련 질문에 답변해주세요.\\n{format_instructions}\\n{query}\\n\",\n",
    "    input_variables=[\"query\"],\n",
    "    partial_variables={\"format_instructions\": parser.get_format_instructions()}\n",
    ")"
   ]
  },
  {
   "cell_type": "markdown",
   "id": "7f5c8b54",
   "metadata": {},
   "source": [
    "JsonOutputParser를 통해 Pydantic 모델에 맞는 출력 형식을 설정합니다."
   ]
  },
  {
   "cell_type": "code",
   "execution_count": 30,
   "id": "fc59a1d7",
   "metadata": {},
   "outputs": [
    {
     "data": {
      "text/plain": [
       "{'setup': '부동산 투자에 대한 초기 자본금이 부족한 상황에서 어떻게 자금을 마련할 수 있을까요?',\n",
       " 'advice': '부동산 투자를 위해 자금을 마련하는 방법으로는 여러 가지가 있습니다. 첫째, 저축을 통해 자본금을 늘리는 방법이 있습니다. 둘째, 가족이나 친구에게 자금을 빌리는 것도 고려해볼 수 있습니다. 셋째, 은행에서 주택담보대출이나 개인대출을 이용하는 방법도 있습니다. 마지막으로, 크라우드 펀딩 플랫폼을 통해 소액 투자자들로부터 자금을 모으는 방법도 있습니다. 각 방법의 장단점을 잘 비교하고, 자신의 상황에 맞는 최선의 선택을 하시기 바랍니다.'}"
      ]
     },
     "execution_count": 30,
     "metadata": {},
     "output_type": "execute_result"
    }
   ],
   "source": [
    "#체인 구성: 프롬프트 -> 모델 -> 파서\n",
    "chain = prompt | model | parser\n",
    "# 체인 실행\n",
    "chain.invoke({\"query\": \"부동산에 관련하여 금융 조언을 받을 수 있게 질문과 답변을 해주세요.\"})"
   ]
  },
  {
   "cell_type": "markdown",
   "id": "43f24820",
   "metadata": {},
   "source": [
    "- 여러가지 파서 참고\n",
    "- https://python.langchain.com/docs/how_to/#output-parsers"
   ]
  }
 ],
 "metadata": {
  "kernelspec": {
   "display_name": ".venv",
   "language": "python",
   "name": "python3"
  },
  "language_info": {
   "codemirror_mode": {
    "name": "ipython",
    "version": 3
   },
   "file_extension": ".py",
   "mimetype": "text/x-python",
   "name": "python",
   "nbconvert_exporter": "python",
   "pygments_lexer": "ipython3",
   "version": "3.11.12"
  }
 },
 "nbformat": 4,
 "nbformat_minor": 5
}
