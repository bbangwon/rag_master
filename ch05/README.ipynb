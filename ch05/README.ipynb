{
 "cells": [
  {
   "cell_type": "markdown",
   "id": "9994abfc",
   "metadata": {},
   "source": [
    "# 1. 그래프 RAG 개요\n",
    "- 그래프 RAG는 기존 RAG 시스템의 한계를 극복하기 위해 새롭게 개발된 모델로, 지식 그래프를 활용하여 정보 간의 관계를 더 깊이 이해하고 처리하는 방식입니다.\n",
    "- 복잡한 데이터 간의 연결성을 파악하여 다층적인 질의응답이 가능하도록 합니다."
   ]
  },
  {
   "cell_type": "markdown",
   "id": "a536b52c",
   "metadata": {},
   "source": [
    "## 1.1 기존 RAG 방식의 한계\n",
    "### 1. 정보 연결의 어려움\n",
    "- 기존 RAG는 질문에 답하기 위해 개별 문서에서 정보를 검색할 수 있지만, 데이터 간의 관계를 부넉하여 새로운 통찰을 제공하는데 한계가 있습니다.\n",
    "- 정보 조각을 연결하여 전체적인 의미를 도출하는 능력이 부족합니다.\n",
    "- 예) 이 문서의 주요 주제는 무엇인가요?\n",
    "- 기존 RAG시스템에서는 나누어진 개별 문서에서 특정 소주제나 키워드를 검색할 수 있습니다.\n",
    "- 검색된 정보들은 각각 개별적으로 제공될 뿐, 데이터셋 전체에서 이러한 정보들이 어떻게 연결되고 전반적인 패턴이 무엇인지에 대해서는 알지 못합니다.\n",
    "### 2. 대규모 데이터 이해의 한계\n",
    "- 기존 RAG 시스템은 데이터의 규모가 클수록 개념들을 전체적으로 파악하는 데 어려움을 겪습니다. 다음 질문이 주어졌다고 생각해 봅시다.\n",
    "- 예) \"지난 10년간의 연간 보고서를 바탕으로 회사의 지속가능성 전략 변화를 설명해주세요.\"\n",
    "- 기존 RAG는 연간 보고서에서 개별 문서들을 얻을수 있지만, 독립적으로 이루어져 있으며, 각 문서 안의 내용들이 다른 문서들과 어떻게 연결되는지 알 수 없습니다.\n",
    "\n",
    "### Graph RAG\n",
    "- 그래프 RAG는 전체 텍스트 코퍼스에 대한 질문에 답하기 위해 지식 그래프와 RAG를 결합한 접근 방식입니다.\n",
    "- 그래프 RAG는 지식 그래프를 활용해 개별 정보 조각들 간의 관계를 모델링함으로써, 데이터셋 전체에서 연결성과 패턴을 파악할 수 있습니다.\n",
    "- 대규모 데이터셋의 구조적 관계를 분석함으로써, 시간 경과에 따른 변화나 전체적인 개념을 더 효과적으로 이해할 수 있습니다.\n"
   ]
  },
  {
   "cell_type": "markdown",
   "id": "23b1318e",
   "metadata": {},
   "source": [
    "## 1.2 지식 그래프란?\n",
    "- 그래프는 개체(노드)와 그들 사이의 관계(엣지)로 구성되어 있습니다.\n",
    "- 단순한 연결 구조뿐만 아니라, 방향성과 가중치도 표현할 수 있습니다.\n",
    "- 지식 그래프는 정보와 지식을 보다 구조화하여 표현하는 특별한 형태의 그래프로 확장되었습니다.\n",
    "- 일반 그래프는 노드와 엣지만을 사용하여 연결 구조를 나타내긴 하지만, 의미나 속성 보다는 연결되어 있다는 사실만 표현하는 경우가 많습니다.\n",
    "- 지식 그래프는 개체와 관계에 의미론적 정보를 부여하여 각 요소가 무엇을 의미하는지 명확하게 정의합니다.\n",
    "    - 예) \"아이폰\", \"애플\" - 연결을 \"개발\"이라는 명확한 관계로 정의함\n",
    "- 지식 그래프는 관계에 풍부한 속성을 부여할 수 있다는 점에서 일반 그래프와 차별화됩니다.\n",
    "    - 예) 아이폰 - 출시일: 2007년, 운영체제: iOS, 디스플레이 크기:3.5인치\n",
    "    - 예) '개발' - 개발시기: 2007년 이후, 개발 조건: iOS기반"
   ]
  },
  {
   "cell_type": "markdown",
   "id": "fa2bc9f4",
   "metadata": {},
   "source": [
    "#### 지식그래프 특징\n",
    "- 단순한 관계 연결을 넘어 복잡한 정보 구조를 표헌할 수 있다는 점입니다. 또한 속성을 통해 관계를 더 풍부하게 표현할 수 있습니다.\n",
    "- 직접적으로 연결되지 않은 정보 사이의 관계를 유추할 수 있습니다.\n",
    "    - 예) 스티브 잡스가 애플을 공동 창업했다. 스티브 잡스가 픽사의 CEO였다\n",
    "    - 스티브 잡스라는 노드를 중심으로 애플과 픽사가 연결되어 있음을 한눈에 파악할 수 있습니다.\n",
    "    - 애플과 픽사 사이의 간접적인 연관성을 쉽게 추론할 수 있으며, 두 회사의 혁신적인 기업 문화나 창의적인 제품 개발 철학과 같은 공통점을 예측해볼 수도 있습니다.\n",
    "- 효율적인 정보 검색입니다.\n",
    "    - 예) 애플 노드에서 시작하여 이웃 노드인 맥북, 스티브 잡스, 팀 쿡등의 정보를 쉽게 검색할 수 있습니다."
   ]
  },
  {
   "cell_type": "code",
   "execution_count": 17,
   "id": "67b29a33",
   "metadata": {},
   "outputs": [
    {
     "data": {
      "text/html": [
       "<svg id=\"mermaid-svg\" width=\"100%\" xmlns=\"http://www.w3.org/2000/svg\" class=\"flowchart\" style=\"max-width: 424.125px;\" viewBox=\"0 0 424.125 208\" role=\"graphics-document document\" aria-roledescription=\"flowchart-v2\" xmlns:xlink=\"http://www.w3.org/1999/xlink\"><style xmlns=\"http://www.w3.org/1999/xhtml\">@import url(\"https://cdnjs.cloudflare.com/ajax/libs/font-awesome/6.7.2/css/all.min.css\");</style><style>#mermaid-svg{font-family:\"trebuchet ms\",verdana,arial,sans-serif;font-size:16px;fill:#ccc;}@keyframes edge-animation-frame{from{stroke-dashoffset:0;}}@keyframes dash{to{stroke-dashoffset:0;}}#mermaid-svg .edge-animation-slow{stroke-dasharray:9,5!important;stroke-dashoffset:900;animation:dash 50s linear infinite;stroke-linecap:round;}#mermaid-svg .edge-animation-fast{stroke-dasharray:9,5!important;stroke-dashoffset:900;animation:dash 20s linear infinite;stroke-linecap:round;}#mermaid-svg .error-icon{fill:#a44141;}#mermaid-svg .error-text{fill:#ddd;stroke:#ddd;}#mermaid-svg .edge-thickness-normal{stroke-width:1px;}#mermaid-svg .edge-thickness-thick{stroke-width:3.5px;}#mermaid-svg .edge-pattern-solid{stroke-dasharray:0;}#mermaid-svg .edge-thickness-invisible{stroke-width:0;fill:none;}#mermaid-svg .edge-pattern-dashed{stroke-dasharray:3;}#mermaid-svg .edge-pattern-dotted{stroke-dasharray:2;}#mermaid-svg .marker{fill:lightgrey;stroke:lightgrey;}#mermaid-svg .marker.cross{stroke:lightgrey;}#mermaid-svg svg{font-family:\"trebuchet ms\",verdana,arial,sans-serif;font-size:16px;}#mermaid-svg p{margin:0;}#mermaid-svg .label{font-family:\"trebuchet ms\",verdana,arial,sans-serif;color:#ccc;}#mermaid-svg .cluster-label text{fill:#F9FFFE;}#mermaid-svg .cluster-label span{color:#F9FFFE;}#mermaid-svg .cluster-label span p{background-color:transparent;}#mermaid-svg .label text,#mermaid-svg span{fill:#ccc;color:#ccc;}#mermaid-svg .node rect,#mermaid-svg .node circle,#mermaid-svg .node ellipse,#mermaid-svg .node polygon,#mermaid-svg .node path{fill:#1f2020;stroke:#ccc;stroke-width:1px;}#mermaid-svg .rough-node .label text,#mermaid-svg .node .label text,#mermaid-svg .image-shape .label,#mermaid-svg .icon-shape .label{text-anchor:middle;}#mermaid-svg .node .katex path{fill:#000;stroke:#000;stroke-width:1px;}#mermaid-svg .rough-node .label,#mermaid-svg .node .label,#mermaid-svg .image-shape .label,#mermaid-svg .icon-shape .label{text-align:center;}#mermaid-svg .node.clickable{cursor:pointer;}#mermaid-svg .root .anchor path{fill:lightgrey!important;stroke-width:0;stroke:lightgrey;}#mermaid-svg .arrowheadPath{fill:lightgrey;}#mermaid-svg .edgePath .path{stroke:lightgrey;stroke-width:2.0px;}#mermaid-svg .flowchart-link{stroke:lightgrey;fill:none;}#mermaid-svg .edgeLabel{background-color:hsl(0, 0%, 34.4117647059%);text-align:center;}#mermaid-svg .edgeLabel p{background-color:hsl(0, 0%, 34.4117647059%);}#mermaid-svg .edgeLabel rect{opacity:0.5;background-color:hsl(0, 0%, 34.4117647059%);fill:hsl(0, 0%, 34.4117647059%);}#mermaid-svg .labelBkg{background-color:rgba(87.75, 87.75, 87.75, 0.5);}#mermaid-svg .cluster rect{fill:hsl(180, 1.5873015873%, 28.3529411765%);stroke:rgba(255, 255, 255, 0.25);stroke-width:1px;}#mermaid-svg .cluster text{fill:#F9FFFE;}#mermaid-svg .cluster span{color:#F9FFFE;}#mermaid-svg div.mermaidTooltip{position:absolute;text-align:center;max-width:200px;padding:2px;font-family:\"trebuchet ms\",verdana,arial,sans-serif;font-size:12px;background:hsl(20, 1.5873015873%, 12.3529411765%);border:1px solid rgba(255, 255, 255, 0.25);border-radius:2px;pointer-events:none;z-index:100;}#mermaid-svg .flowchartTitleText{text-anchor:middle;font-size:18px;fill:#ccc;}#mermaid-svg rect.text{fill:none;stroke-width:0;}#mermaid-svg .icon-shape,#mermaid-svg .image-shape{background-color:hsl(0, 0%, 34.4117647059%);text-align:center;}#mermaid-svg .icon-shape p,#mermaid-svg .image-shape p{background-color:hsl(0, 0%, 34.4117647059%);padding:2px;}#mermaid-svg .icon-shape rect,#mermaid-svg .image-shape rect{opacity:0.5;background-color:hsl(0, 0%, 34.4117647059%);fill:hsl(0, 0%, 34.4117647059%);}#mermaid-svg :root{--mermaid-font-family:\"trebuchet ms\",verdana,arial,sans-serif;}</style><g><marker id=\"mermaid-svg_flowchart-v2-pointEnd\" class=\"marker flowchart-v2\" viewBox=\"0 0 10 10\" refX=\"5\" refY=\"5\" markerUnits=\"userSpaceOnUse\" markerWidth=\"8\" markerHeight=\"8\" orient=\"auto\"><path d=\"M 0 0 L 10 5 L 0 10 z\" class=\"arrowMarkerPath\" style=\"stroke-width: 1; stroke-dasharray: 1, 0;\"/></marker><marker id=\"mermaid-svg_flowchart-v2-pointStart\" class=\"marker flowchart-v2\" viewBox=\"0 0 10 10\" refX=\"4.5\" refY=\"5\" markerUnits=\"userSpaceOnUse\" markerWidth=\"8\" markerHeight=\"8\" orient=\"auto\"><path d=\"M 0 5 L 10 10 L 10 0 z\" class=\"arrowMarkerPath\" style=\"stroke-width: 1; stroke-dasharray: 1, 0;\"/></marker><marker id=\"mermaid-svg_flowchart-v2-circleEnd\" class=\"marker flowchart-v2\" viewBox=\"0 0 10 10\" refX=\"11\" refY=\"5\" markerUnits=\"userSpaceOnUse\" markerWidth=\"11\" markerHeight=\"11\" orient=\"auto\"><circle cx=\"5\" cy=\"5\" r=\"5\" class=\"arrowMarkerPath\" style=\"stroke-width: 1; stroke-dasharray: 1, 0;\"/></marker><marker id=\"mermaid-svg_flowchart-v2-circleStart\" class=\"marker flowchart-v2\" viewBox=\"0 0 10 10\" refX=\"-1\" refY=\"5\" markerUnits=\"userSpaceOnUse\" markerWidth=\"11\" markerHeight=\"11\" orient=\"auto\"><circle cx=\"5\" cy=\"5\" r=\"5\" class=\"arrowMarkerPath\" style=\"stroke-width: 1; stroke-dasharray: 1, 0;\"/></marker><marker id=\"mermaid-svg_flowchart-v2-crossEnd\" class=\"marker cross flowchart-v2\" viewBox=\"0 0 11 11\" refX=\"12\" refY=\"5.2\" markerUnits=\"userSpaceOnUse\" markerWidth=\"11\" markerHeight=\"11\" orient=\"auto\"><path d=\"M 1,1 l 9,9 M 10,1 l -9,9\" class=\"arrowMarkerPath\" style=\"stroke-width: 2; stroke-dasharray: 1, 0;\"/></marker><marker id=\"mermaid-svg_flowchart-v2-crossStart\" class=\"marker cross flowchart-v2\" viewBox=\"0 0 11 11\" refX=\"-1\" refY=\"5.2\" markerUnits=\"userSpaceOnUse\" markerWidth=\"11\" markerHeight=\"11\" orient=\"auto\"><path d=\"M 1,1 l 9,9 M 10,1 l -9,9\" class=\"arrowMarkerPath\" style=\"stroke-width: 2; stroke-dasharray: 1, 0;\"/></marker><g class=\"root\"><g class=\"clusters\"/><g class=\"edgePaths\"><path d=\"M55,92L62.056,92C69.112,92,83.224,92,97.336,92C111.448,92,125.56,92,132.616,92L139.672,92\" id=\"L_A_B_0\" class=\" edge-thickness-normal edge-pattern-solid edge-thickness-normal edge-pattern-solid flowchart-link\" style=\"\"/><path d=\"M182.724,78.962L194.586,71.052C206.448,63.141,230.173,47.321,257.24,39.41C284.307,31.5,314.716,31.5,329.921,31.5L345.125,31.5\" id=\"L_B_C_0\" class=\" edge-thickness-normal edge-pattern-solid edge-thickness-normal edge-pattern-solid flowchart-link\" style=\"\"/><path d=\"M182.724,105.038L194.586,112.948C206.448,120.859,230.173,136.679,253.24,144.59C276.307,152.5,298.716,152.5,309.921,152.5L321.125,152.5\" id=\"L_B_D_0\" class=\" edge-thickness-normal edge-pattern-solid edge-thickness-normal edge-pattern-solid flowchart-link\" style=\"\"/></g><g class=\"edgeLabels\"><g class=\"edgeLabel\" transform=\"translate(97.3359375, 92)\"><g class=\"label\" transform=\"translate(-17.3359375, -12)\"><foreignObject width=\"34.671875\" height=\"24\"><div xmlns=\"http://www.w3.org/1999/xhtml\" class=\"labelBkg\" style=\"display: table-cell; white-space: nowrap; line-height: 1.5; max-width: 200px; text-align: center;\"><span class=\"edgeLabel \"><p>CEO</p></span></div></foreignObject></g></g><g class=\"edgeLabel\" transform=\"translate(253.8984375, 31.5)\"><g class=\"label\" transform=\"translate(-16, -12)\"><foreignObject width=\"32\" height=\"24\"><div xmlns=\"http://www.w3.org/1999/xhtml\" class=\"labelBkg\" style=\"display: table-cell; white-space: nowrap; line-height: 1.5; max-width: 200px; text-align: center;\"><span class=\"edgeLabel \"><p>개발</p></span></div></foreignObject></g></g><g class=\"edgeLabel\" transform=\"translate(253.8984375, 152.5)\"><g class=\"label\" transform=\"translate(-42.2265625, -12)\"><foreignObject width=\"84.453125\" height=\"24\"><div xmlns=\"http://www.w3.org/1999/xhtml\" class=\"labelBkg\" style=\"display: table-cell; white-space: nowrap; line-height: 1.5; max-width: 200px; text-align: center;\"><span class=\"edgeLabel \"><p>공동 창업자</p></span></div></foreignObject></g></g></g><g class=\"nodes\"><g class=\"node default  \" id=\"flowchart-A-0\" transform=\"translate(31.5, 92)\"><circle class=\"basic label-container\" style=\"\" r=\"23.5\" cx=\"0\" cy=\"0\"/><g class=\"label\" style=\"\" transform=\"translate(-16, -12)\"><rect/><foreignObject width=\"32\" height=\"24\"><div xmlns=\"http://www.w3.org/1999/xhtml\" style=\"display: table-cell; white-space: nowrap; line-height: 1.5; max-width: 200px; text-align: center;\"><span class=\"nodeLabel \"><p>팀쿡</p></span></div></foreignObject></g></g><g class=\"node default  \" id=\"flowchart-B-1\" transform=\"translate(163.171875, 92)\"><circle class=\"basic label-container\" style=\"\" r=\"23.5\" cx=\"0\" cy=\"0\"/><g class=\"label\" style=\"\" transform=\"translate(-16, -12)\"><rect/><foreignObject width=\"32\" height=\"24\"><div xmlns=\"http://www.w3.org/1999/xhtml\" style=\"display: table-cell; white-space: nowrap; line-height: 1.5; max-width: 200px; text-align: center;\"><span class=\"nodeLabel \"><p>애플</p></span></div></foreignObject></g></g><g class=\"node default  \" id=\"flowchart-C-2\" transform=\"translate(368.625, 31.5)\"><circle class=\"basic label-container\" style=\"\" r=\"23.5\" cx=\"0\" cy=\"0\"/><g class=\"label\" style=\"\" transform=\"translate(-16, -12)\"><rect/><foreignObject width=\"32\" height=\"24\"><div xmlns=\"http://www.w3.org/1999/xhtml\" style=\"display: table-cell; white-space: nowrap; line-height: 1.5; max-width: 200px; text-align: center;\"><span class=\"nodeLabel \"><p>맥북</p></span></div></foreignObject></g></g><g class=\"node default  \" id=\"flowchart-D-3\" transform=\"translate(368.625, 152.5)\"><circle class=\"basic label-container\" style=\"\" r=\"47.5\" cx=\"0\" cy=\"0\"/><g class=\"label\" style=\"\" transform=\"translate(-40, -12)\"><rect/><foreignObject width=\"80\" height=\"24\"><div xmlns=\"http://www.w3.org/1999/xhtml\" style=\"display: table-cell; white-space: nowrap; line-height: 1.5; max-width: 200px; text-align: center;\"><span class=\"nodeLabel \"><p>스티브잡스</p></span></div></foreignObject></g></g></g></g></g></svg>"
      ],
      "text/plain": [
       "<mermaid.__main__.Mermaid at 0x22c20cf0d10>"
      ]
     },
     "execution_count": 17,
     "metadata": {},
     "output_type": "execute_result"
    }
   ],
   "source": [
    "import mermaid as md\n",
    "from mermaid.graph import Graph\n",
    "render = md.Mermaid(\"\"\"\n",
    "%%{init: {'theme':'dark'}}%%\n",
    "flowchart LR\n",
    "    A((팀쿡))\n",
    "    B((애플))\n",
    "    C((맥북))\n",
    "    D((스티브잡스))\n",
    "    A ---|CEO|B ---|개발| C\n",
    "    B ---|공동 창업자| D\n",
    "\"\"\")\n",
    "render"
   ]
  },
  {
   "cell_type": "markdown",
   "id": "90315976",
   "metadata": {},
   "source": [
    "- 지식 그래프의 장점을 적극적으로 활용하여, 단순한 키워드 매칭을 넘어 정보간의 복잡한 관계를 고려한 고급 추론 답변 생성을 수행합니다."
   ]
  },
  {
   "cell_type": "markdown",
   "id": "b6598abc",
   "metadata": {},
   "source": [
    "## 1.3 그래프 RAG의 동작과정\n",
    "- 그래프 RAG 시스템은 먼저 그래프DB를 구축한 후, 사용자 질의에 따라 적절한 검색 방식을 적용하여 답변을 생성하는 방식으로 작동합니다.\n",
    "- 그래프 DB 구축 단계에서는 문서 내용을 분석하여 지식 그래프를 생성합니다.\n",
    "- 이 과정에서 문서에서 추출한 주요 개념과 그들 사이의 관계를 구조화하여 그래프 형태로 저장합니다.\n",
    "- 이후 구축된 그래프 내에서 서로 밀접하게 연관된 개체들의 그룹을 찾아내고, 핵심 내용을 요약하여 정보검색을 효율적으로 수행할 수 있도록 합니다.\n",
    "- 사용자가 질문을 하면 질문의 성격에 따라 2가지 검색방식을 사용합니다.\n",
    "    - 로컬 검색: 질문과 직접적으로 관련된 개체들을 식별하고, 이들과 연관된 정보를 수집하여 상세한 답변을 제공합니다. 특정 주제나 세부 정보를 묻는 질문에 효과적입니다.\n",
    "    - 글로벌 검색: 문서 전체를 아우르는 포괄적인 질문에 대해, 여러 커뮤니티 요약을 활용하여 종합적인 답변을 제공합니다.\n",
    "- 그래프RAG는 방대한 문서 컬렉션에서도 관련성 높은 정보를 빠르게 찾아내고, 이를 바탕으로 포괄적이고 정확한 답변을 생성할 수 있습니다."
   ]
  }
 ],
 "metadata": {
  "kernelspec": {
   "display_name": ".venv",
   "language": "python",
   "name": "python3"
  },
  "language_info": {
   "codemirror_mode": {
    "name": "ipython",
    "version": 3
   },
   "file_extension": ".py",
   "mimetype": "text/x-python",
   "name": "python",
   "nbconvert_exporter": "python",
   "pygments_lexer": "ipython3",
   "version": "3.11.12"
  }
 },
 "nbformat": 4,
 "nbformat_minor": 5
}
